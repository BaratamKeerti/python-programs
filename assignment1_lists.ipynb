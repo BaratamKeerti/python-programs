{
  "nbformat": 4,
  "nbformat_minor": 0,
  "metadata": {
    "colab": {
      "name": "assignment1 lists.ipynb",
      "provenance": [],
      "collapsed_sections": [],
      "authorship_tag": "ABX9TyPTJ0jrcA5Jtr0WmEbrHdVk",
      "include_colab_link": true
    },
    "kernelspec": {
      "name": "python3",
      "display_name": "Python 3"
    },
    "language_info": {
      "name": "python"
    }
  },
  "cells": [
    {
      "cell_type": "markdown",
      "metadata": {
        "id": "view-in-github",
        "colab_type": "text"
      },
      "source": [
        "<a href=\"https://colab.research.google.com/github/BaratamKeerti/python-programs/blob/main/assignment1_lists.ipynb\" target=\"_parent\"><img src=\"https://colab.research.google.com/assets/colab-badge.svg\" alt=\"Open In Colab\"/></a>"
      ]
    },
    {
      "cell_type": "code",
      "execution_count": 3,
      "metadata": {
        "colab": {
          "base_uri": "https://localhost:8080/"
        },
        "id": "cI_tpfNxYImG",
        "outputId": "f7fdef49-fd9a-4272-9246-a54512743c8a"
      },
      "outputs": [
        {
          "output_type": "stream",
          "name": "stdout",
          "text": [
            "['rose', 'lilly', 'jasmine', 'tulip']\n",
            "<class 'list'>\n"
          ]
        }
      ],
      "source": [
        "#creating a list\n",
        "flowers=['rose','lilly','jasmine','tulip']\n",
        "print(flowers)\n",
        "print(type(flowers))"
      ]
    },
    {
      "cell_type": "code",
      "source": [
        "#finding length of the list\n",
        "flowers=['rose','lilly','jasmine','tulip']\n",
        "print(len(flowers))"
      ],
      "metadata": {
        "colab": {
          "base_uri": "https://localhost:8080/"
        },
        "id": "ZRwqPpjdewaT",
        "outputId": "d81426aa-9eff-466b-9c58-c13495ce917a"
      },
      "execution_count": 2,
      "outputs": [
        {
          "output_type": "stream",
          "name": "stdout",
          "text": [
            "4\n"
          ]
        }
      ]
    },
    {
      "cell_type": "markdown",
      "source": [
        "## ACCESSING LIST ITEMS."
      ],
      "metadata": {
        "id": "Tk3HVv16fZbf"
      }
    },
    {
      "cell_type": "code",
      "source": [
        "#printing the element in the list\n",
        "flowers=['rose','lilly','jasmine','tulip']\n",
        "print(flowers[2])"
      ],
      "metadata": {
        "colab": {
          "base_uri": "https://localhost:8080/"
        },
        "id": "6dhqf1Cwfxrm",
        "outputId": "f8c4636f-3b02-49ba-9a1f-daeac3aaf987"
      },
      "execution_count": 4,
      "outputs": [
        {
          "output_type": "stream",
          "name": "stdout",
          "text": [
            "jasmine\n"
          ]
        }
      ]
    },
    {
      "cell_type": "code",
      "source": [
        "#printing the element in the list using negative index\n",
        "flowers=['rose','lilly','jasmine','tulip']\n",
        "print(flowers[-3])"
      ],
      "metadata": {
        "colab": {
          "base_uri": "https://localhost:8080/"
        },
        "id": "KvqLaUilgBzr",
        "outputId": "99dc18f2-0cde-493a-b5d7-6a8a01752055"
      },
      "execution_count": 5,
      "outputs": [
        {
          "output_type": "stream",
          "name": "stdout",
          "text": [
            "lilly\n"
          ]
        }
      ]
    },
    {
      "cell_type": "code",
      "source": [
        "#Range of Indexes\n",
        "flowers=['rose','lilly','jasmine','tulip']\n",
        "print(flowers[0:4])"
      ],
      "metadata": {
        "colab": {
          "base_uri": "https://localhost:8080/"
        },
        "id": "IzvS9Oi6gUTp",
        "outputId": "94a5f006-bd59-4472-a3af-3290887a29bc"
      },
      "execution_count": 6,
      "outputs": [
        {
          "output_type": "stream",
          "name": "stdout",
          "text": [
            "['rose', 'lilly', 'jasmine', 'tulip']\n"
          ]
        }
      ]
    },
    {
      "cell_type": "code",
      "source": [
        "#printing from the given index to the end\n",
        "flowers=['rose','lilly','jasmine','tulip']\n",
        "print(flowers[1:])"
      ],
      "metadata": {
        "colab": {
          "base_uri": "https://localhost:8080/"
        },
        "id": "adYcR7lWggnq",
        "outputId": "ca372f6c-ecc0-4765-938e-536ac26f2847"
      },
      "execution_count": 8,
      "outputs": [
        {
          "output_type": "stream",
          "name": "stdout",
          "text": [
            "['lilly', 'jasmine', 'tulip']\n"
          ]
        }
      ]
    },
    {
      "cell_type": "code",
      "source": [
        "#printing from the start till the given ending position\n",
        "flowers=['rose','lilly','jasmine','tulip']\n",
        "print(flowers[:3])"
      ],
      "metadata": {
        "colab": {
          "base_uri": "https://localhost:8080/"
        },
        "id": "vg-OuJptgyoB",
        "outputId": "e5cc490f-3a66-44b8-d7f4-96aa585c0295"
      },
      "execution_count": 9,
      "outputs": [
        {
          "output_type": "stream",
          "name": "stdout",
          "text": [
            "['rose', 'lilly', 'jasmine']\n"
          ]
        }
      ]
    },
    {
      "cell_type": "code",
      "source": [
        "#printing the list using negative indexes\n",
        "flowers=['rose','lilly','jasmine','tulip']\n",
        "print(flowers[-3:-1])"
      ],
      "metadata": {
        "colab": {
          "base_uri": "https://localhost:8080/"
        },
        "id": "Sw2vmtzuhFOO",
        "outputId": "e7e0d7ee-bc24-4e1e-8c16-888cddf24ef5"
      },
      "execution_count": 11,
      "outputs": [
        {
          "output_type": "stream",
          "name": "stdout",
          "text": [
            "['lilly', 'jasmine']\n"
          ]
        }
      ]
    },
    {
      "cell_type": "code",
      "source": [
        "#checking if an element is present in the list\n",
        "flowers=['rose','lilly','jasmine','tulip']\n",
        "if 'rose' in flowers:\n",
        "  print('rose is present in the flowers')"
      ],
      "metadata": {
        "colab": {
          "base_uri": "https://localhost:8080/"
        },
        "id": "E7h46KvDhVxk",
        "outputId": "9e2eceeb-e5a0-4c43-d9c6-cace83e9a1bd"
      },
      "execution_count": 17,
      "outputs": [
        {
          "output_type": "stream",
          "name": "stdout",
          "text": [
            "rose is present in the flowers\n"
          ]
        }
      ]
    },
    {
      "cell_type": "code",
      "source": [
        ""
      ],
      "metadata": {
        "id": "g85uF8ysh6yR"
      },
      "execution_count": null,
      "outputs": []
    }
  ]
}