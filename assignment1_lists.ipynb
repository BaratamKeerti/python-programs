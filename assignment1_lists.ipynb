{
  "nbformat": 4,
  "nbformat_minor": 0,
  "metadata": {
    "colab": {
      "name": "assignment1 lists.ipynb",
      "provenance": [],
      "collapsed_sections": [],
      "authorship_tag": "ABX9TyP4RcY+wYEkCKYrpEbXTECf",
      "include_colab_link": true
    },
    "kernelspec": {
      "name": "python3",
      "display_name": "Python 3"
    },
    "language_info": {
      "name": "python"
    }
  },
  "cells": [
    {
      "cell_type": "markdown",
      "metadata": {
        "id": "view-in-github",
        "colab_type": "text"
      },
      "source": [
        "<a href=\"https://colab.research.google.com/github/BaratamKeerti/python-programs/blob/main/assignment1_lists.ipynb\" target=\"_parent\"><img src=\"https://colab.research.google.com/assets/colab-badge.svg\" alt=\"Open In Colab\"/></a>"
      ]
    },
    {
      "cell_type": "code",
      "execution_count": null,
      "metadata": {
        "colab": {
          "base_uri": "https://localhost:8080/"
        },
        "id": "cI_tpfNxYImG",
        "outputId": "f7fdef49-fd9a-4272-9246-a54512743c8a"
      },
      "outputs": [
        {
          "output_type": "stream",
          "name": "stdout",
          "text": [
            "['rose', 'lilly', 'jasmine', 'tulip']\n",
            "<class 'list'>\n"
          ]
        }
      ],
      "source": [
        "#creating a list\n",
        "flowers=['rose','lilly','jasmine','tulip']\n",
        "print(flowers)\n",
        "print(type(flowers))"
      ]
    },
    {
      "cell_type": "code",
      "source": [
        "#finding length of the list\n",
        "flowers=['rose','lilly','jasmine','tulip']\n",
        "print(len(flowers))"
      ],
      "metadata": {
        "colab": {
          "base_uri": "https://localhost:8080/"
        },
        "id": "ZRwqPpjdewaT",
        "outputId": "d81426aa-9eff-466b-9c58-c13495ce917a"
      },
      "execution_count": null,
      "outputs": [
        {
          "output_type": "stream",
          "name": "stdout",
          "text": [
            "4\n"
          ]
        }
      ]
    },
    {
      "cell_type": "markdown",
      "source": [
        "## ACCESSING LIST ITEMS."
      ],
      "metadata": {
        "id": "Tk3HVv16fZbf"
      }
    },
    {
      "cell_type": "code",
      "source": [
        "#printing the element in the list\n",
        "flowers=['rose','lilly','jasmine','tulip']\n",
        "print(flowers[2])"
      ],
      "metadata": {
        "colab": {
          "base_uri": "https://localhost:8080/"
        },
        "id": "6dhqf1Cwfxrm",
        "outputId": "f8c4636f-3b02-49ba-9a1f-daeac3aaf987"
      },
      "execution_count": null,
      "outputs": [
        {
          "output_type": "stream",
          "name": "stdout",
          "text": [
            "jasmine\n"
          ]
        }
      ]
    },
    {
      "cell_type": "code",
      "source": [
        "#printing the element in the list using negative index\n",
        "flowers=['rose','lilly','jasmine','tulip']\n",
        "print(flowers[-3])"
      ],
      "metadata": {
        "colab": {
          "base_uri": "https://localhost:8080/"
        },
        "id": "KvqLaUilgBzr",
        "outputId": "99dc18f2-0cde-493a-b5d7-6a8a01752055"
      },
      "execution_count": null,
      "outputs": [
        {
          "output_type": "stream",
          "name": "stdout",
          "text": [
            "lilly\n"
          ]
        }
      ]
    },
    {
      "cell_type": "code",
      "source": [
        "#Range of Indexes\n",
        "flowers=['rose','lilly','jasmine','tulip']\n",
        "print(flowers[0:4])"
      ],
      "metadata": {
        "colab": {
          "base_uri": "https://localhost:8080/"
        },
        "id": "IzvS9Oi6gUTp",
        "outputId": "94a5f006-bd59-4472-a3af-3290887a29bc"
      },
      "execution_count": null,
      "outputs": [
        {
          "output_type": "stream",
          "name": "stdout",
          "text": [
            "['rose', 'lilly', 'jasmine', 'tulip']\n"
          ]
        }
      ]
    },
    {
      "cell_type": "code",
      "source": [
        "#printing from the given index to the end\n",
        "flowers=['rose','lilly','jasmine','tulip']\n",
        "print(flowers[1:])"
      ],
      "metadata": {
        "colab": {
          "base_uri": "https://localhost:8080/"
        },
        "id": "adYcR7lWggnq",
        "outputId": "ca372f6c-ecc0-4765-938e-536ac26f2847"
      },
      "execution_count": null,
      "outputs": [
        {
          "output_type": "stream",
          "name": "stdout",
          "text": [
            "['lilly', 'jasmine', 'tulip']\n"
          ]
        }
      ]
    },
    {
      "cell_type": "code",
      "source": [
        "#printing from the start till the given ending position\n",
        "flowers=['rose','lilly','jasmine','tulip']\n",
        "print(flowers[:3])"
      ],
      "metadata": {
        "colab": {
          "base_uri": "https://localhost:8080/"
        },
        "id": "vg-OuJptgyoB",
        "outputId": "e5cc490f-3a66-44b8-d7f4-96aa585c0295"
      },
      "execution_count": null,
      "outputs": [
        {
          "output_type": "stream",
          "name": "stdout",
          "text": [
            "['rose', 'lilly', 'jasmine']\n"
          ]
        }
      ]
    },
    {
      "cell_type": "code",
      "source": [
        "#printing the list using negative indexes\n",
        "flowers=['rose','lilly','jasmine','tulip']\n",
        "print(flowers[-3:-1])"
      ],
      "metadata": {
        "colab": {
          "base_uri": "https://localhost:8080/"
        },
        "id": "Sw2vmtzuhFOO",
        "outputId": "e7e0d7ee-bc24-4e1e-8c16-888cddf24ef5"
      },
      "execution_count": null,
      "outputs": [
        {
          "output_type": "stream",
          "name": "stdout",
          "text": [
            "['lilly', 'jasmine']\n"
          ]
        }
      ]
    },
    {
      "cell_type": "code",
      "source": [
        "#checking if an element is present in the list\n",
        "flowers=['rose','lilly','jasmine','tulip']\n",
        "if 'rose' in flowers:\n",
        "  print('rose is present in the flowers')"
      ],
      "metadata": {
        "colab": {
          "base_uri": "https://localhost:8080/"
        },
        "id": "E7h46KvDhVxk",
        "outputId": "9e2eceeb-e5a0-4c43-d9c6-cace83e9a1bd"
      },
      "execution_count": null,
      "outputs": [
        {
          "output_type": "stream",
          "name": "stdout",
          "text": [
            "rose is present in the flowers\n"
          ]
        }
      ]
    },
    {
      "cell_type": "markdown",
      "source": [
        "## *CHANGE LIST ITEMS*"
      ],
      "metadata": {
        "id": "ihHijIK7micz"
      }
    },
    {
      "cell_type": "code",
      "source": [
        "#changing the given element with the other element in the list\n",
        "flowers=['rose','lilly','jasmine','tulip']\n",
        "flowers[2]='marigold'\n",
        "print(flowers)"
      ],
      "metadata": {
        "colab": {
          "base_uri": "https://localhost:8080/"
        },
        "id": "aowCaA2nmy9Q",
        "outputId": "2db5a426-6390-4e99-ddd3-15d638629a44"
      },
      "execution_count": 18,
      "outputs": [
        {
          "output_type": "stream",
          "name": "stdout",
          "text": [
            "['rose', 'lilly', 'marigold', 'tulip']\n"
          ]
        }
      ]
    },
    {
      "cell_type": "code",
      "source": [
        "#changing the range of elements with the other elements in the list\n",
        "flowers=['rose','lilly','jasmine','tulip']\n",
        "flowers[0:2]='iris','lotus','sunflower'\n",
        "print(flowers)"
      ],
      "metadata": {
        "colab": {
          "base_uri": "https://localhost:8080/"
        },
        "id": "vsO1ONBAoajE",
        "outputId": "ad25801d-ff4c-416c-dcb8-cfd582bc882d"
      },
      "execution_count": 19,
      "outputs": [
        {
          "output_type": "stream",
          "name": "stdout",
          "text": [
            "['iris', 'lotus', 'sunflower', 'jasmine', 'tulip']\n"
          ]
        }
      ]
    },
    {
      "cell_type": "code",
      "source": [
        "#changing the range of elements with the other elements in the list\n",
        "flowers=['rose','lilly','jasmine','tulip']\n",
        "flowers[1:2]='lotus','sunflower'\n",
        "print(flowers)"
      ],
      "metadata": {
        "colab": {
          "base_uri": "https://localhost:8080/"
        },
        "id": "ArWrW3Kso837",
        "outputId": "4316edf8-9511-4eea-f16d-f6024ae8ac1f"
      },
      "execution_count": 20,
      "outputs": [
        {
          "output_type": "stream",
          "name": "stdout",
          "text": [
            "['rose', 'lotus', 'sunflower', 'jasmine', 'tulip']\n"
          ]
        }
      ]
    },
    {
      "cell_type": "markdown",
      "source": [
        "## *ADD LIST ITEMS*"
      ],
      "metadata": {
        "id": "wflxx_X2prOu"
      }
    },
    {
      "cell_type": "code",
      "source": [
        "#inserting an element in the list\n",
        "flowers=['rose','lilly','jasmine','tulip']\n",
        "flowers.append('rufflesia')\n",
        "print(flowers)"
      ],
      "metadata": {
        "colab": {
          "base_uri": "https://localhost:8080/"
        },
        "id": "awgnJwYSp8Bw",
        "outputId": "41122e81-da23-4919-c7f9-0e3f9398e125"
      },
      "execution_count": 22,
      "outputs": [
        {
          "output_type": "stream",
          "name": "stdout",
          "text": [
            "['rose', 'lilly', 'jasmine', 'tulip', 'rufflesia']\n"
          ]
        }
      ]
    },
    {
      "cell_type": "code",
      "source": [
        "#inserting an element in the list at a particular index\n",
        "flowers=['rose','lilly','jasmine','tulip']\n",
        "flowers.insert(2,'lotus')\n",
        "print(flowers)"
      ],
      "metadata": {
        "colab": {
          "base_uri": "https://localhost:8080/"
        },
        "id": "tqWaNi4Xqyd4",
        "outputId": "11ec86f6-abf0-4ecd-da01-cadc6384b235"
      },
      "execution_count": 23,
      "outputs": [
        {
          "output_type": "stream",
          "name": "stdout",
          "text": [
            "['rose', 'lilly', 'lotus', 'jasmine', 'tulip']\n"
          ]
        }
      ]
    },
    {
      "cell_type": "code",
      "source": [
        "#extend list\n",
        "flowers=['rose','lilly','jasmine','tulip']\n",
        "newlist=['marigold','iris','sunflower','daisy']\n",
        "flowers.extend(newlist)\n",
        "print(flowers)"
      ],
      "metadata": {
        "colab": {
          "base_uri": "https://localhost:8080/"
        },
        "id": "kT5yCsTosG_r",
        "outputId": "f513459f-1b25-4512-e953-10099fd01d03"
      },
      "execution_count": 25,
      "outputs": [
        {
          "output_type": "stream",
          "name": "stdout",
          "text": [
            "['rose', 'lilly', 'jasmine', 'tulip', 'marigold', 'iris', 'sunflower', 'daisy']\n"
          ]
        }
      ]
    },
    {
      "cell_type": "markdown",
      "source": [
        "# *REMOVE LIST ITEMS*"
      ],
      "metadata": {
        "id": "t9NQ72IUuRAc"
      }
    },
    {
      "cell_type": "code",
      "source": [
        "#removing a specific item using remove\n",
        "flowers=['rose','lilly','jasmine','tulip']\n",
        "flowers.remove('lilly')\n",
        "print(flowers)"
      ],
      "metadata": {
        "colab": {
          "base_uri": "https://localhost:8080/"
        },
        "id": "jzpEOpy1ucRP",
        "outputId": "019fbb70-e0fe-4878-eb65-1083d3f7d940"
      },
      "execution_count": 27,
      "outputs": [
        {
          "output_type": "stream",
          "name": "stdout",
          "text": [
            "['rose', 'jasmine', 'tulip']\n"
          ]
        }
      ]
    },
    {
      "cell_type": "code",
      "source": [
        "#removing a specific item using pop\n",
        "flowers=['rose','lilly','jasmine','tulip']\n",
        "flowers.pop(2)\n",
        "print(flowers)"
      ],
      "metadata": {
        "colab": {
          "base_uri": "https://localhost:8080/"
        },
        "id": "LrZyLIs4u1sm",
        "outputId": "29c9c9bf-9fa0-47b1-ce5e-623003ee0747"
      },
      "execution_count": 28,
      "outputs": [
        {
          "output_type": "stream",
          "name": "stdout",
          "text": [
            "['rose', 'lilly', 'tulip']\n"
          ]
        }
      ]
    },
    {
      "cell_type": "code",
      "source": [
        "#removing a specific item using del\n",
        "flowers=['rose','lilly','jasmine','tulip']\n",
        "del flowers[0]\n",
        "print(flowers)"
      ],
      "metadata": {
        "colab": {
          "base_uri": "https://localhost:8080/"
        },
        "id": "g0-MmWqevMh0",
        "outputId": "049ee164-2b0c-478f-dbb7-a3e102aadc08"
      },
      "execution_count": 1,
      "outputs": [
        {
          "output_type": "stream",
          "name": "stdout",
          "text": [
            "['lilly', 'jasmine', 'tulip']\n"
          ]
        }
      ]
    },
    {
      "cell_type": "code",
      "source": [
        "#clearing the whole list\n",
        "flowers=['rose','lilly','jasmine','tulip']\n",
        "flowers.clear()\n",
        "print(flowers)"
      ],
      "metadata": {
        "colab": {
          "base_uri": "https://localhost:8080/"
        },
        "id": "is5Twntvvm5l",
        "outputId": "c467e51e-fd5e-409e-9acc-830d9cb2d382"
      },
      "execution_count": 5,
      "outputs": [
        {
          "output_type": "stream",
          "name": "stdout",
          "text": [
            "[]\n"
          ]
        }
      ]
    },
    {
      "cell_type": "markdown",
      "source": [
        "# *LOOPS*"
      ],
      "metadata": {
        "id": "0ZlLRfu7OMJL"
      }
    },
    {
      "cell_type": "code",
      "source": [
        "#for loop\n",
        "flowers=['rose','lilly','jasmine','tulip']\n",
        "for x in flowers:\n",
        "  print(x)"
      ],
      "metadata": {
        "colab": {
          "base_uri": "https://localhost:8080/"
        },
        "id": "f_eqyMniORPu",
        "outputId": "5fa126f4-76c6-4589-fabe-187510afe1f0"
      },
      "execution_count": 6,
      "outputs": [
        {
          "output_type": "stream",
          "name": "stdout",
          "text": [
            "rose\n",
            "lilly\n",
            "jasmine\n",
            "tulip\n"
          ]
        }
      ]
    },
    {
      "cell_type": "code",
      "source": [
        "#for loop\n",
        "flowers=['rose','lilly','jasmine','tulip']\n",
        "for x in range(len(flowers)):\n",
        "  print(flowers[x])"
      ],
      "metadata": {
        "colab": {
          "base_uri": "https://localhost:8080/"
        },
        "id": "VFHNmSPKObHn",
        "outputId": "42551f75-dd17-4613-efc8-b7fd05e8459a"
      },
      "execution_count": 8,
      "outputs": [
        {
          "output_type": "stream",
          "name": "stdout",
          "text": [
            "rose\n",
            "lilly\n",
            "jasmine\n",
            "tulip\n"
          ]
        }
      ]
    },
    {
      "cell_type": "code",
      "source": [
        "#while loop\n",
        "flowers=['rose','lilly','jasmine','tulip']\n",
        "i=0\n",
        "while i<len(flowers):\n",
        "  print(flowers[i])\n",
        "  i+=1"
      ],
      "metadata": {
        "colab": {
          "base_uri": "https://localhost:8080/"
        },
        "id": "x56PO-EJOnXU",
        "outputId": "a0c9fff1-1309-4b43-84d0-3283ef698b53"
      },
      "execution_count": 11,
      "outputs": [
        {
          "output_type": "stream",
          "name": "stdout",
          "text": [
            "rose\n",
            "lilly\n",
            "jasmine\n",
            "tulip\n"
          ]
        }
      ]
    },
    {
      "cell_type": "markdown",
      "source": [
        "# *LOOPING USING* *COMPREHENSION*"
      ],
      "metadata": {
        "id": "LEXTrtqFPIbn"
      }
    },
    {
      "cell_type": "code",
      "source": [
        "#using list comprehension instead of loops\n",
        "flowers=['rose','lilly','jasmine','tulip']\n",
        "[print(x) for x in flowers]"
      ],
      "metadata": {
        "colab": {
          "base_uri": "https://localhost:8080/"
        },
        "id": "_LQirvApPSKn",
        "outputId": "b428bcff-b46f-4d11-c188-fa626168f16e"
      },
      "execution_count": 12,
      "outputs": [
        {
          "output_type": "stream",
          "name": "stdout",
          "text": [
            "rose\n",
            "lilly\n",
            "jasmine\n",
            "tulip\n"
          ]
        },
        {
          "output_type": "execute_result",
          "data": {
            "text/plain": [
              "[None, None, None, None]"
            ]
          },
          "metadata": {},
          "execution_count": 12
        }
      ]
    },
    {
      "cell_type": "code",
      "source": [
        "#finding all the elements with the given starting letter and creating a list\n",
        "flowers=['rose','lilly','jasmine','tulip','rufflesia']\n",
        "newlist=[x for x in flowers if 'r' in x]\n",
        "print(newlist)"
      ],
      "metadata": {
        "colab": {
          "base_uri": "https://localhost:8080/"
        },
        "id": "IffwC7P-Pycs",
        "outputId": "d83828f9-1d53-4533-ca6c-4fb5f02ddf71"
      },
      "execution_count": 15,
      "outputs": [
        {
          "output_type": "stream",
          "name": "stdout",
          "text": [
            "['rose', 'rufflesia']\n"
          ]
        }
      ]
    },
    {
      "cell_type": "code",
      "source": [
        ""
      ],
      "metadata": {
        "id": "HCfD-hcoQZx6"
      },
      "execution_count": null,
      "outputs": []
    }
  ]
}