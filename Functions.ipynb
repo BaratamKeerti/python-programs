{
  "nbformat": 4,
  "nbformat_minor": 0,
  "metadata": {
    "colab": {
      "name": "Functions.ipynb",
      "provenance": [],
      "collapsed_sections": [],
      "authorship_tag": "ABX9TyMc22rF1wUV36jm9PtyAb8j",
      "include_colab_link": true
    },
    "kernelspec": {
      "name": "python3",
      "display_name": "Python 3"
    },
    "language_info": {
      "name": "python"
    }
  },
  "cells": [
    {
      "cell_type": "markdown",
      "metadata": {
        "id": "view-in-github",
        "colab_type": "text"
      },
      "source": [
        "<a href=\"https://colab.research.google.com/github/BaratamKeerti/python-programs/blob/main/Functions.ipynb\" target=\"_parent\"><img src=\"https://colab.research.google.com/assets/colab-badge.svg\" alt=\"Open In Colab\"/></a>"
      ]
    },
    {
      "cell_type": "markdown",
      "source": [
        "# *FUNCTIONS*"
      ],
      "metadata": {
        "id": "izZMRllSUIqv"
      }
    },
    {
      "cell_type": "code",
      "source": [
        "#creating and calling a function\n",
        "def my_name():\n",
        "  print('Keerti')                        #no argument and no return value\n",
        "my_name()"
      ],
      "metadata": {
        "colab": {
          "base_uri": "https://localhost:8080/"
        },
        "id": "XhxkB3pZUGpH",
        "outputId": "b34db2a8-48db-40e2-c08e-5a34a13c608f"
      },
      "execution_count": null,
      "outputs": [
        {
          "output_type": "stream",
          "name": "stdout",
          "text": [
            "Keerti\n"
          ]
        }
      ]
    },
    {
      "cell_type": "code",
      "source": [
        "#arguments\n",
        "def greeting(name):\n",
        "  print('Hello',name+'.')\n",
        "\n",
        "greeting('Keerti')\n",
        "greeting('Yasaswi')\n",
        "greeting('Family')"
      ],
      "metadata": {
        "colab": {
          "base_uri": "https://localhost:8080/"
        },
        "id": "pJv38jvSUz02",
        "outputId": "031c003e-c7f2-449a-8a9c-358c56ac1cbf"
      },
      "execution_count": null,
      "outputs": [
        {
          "output_type": "stream",
          "name": "stdout",
          "text": [
            "Hello Keerti.\n",
            "Hello Yasaswi.\n",
            "Hello Family.\n"
          ]
        }
      ]
    },
    {
      "cell_type": "code",
      "source": [
        "#number of arguments\n",
        "def sen(Istword, Sndword, Trdword):\n",
        "  print(\"Hello\", Istword +',',Sndword+'!!!!!',\"Live strong and live\" ,Trdword+'.')             \n",
        "sen('Buddiesssss',\"What's up\",'happy')                                               #with argument without return"
      ],
      "metadata": {
        "colab": {
          "base_uri": "https://localhost:8080/"
        },
        "id": "4RT4UREKW2NI",
        "outputId": "cf659330-2962-41f6-90c9-8d33c96c03bb"
      },
      "execution_count": 16,
      "outputs": [
        {
          "output_type": "stream",
          "name": "stdout",
          "text": [
            "Hello Buddiesssss, What's up!!!!! Live strong and live happy.\n"
          ]
        }
      ]
    },
    {
      "cell_type": "code",
      "source": [
        "#arbitrary arguments *args\n",
        "\n",
        "def grade(*students):\n",
        "  print(students[3], \"got highest grade among the school\")\n",
        "grade('christina','Bhattacharya','Emile','Varun','aishwarya','Julie')"
      ],
      "metadata": {
        "colab": {
          "base_uri": "https://localhost:8080/"
        },
        "id": "UFJxSBxWZ8ki",
        "outputId": "1b1c6fd5-f9f4-49c9-f467-99354973ff53"
      },
      "execution_count": 17,
      "outputs": [
        {
          "output_type": "stream",
          "name": "stdout",
          "text": [
            "Varun got highest grade among the school\n"
          ]
        }
      ]
    },
    {
      "cell_type": "code",
      "source": [
        "#with argument and without return\n",
        "def vote(name,age,gender):\n",
        "  print(\"name of the person is:\",name)\n",
        "  print(\"age of the person is:\",age)\n",
        "  print(\"gender of the person is:\",gender)\n",
        "  if age>=18:\n",
        "       print(\"eligible for voting\")\n",
        "  else:\n",
        "       print(\"not eligible for voting\")\n",
        "vote('Keerti',17,'female')"
      ],
      "metadata": {
        "colab": {
          "base_uri": "https://localhost:8080/"
        },
        "id": "40OKQb_mcaWz",
        "outputId": "bb393b25-9b79-4c45-e63c-85776331b0d4"
      },
      "execution_count": 19,
      "outputs": [
        {
          "output_type": "stream",
          "name": "stdout",
          "text": [
            "name of the person is: Keerti\n",
            "age of the person is: 17\n",
            "gender of the person is: female\n",
            "not eligible for voting\n"
          ]
        }
      ]
    },
    {
      "cell_type": "code",
      "source": [
        "#with argument with return\n",
        "def eligibility(*age):\n",
        "  for i in range(1,6):\n",
        "    if age[i]>18 or age[i]==18:\n",
        "        return 'eligible'\n",
        "    else:\n",
        "        return 'not eligible'\n",
        "eligibility(15,19,45)"
      ],
      "metadata": {
        "colab": {
          "base_uri": "https://localhost:8080/",
          "height": 35
        },
        "id": "sc3PCja9dsaD",
        "outputId": "9d3f0107-e1c6-4d14-dafc-0eadea73c3ea"
      },
      "execution_count": 43,
      "outputs": [
        {
          "output_type": "execute_result",
          "data": {
            "text/plain": [
              "'eligible'"
            ],
            "application/vnd.google.colaboratory.intrinsic+json": {
              "type": "string"
            }
          },
          "metadata": {},
          "execution_count": 43
        }
      ]
    },
    {
      "cell_type": "code",
      "source": [
        ""
      ],
      "metadata": {
        "id": "vhTWnkihiwaW"
      },
      "execution_count": null,
      "outputs": []
    }
  ]
}