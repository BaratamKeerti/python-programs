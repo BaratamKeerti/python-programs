{
  "nbformat": 4,
  "nbformat_minor": 0,
  "metadata": {
    "colab": {
      "name": "Functions.ipynb",
      "provenance": [],
      "collapsed_sections": [],
      "authorship_tag": "ABX9TyPsACbIN8vVNtlD2jAbspm0",
      "include_colab_link": true
    },
    "kernelspec": {
      "name": "python3",
      "display_name": "Python 3"
    },
    "language_info": {
      "name": "python"
    }
  },
  "cells": [
    {
      "cell_type": "markdown",
      "metadata": {
        "id": "view-in-github",
        "colab_type": "text"
      },
      "source": [
        "<a href=\"https://colab.research.google.com/github/BaratamKeerti/python-programs/blob/main/Functions.ipynb\" target=\"_parent\"><img src=\"https://colab.research.google.com/assets/colab-badge.svg\" alt=\"Open In Colab\"/></a>"
      ]
    },
    {
      "cell_type": "markdown",
      "source": [
        "# *FUNCTIONS*"
      ],
      "metadata": {
        "id": "izZMRllSUIqv"
      }
    },
    {
      "cell_type": "code",
      "source": [
        "#creating and calling a function\n",
        "def my_name():\n",
        "  print('Keerti')                        #no argument and no return value\n",
        "my_name()"
      ],
      "metadata": {
        "colab": {
          "base_uri": "https://localhost:8080/"
        },
        "id": "XhxkB3pZUGpH",
        "outputId": "b34db2a8-48db-40e2-c08e-5a34a13c608f"
      },
      "execution_count": null,
      "outputs": [
        {
          "output_type": "stream",
          "name": "stdout",
          "text": [
            "Keerti\n"
          ]
        }
      ]
    },
    {
      "cell_type": "code",
      "source": [
        "#arguments\n",
        "def greeting(name):\n",
        "  print('Hello',name+'.')\n",
        "\n",
        "greeting('Keerti')\n",
        "greeting('Yasaswi')\n",
        "greeting('Family')"
      ],
      "metadata": {
        "colab": {
          "base_uri": "https://localhost:8080/"
        },
        "id": "pJv38jvSUz02",
        "outputId": "031c003e-c7f2-449a-8a9c-358c56ac1cbf"
      },
      "execution_count": null,
      "outputs": [
        {
          "output_type": "stream",
          "name": "stdout",
          "text": [
            "Hello Keerti.\n",
            "Hello Yasaswi.\n",
            "Hello Family.\n"
          ]
        }
      ]
    },
    {
      "cell_type": "code",
      "source": [
        "#number of arguments\n",
        "def sen(Istword, Sndword, Trdword):\n",
        "  print(\"Hello\", Istword +',',Sndword+'!!!!!',\"Live strong and live\" ,Trdword+'.')             \n",
        "sen('Buddiesssss',\"What's up\",'happy')                                               #with argument without return"
      ],
      "metadata": {
        "colab": {
          "base_uri": "https://localhost:8080/"
        },
        "id": "4RT4UREKW2NI",
        "outputId": "cf659330-2962-41f6-90c9-8d33c96c03bb"
      },
      "execution_count": null,
      "outputs": [
        {
          "output_type": "stream",
          "name": "stdout",
          "text": [
            "Hello Buddiesssss, What's up!!!!! Live strong and live happy.\n"
          ]
        }
      ]
    },
    {
      "cell_type": "code",
      "source": [
        "#arbitrary arguments *args\n",
        "\n",
        "def grade(*students):\n",
        "  print(students[3], \"got highest grade among the school\")\n",
        "grade('christina','Bhattacharya','Emile','Varun','aishwarya','Julie')"
      ],
      "metadata": {
        "colab": {
          "base_uri": "https://localhost:8080/"
        },
        "id": "UFJxSBxWZ8ki",
        "outputId": "1b1c6fd5-f9f4-49c9-f467-99354973ff53"
      },
      "execution_count": null,
      "outputs": [
        {
          "output_type": "stream",
          "name": "stdout",
          "text": [
            "Varun got highest grade among the school\n"
          ]
        }
      ]
    },
    {
      "cell_type": "code",
      "source": [
        "#with argument and without return\n",
        "def vote(name,age,gender):\n",
        "  print(\"name of the person is:\",name)\n",
        "  print(\"age of the person is:\",age)\n",
        "  print(\"gender of the person is:\",gender)\n",
        "  if age>=18:\n",
        "       print(\"eligible for voting\")\n",
        "  else:\n",
        "       print(\"not eligible for voting\")\n",
        "vote('Keerti',17,'female')"
      ],
      "metadata": {
        "colab": {
          "base_uri": "https://localhost:8080/"
        },
        "id": "40OKQb_mcaWz",
        "outputId": "bb393b25-9b79-4c45-e63c-85776331b0d4"
      },
      "execution_count": null,
      "outputs": [
        {
          "output_type": "stream",
          "name": "stdout",
          "text": [
            "name of the person is: Keerti\n",
            "age of the person is: 17\n",
            "gender of the person is: female\n",
            "not eligible for voting\n"
          ]
        }
      ]
    },
    {
      "cell_type": "code",
      "source": [
        "#with argument with return\n",
        "def eligibility(age):\n",
        "    if age>=18:\n",
        "        return 'eligible'\n",
        "    else:\n",
        "        return 'not eligible'\n",
        "print(eligibility(15))\n",
        "print(eligibility(60))\n",
        "print(eligibility(6))"
      ],
      "metadata": {
        "colab": {
          "base_uri": "https://localhost:8080/"
        },
        "id": "sc3PCja9dsaD",
        "outputId": "6c24076d-fbee-4d88-d8c4-92f0f33fcb47"
      },
      "execution_count": 21,
      "outputs": [
        {
          "output_type": "stream",
          "name": "stdout",
          "text": [
            "not eligible\n",
            "eligible\n",
            "not eligible\n"
          ]
        }
      ]
    },
    {
      "cell_type": "code",
      "source": [
        "#Keyword Arguments\n",
        "def students(stu1,stu2,stu3,stu4):\n",
        "  print(\"The brightest student among all is:\"+stu3)\n",
        "  \n",
        "students(stu1='abc',stu2='def',stu3='ghi',stu4='qrs')"
      ],
      "metadata": {
        "id": "vhTWnkihiwaW",
        "colab": {
          "base_uri": "https://localhost:8080/"
        },
        "outputId": "e696009a-a73c-4208-e946-997ad7696d65"
      },
      "execution_count": 3,
      "outputs": [
        {
          "output_type": "stream",
          "name": "stdout",
          "text": [
            "The brightest student among all is:ghi\n"
          ]
        }
      ]
    },
    {
      "cell_type": "code",
      "source": [
        "#Arbitrary Keyword Arguments, **kwargs\n",
        "def fruits(**fruit):\n",
        "  print(\"I like \" + fruit['fruit2'] + \" the most\")\n",
        "fruits(fruit1='apple',fruit2='mango',fruit3='banana')"
      ],
      "metadata": {
        "colab": {
          "base_uri": "https://localhost:8080/"
        },
        "id": "6o3Yy2-hhK_T",
        "outputId": "52c539ec-3206-48a0-da25-3cea6a2edae9"
      },
      "execution_count": 4,
      "outputs": [
        {
          "output_type": "stream",
          "name": "stdout",
          "text": [
            "I like mango the most\n"
          ]
        }
      ]
    },
    {
      "cell_type": "code",
      "source": [
        "#Default Parameter Value\n",
        "def flower(flo='abc'):\n",
        "  print(flo + \" flowers are the most beautiful.\")\n",
        "flower('rose')\n",
        "flower('lilly')\n",
        "flower()\n",
        "flower('tulip')"
      ],
      "metadata": {
        "colab": {
          "base_uri": "https://localhost:8080/"
        },
        "id": "I1_hSX1Bi_c_",
        "outputId": "855c4c6c-4b7d-498f-ff7f-06228ec5e374"
      },
      "execution_count": 5,
      "outputs": [
        {
          "output_type": "stream",
          "name": "stdout",
          "text": [
            "rose flowers are the most beautiful.\n",
            "lilly flowers are the most beautiful.\n",
            "abc flowers are the most beautiful.\n",
            "tulip flowers are the most beautiful.\n"
          ]
        }
      ]
    },
    {
      "cell_type": "code",
      "source": [
        "#Passing a List as an Argument\n",
        "def a_fun(letters):\n",
        "  for i in letters:\n",
        "    print(i)\n",
        "flowers=['rose','tulip','lilly','marigold']\n",
        "a_fun(flowers)"
      ],
      "metadata": {
        "colab": {
          "base_uri": "https://localhost:8080/"
        },
        "id": "PuJbBOPOjgiU",
        "outputId": "1ee6dbd6-edae-42a9-f705-a7e8453321ab"
      },
      "execution_count": 6,
      "outputs": [
        {
          "output_type": "stream",
          "name": "stdout",
          "text": [
            "rose\n",
            "tulip\n",
            "lilly\n",
            "marigold\n"
          ]
        }
      ]
    },
    {
      "cell_type": "code",
      "source": [
        "#Return Values\n",
        "def voting(age=9):\n",
        "  if age>=18:\n",
        "    return 'eligible for voting'\n",
        "  else:\n",
        "    return 'not eligible for voting'\n",
        "print(voting(age=19))\n",
        "print(voting())\n",
        "print(voting(15))"
      ],
      "metadata": {
        "colab": {
          "base_uri": "https://localhost:8080/"
        },
        "id": "C_3rdgi1kHu1",
        "outputId": "e3886bbf-1e15-4340-bd69-541570ec0c70"
      },
      "execution_count": 17,
      "outputs": [
        {
          "output_type": "stream",
          "name": "stdout",
          "text": [
            "eligible for voting\n",
            "not eligible for voting\n",
            "not eligible for voting\n"
          ]
        }
      ]
    },
    {
      "cell_type": "code",
      "source": [
        "#The pass Statement\n",
        "def my_fun():                     # having an empty function definition like this, would raise an error without the pass statement\n",
        "  pass"
      ],
      "metadata": {
        "id": "Gl7sQPezklPT"
      },
      "execution_count": 18,
      "outputs": []
    },
    {
      "cell_type": "code",
      "source": [
        "#recursion\n",
        "def no_of_fruits(i):\n",
        " if i>0:\n",
        "   result= i + no_of_fruits(i-1)\n",
        "   print(result)\n",
        " else:\n",
        "   result=0\n",
        " return result\n",
        "no_of_fruits(6)"
      ],
      "metadata": {
        "colab": {
          "base_uri": "https://localhost:8080/"
        },
        "id": "_Bv-06B-leUt",
        "outputId": "5aec8afc-209b-4d7e-ea88-b73cd35d0454"
      },
      "execution_count": 27,
      "outputs": [
        {
          "output_type": "stream",
          "name": "stdout",
          "text": [
            "1\n",
            "3\n",
            "6\n",
            "10\n",
            "15\n",
            "21\n"
          ]
        },
        {
          "output_type": "execute_result",
          "data": {
            "text/plain": [
              "21"
            ]
          },
          "metadata": {},
          "execution_count": 27
        }
      ]
    }
  ]
}