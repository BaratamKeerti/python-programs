{
  "cells": [
    {
      "cell_type": "markdown",
      "metadata": {
        "id": "view-in-github",
        "colab_type": "text"
      },
      "source": [
        "<a href=\"https://colab.research.google.com/github/BaratamKeerti/python-programs/blob/main/keerti_(vu21csen0100313)_python_programs.ipynb\" target=\"_parent\"><img src=\"https://colab.research.google.com/assets/colab-badge.svg\" alt=\"Open In Colab\"/></a>"
      ]
    },
    {
      "cell_type": "markdown",
      "id": "a10c59a1",
      "metadata": {
        "id": "a10c59a1"
      },
      "source": [
        "# average of three numbers (static)"
      ]
    },
    {
      "cell_type": "code",
      "execution_count": null,
      "id": "c9844f8d",
      "metadata": {
        "id": "c9844f8d",
        "outputId": "d3ba9592-09e9-4ab3-fab3-ab8a5cabc1a9"
      },
      "outputs": [
        {
          "name": "stdout",
          "output_type": "stream",
          "text": [
            "20.0\n",
            "<class 'float'>\n",
            "<class 'int'>\n"
          ]
        }
      ],
      "source": [
        "a=10\n",
        "b=20\n",
        "c=30\n",
        "d=(a+b+c)/3\n",
        "print(d)\n",
        "print(type(d))\n",
        "print(type(a))"
      ]
    },
    {
      "cell_type": "markdown",
      "id": "6002441f",
      "metadata": {
        "id": "6002441f"
      },
      "source": [
        "# multiplication of three numbers (static)"
      ]
    },
    {
      "cell_type": "code",
      "execution_count": null,
      "id": "1662fbcd",
      "metadata": {
        "id": "1662fbcd",
        "outputId": "a4c72735-392e-4b7f-d5a8-2457b6738e2d"
      },
      "outputs": [
        {
          "name": "stdout",
          "output_type": "stream",
          "text": [
            "24\n",
            "<class 'int'>\n"
          ]
        }
      ],
      "source": [
        "a=2\n",
        "b=3\n",
        "c=4\n",
        "mul=a*b*c\n",
        "print(mul)\n",
        "print(type(mul))"
      ]
    },
    {
      "cell_type": "markdown",
      "id": "dec74efe",
      "metadata": {
        "id": "dec74efe"
      },
      "source": [
        "# addition of two numbers (dynamic)"
      ]
    },
    {
      "cell_type": "code",
      "execution_count": null,
      "id": "4f622cb9",
      "metadata": {
        "id": "4f622cb9",
        "outputId": "37676220-d774-40ae-c6d1-c2411443ff20"
      },
      "outputs": [
        {
          "name": "stdout",
          "output_type": "stream",
          "text": [
            "enter a6\n",
            "enter b8\n",
            "14\n",
            "<class 'int'>\n"
          ]
        }
      ],
      "source": [
        "a=int(input(\"enter a\"))\n",
        "b=int(input(\"enter b\"))\n",
        "c=a+b\n",
        "print(c)\n",
        "print(type(c))"
      ]
    },
    {
      "cell_type": "markdown",
      "id": "4ba06593",
      "metadata": {
        "id": "4ba06593"
      },
      "source": [
        "# multiplication of two numbers (dynamic)"
      ]
    },
    {
      "cell_type": "code",
      "execution_count": null,
      "id": "8ba247d7",
      "metadata": {
        "id": "8ba247d7",
        "outputId": "6ae1204b-2e47-4cb5-b8e1-853a75a3433a"
      },
      "outputs": [
        {
          "name": "stdout",
          "output_type": "stream",
          "text": [
            "enter the value of a:324.6\n",
            "enter the value of b:346.89\n",
            "112600.494\n",
            "<class 'float'>\n"
          ]
        }
      ],
      "source": [
        "a=float(input(\"enter the value of a:\"))\n",
        "b=float(input(\"enter the value of b:\"))\n",
        "c=a*b\n",
        "print(c)\n",
        "print(type(c))"
      ]
    },
    {
      "cell_type": "markdown",
      "id": "a3077792",
      "metadata": {
        "id": "a3077792"
      },
      "source": [
        "# converting data types"
      ]
    },
    {
      "cell_type": "markdown",
      "id": "2a9614a6",
      "metadata": {
        "id": "2a9614a6"
      },
      "source": [
        "### converting from int to float"
      ]
    },
    {
      "cell_type": "code",
      "execution_count": null,
      "id": "e7e09ac0",
      "metadata": {
        "id": "e7e09ac0",
        "outputId": "f2901f3e-ef51-4ac1-8adb-855bacb01755"
      },
      "outputs": [
        {
          "name": "stdout",
          "output_type": "stream",
          "text": [
            "10\n",
            "<class 'int'>\n",
            "10.0\n",
            "<class 'float'>\n"
          ]
        }
      ],
      "source": [
        "a=10\n",
        "print(a)\n",
        "print(type(a))\n",
        "b=float(a)\n",
        "print(b)\n",
        "print(type(b))"
      ]
    },
    {
      "cell_type": "markdown",
      "id": "131a9228",
      "metadata": {
        "id": "131a9228"
      },
      "source": [
        "### converting from float to int"
      ]
    },
    {
      "cell_type": "code",
      "execution_count": null,
      "id": "b648a31a",
      "metadata": {
        "id": "b648a31a",
        "outputId": "af3116db-8b07-4554-cd53-27bf8d991163"
      },
      "outputs": [
        {
          "name": "stdout",
          "output_type": "stream",
          "text": [
            "10.663\n",
            "<class 'float'>\n",
            "10\n",
            "<class 'int'>\n"
          ]
        }
      ],
      "source": [
        "a=10.663\n",
        "print(a)\n",
        "print(type(a))\n",
        "b=int(a)\n",
        "print(b)\n",
        "print(type(b))"
      ]
    },
    {
      "cell_type": "markdown",
      "id": "1727ce56",
      "metadata": {
        "id": "1727ce56"
      },
      "source": [
        "### converting from int to string"
      ]
    },
    {
      "cell_type": "code",
      "execution_count": null,
      "id": "f269d3d0",
      "metadata": {
        "id": "f269d3d0",
        "outputId": "d9efd38b-e89c-4eb8-f4ff-55fba7679f47"
      },
      "outputs": [
        {
          "name": "stdout",
          "output_type": "stream",
          "text": [
            "146\n",
            "<class 'int'>\n",
            "146\n",
            "<class 'str'>\n"
          ]
        }
      ],
      "source": [
        "a=146\n",
        "print(a)\n",
        "print(type(a))\n",
        "b=str(a)\n",
        "print(b)\n",
        "print(type(b))"
      ]
    },
    {
      "cell_type": "markdown",
      "id": "59a1b963",
      "metadata": {
        "id": "59a1b963"
      },
      "source": [
        "### converting from float to string"
      ]
    },
    {
      "cell_type": "code",
      "execution_count": null,
      "id": "0400b12b",
      "metadata": {
        "id": "0400b12b",
        "outputId": "2ad4890b-042b-4d72-f6a7-1e846192e823"
      },
      "outputs": [
        {
          "name": "stdout",
          "output_type": "stream",
          "text": [
            "15.32\n",
            "<class 'float'>\n",
            "15.32\n",
            "<class 'str'>\n"
          ]
        }
      ],
      "source": [
        "a=15.32\n",
        "print(a)\n",
        "print(type(a))\n",
        "b=str(a)\n",
        "print(b)\n",
        "print(type(b))"
      ]
    },
    {
      "cell_type": "markdown",
      "id": "43a71234",
      "metadata": {
        "id": "43a71234"
      },
      "source": [
        "### converting from int to boolean"
      ]
    },
    {
      "cell_type": "code",
      "execution_count": null,
      "id": "0669d4fe",
      "metadata": {
        "id": "0669d4fe",
        "outputId": "dbba438b-b7ea-4188-e0c1-166eb73c29c2"
      },
      "outputs": [
        {
          "name": "stdout",
          "output_type": "stream",
          "text": [
            "10\n",
            "True\n",
            "<class 'int'>\n",
            "<class 'bool'>\n"
          ]
        }
      ],
      "source": [
        "a=10\n",
        "b=bool(a)\n",
        "print(a)\n",
        "print(b)\n",
        "print(type(a))\n",
        "print(type(b))"
      ]
    },
    {
      "cell_type": "markdown",
      "id": "ad31e882",
      "metadata": {
        "id": "ad31e882"
      },
      "source": [
        "### converting from float to boolean"
      ]
    },
    {
      "cell_type": "code",
      "execution_count": null,
      "id": "b3210470",
      "metadata": {
        "id": "b3210470",
        "outputId": "b41810c3-4646-4da3-a71d-2b12fc9e653e"
      },
      "outputs": [
        {
          "name": "stdout",
          "output_type": "stream",
          "text": [
            "10.678\n",
            "True\n",
            "<class 'float'>\n",
            "<class 'bool'>\n"
          ]
        }
      ],
      "source": [
        "a=10.678\n",
        "b=bool(a)\n",
        "print(a)\n",
        "print(b)\n",
        "print(type(a))\n",
        "print(type(b))"
      ]
    },
    {
      "cell_type": "markdown",
      "id": "573fe42a",
      "metadata": {
        "id": "573fe42a"
      },
      "source": [
        "### boolean example"
      ]
    },
    {
      "cell_type": "code",
      "execution_count": null,
      "id": "6023e746",
      "metadata": {
        "id": "6023e746",
        "outputId": "7f07c240-69f6-485e-e54b-146b145e4711"
      },
      "outputs": [
        {
          "name": "stdout",
          "output_type": "stream",
          "text": [
            "False\n",
            "<class 'bool'>\n"
          ]
        }
      ],
      "source": [
        "a=12\n",
        "b=45\n",
        "c=(a>b)\n",
        "print(c)\n",
        "print(type(c))"
      ]
    },
    {
      "cell_type": "markdown",
      "id": "c68f8d91",
      "metadata": {
        "id": "c68f8d91"
      },
      "source": [
        "### converting from boolean to int"
      ]
    },
    {
      "cell_type": "code",
      "execution_count": null,
      "id": "99f926bb",
      "metadata": {
        "id": "99f926bb",
        "outputId": "f0af4244-3fbc-4db7-b70e-2b770ee465e3"
      },
      "outputs": [
        {
          "name": "stdout",
          "output_type": "stream",
          "text": [
            "True\n",
            "<class 'bool'>\n",
            "1\n",
            "<class 'int'>\n"
          ]
        }
      ],
      "source": [
        "a=True\n",
        "print(a)\n",
        "print(type(a))\n",
        "b=int(a)\n",
        "print(b)\n",
        "print(type(b))"
      ]
    },
    {
      "cell_type": "markdown",
      "id": "63dbb816",
      "metadata": {
        "id": "63dbb816"
      },
      "source": [
        "### converting from boolean to float"
      ]
    },
    {
      "cell_type": "code",
      "execution_count": null,
      "id": "693a3dcd",
      "metadata": {
        "id": "693a3dcd",
        "outputId": "47fd8a70-aec4-4bb3-e2e7-21c9c90a5e3b"
      },
      "outputs": [
        {
          "name": "stdout",
          "output_type": "stream",
          "text": [
            "False\n",
            "<class 'bool'>\n",
            "0.0\n",
            "<class 'float'>\n"
          ]
        }
      ],
      "source": [
        "a=False\n",
        "print(a)\n",
        "print(type(a))\n",
        "b=float(a)\n",
        "print(b)\n",
        "print(type(b))"
      ]
    },
    {
      "cell_type": "markdown",
      "id": "5889ffdc",
      "metadata": {
        "id": "5889ffdc"
      },
      "source": [
        "### converting from string to boolean"
      ]
    },
    {
      "cell_type": "code",
      "execution_count": null,
      "id": "452511aa",
      "metadata": {
        "id": "452511aa",
        "outputId": "a8e77a39-1b49-4376-a75b-3d77e0344323"
      },
      "outputs": [
        {
          "name": "stdout",
          "output_type": "stream",
          "text": [
            "india\n",
            "<class 'str'>\n",
            "True\n",
            "<class 'bool'>\n"
          ]
        }
      ],
      "source": [
        "a='india'\n",
        "print(a)\n",
        "print(type(a))\n",
        "b=bool(a)\n",
        "print(b)\n",
        "print(type(b))"
      ]
    },
    {
      "cell_type": "markdown",
      "id": "3a0d2983",
      "metadata": {
        "id": "3a0d2983"
      },
      "source": [
        "### converting from boolean to int"
      ]
    },
    {
      "cell_type": "code",
      "execution_count": null,
      "id": "4f777011",
      "metadata": {
        "id": "4f777011",
        "outputId": "1d4025fa-584d-48b7-ba71-e443f883b7e6"
      },
      "outputs": [
        {
          "name": "stdout",
          "output_type": "stream",
          "text": [
            "True\n",
            "<class 'bool'>\n",
            "1\n",
            "<class 'int'>\n"
          ]
        }
      ],
      "source": [
        "a=bool(10)\n",
        "print(a)\n",
        "print(type(a))\n",
        "b=int(a)\n",
        "print(b)\n",
        "print(type(b))"
      ]
    },
    {
      "cell_type": "markdown",
      "id": "2bacd664",
      "metadata": {
        "id": "2bacd664"
      },
      "source": [
        "### converting from complex to boolean"
      ]
    },
    {
      "cell_type": "code",
      "execution_count": null,
      "id": "12487ae1",
      "metadata": {
        "id": "12487ae1",
        "outputId": "9e1ce63b-394f-412f-b3b3-b924d69e475b"
      },
      "outputs": [
        {
          "name": "stdout",
          "output_type": "stream",
          "text": [
            "(5+3j)\n",
            "<class 'complex'>\n",
            "True\n",
            "<class 'bool'>\n"
          ]
        }
      ],
      "source": [
        "a=5+3j\n",
        "print(a)\n",
        "print(type(a))\n",
        "b=bool(a)\n",
        "print(b)\n",
        "print(type(b))"
      ]
    },
    {
      "cell_type": "code",
      "execution_count": null,
      "id": "648d7cf4",
      "metadata": {
        "id": "648d7cf4"
      },
      "outputs": [],
      "source": [
        ""
      ]
    }
  ],
  "metadata": {
    "kernelspec": {
      "display_name": "Python 3 (ipykernel)",
      "language": "python",
      "name": "python3"
    },
    "language_info": {
      "codemirror_mode": {
        "name": "ipython",
        "version": 3
      },
      "file_extension": ".py",
      "mimetype": "text/x-python",
      "name": "python",
      "nbconvert_exporter": "python",
      "pygments_lexer": "ipython3",
      "version": "3.9.7"
    },
    "colab": {
      "name": "keerti (vu21csen0100313) python programs.ipynb",
      "provenance": [],
      "include_colab_link": true
    }
  },
  "nbformat": 4,
  "nbformat_minor": 5
}