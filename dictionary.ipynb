{
  "nbformat": 4,
  "nbformat_minor": 0,
  "metadata": {
    "colab": {
      "name": "dictionary.ipynb",
      "provenance": [],
      "collapsed_sections": [],
      "authorship_tag": "ABX9TyOgVGL16f4kHTpDFrUcOD58",
      "include_colab_link": true
    },
    "kernelspec": {
      "name": "python3",
      "display_name": "Python 3"
    },
    "language_info": {
      "name": "python"
    }
  },
  "cells": [
    {
      "cell_type": "markdown",
      "metadata": {
        "id": "view-in-github",
        "colab_type": "text"
      },
      "source": [
        "<a href=\"https://colab.research.google.com/github/BaratamKeerti/python-programs/blob/main/dictionary.ipynb\" target=\"_parent\"><img src=\"https://colab.research.google.com/assets/colab-badge.svg\" alt=\"Open In Colab\"/></a>"
      ]
    },
    {
      "cell_type": "markdown",
      "source": [
        "# *DICTIONARY*"
      ],
      "metadata": {
        "id": "7c-VqiB1YT35"
      }
    },
    {
      "cell_type": "code",
      "source": [
        "me={\n",
        "    'name': 'Keerti',\n",
        "    'age': 17,\n",
        "     'gender': 'female'\n",
        "}\n",
        "print(me)"
      ],
      "metadata": {
        "colab": {
          "base_uri": "https://localhost:8080/"
        },
        "id": "9u-j37bBYTGh",
        "outputId": "b825f01a-5b82-49e6-afd5-d04ab2f47323"
      },
      "execution_count": null,
      "outputs": [
        {
          "output_type": "stream",
          "name": "stdout",
          "text": [
            "{'name': 'Keerti', 'age': 17, 'gender': 'female'}\n"
          ]
        }
      ]
    },
    {
      "cell_type": "code",
      "source": [
        "me={\n",
        "    'name': 'Keerti',\n",
        "    'age': 17,\n",
        "     'gender': 'female'\n",
        "}\n",
        "print(me['age'])"
      ],
      "metadata": {
        "colab": {
          "base_uri": "https://localhost:8080/"
        },
        "id": "7ifQVb02ZD5p",
        "outputId": "2fd056c9-3562-4f76-e93d-f021b444ee90"
      },
      "execution_count": null,
      "outputs": [
        {
          "output_type": "stream",
          "name": "stdout",
          "text": [
            "17\n"
          ]
        }
      ]
    },
    {
      "cell_type": "code",
      "source": [
        "me={\n",
        "    'name': 'Keerti',\n",
        "    'age': 17,\n",
        "     'gender': 'female'\n",
        "}\n",
        "print(len(me))"
      ],
      "metadata": {
        "colab": {
          "base_uri": "https://localhost:8080/"
        },
        "id": "ibSrunZ_Zu7w",
        "outputId": "dddeaa10-5d33-4439-ef0e-f1d487dd9038"
      },
      "execution_count": null,
      "outputs": [
        {
          "output_type": "stream",
          "name": "stdout",
          "text": [
            "3\n"
          ]
        }
      ]
    },
    {
      "cell_type": "code",
      "source": [
        "chocolates={\n",
        "    'colour': 'brown',\n",
        "    'taste': 'sweet',\n",
        "    'names' : ['dairymilk','5star','alpino']\n",
        "}\n",
        "print(chocolates)"
      ],
      "metadata": {
        "colab": {
          "base_uri": "https://localhost:8080/"
        },
        "id": "ZQFXt86dZ_3w",
        "outputId": "c7f894e7-d12c-484b-9136-32afd9930abe"
      },
      "execution_count": null,
      "outputs": [
        {
          "output_type": "stream",
          "name": "stdout",
          "text": [
            "{'colour': 'brown', 'taste': 'sweet', 'names': ['dairymilk', '5star', 'alpino']}\n"
          ]
        }
      ]
    },
    {
      "cell_type": "code",
      "source": [
        "chocolates={\n",
        "    'colour': 'brown',\n",
        "    'taste': 'sweet',\n",
        "    'names' : ['dairymilk','5star','alpino']\n",
        "}\n",
        "print(chocolates)\n",
        "print(type(chocolates))"
      ],
      "metadata": {
        "colab": {
          "base_uri": "https://localhost:8080/"
        },
        "id": "sKOYSexxbMBA",
        "outputId": "42a755e7-60de-4d5c-e94f-9473c597d808"
      },
      "execution_count": null,
      "outputs": [
        {
          "output_type": "stream",
          "name": "stdout",
          "text": [
            "{'colour': 'brown', 'taste': 'sweet', 'names': ['dairymilk', '5star', 'alpino']}\n",
            "<class 'dict'>\n"
          ]
        }
      ]
    },
    {
      "cell_type": "markdown",
      "source": [
        "# *ACCESSING DICTINARY ITEMS*"
      ],
      "metadata": {
        "id": "7G3JStc5cAp5"
      }
    },
    {
      "cell_type": "code",
      "source": [
        "chocolates={\n",
        "    'colour': 'brown',\n",
        "    'taste': 'sweet',\n",
        "    'names' : ['dairymilk','5star','alpino']\n",
        "}\n",
        "print(chocolates['taste'])"
      ],
      "metadata": {
        "colab": {
          "base_uri": "https://localhost:8080/"
        },
        "id": "c5WgMnBSb7fA",
        "outputId": "6f4df1ef-b19d-48d2-d0b9-ee4a01c9d793"
      },
      "execution_count": null,
      "outputs": [
        {
          "output_type": "stream",
          "name": "stdout",
          "text": [
            "sweet\n"
          ]
        }
      ]
    },
    {
      "cell_type": "code",
      "source": [
        "#get\n",
        "chocolates={\n",
        "    'colour': 'brown',\n",
        "    'taste': 'sweet',\n",
        "    'names' : ['dairymilk','5star','alpino']\n",
        "}\n",
        "print(chocolates.get('colour'))"
      ],
      "metadata": {
        "colab": {
          "base_uri": "https://localhost:8080/"
        },
        "id": "nlsqj1zkcMCP",
        "outputId": "9d910f2d-3166-47b9-eccb-32e8246d4aee"
      },
      "execution_count": null,
      "outputs": [
        {
          "output_type": "stream",
          "name": "stdout",
          "text": [
            "brown\n"
          ]
        }
      ]
    },
    {
      "cell_type": "code",
      "source": [
        "#keys\n",
        "chocolates={\n",
        "    'colour': 'brown',\n",
        "    'taste': 'sweet',\n",
        "    'names' : ['dairymilk','5star','alpino']\n",
        "}\n",
        "a=chocolates.keys()\n",
        "print(a)"
      ],
      "metadata": {
        "colab": {
          "base_uri": "https://localhost:8080/"
        },
        "id": "ZCnlLDgUcZ5_",
        "outputId": "b3ed99ef-b038-4d82-c50b-75ba6d83fb45"
      },
      "execution_count": null,
      "outputs": [
        {
          "output_type": "stream",
          "name": "stdout",
          "text": [
            "dict_keys(['colour', 'taste', 'names'])\n"
          ]
        }
      ]
    },
    {
      "cell_type": "code",
      "source": [
        "chocolates={\n",
        "    'colour': 'brown',\n",
        "    'taste': 'sweet',\n",
        "    'names' : ['dairymilk','5star','alpino']\n",
        "}\n",
        "a=chocolates.keys()\n",
        "print(a)\n",
        "print(chocolates)\n",
        "chocolates['flavour']='choco'\n",
        "print(chocolates)"
      ],
      "metadata": {
        "colab": {
          "base_uri": "https://localhost:8080/"
        },
        "id": "Ikx9gOLmcod_",
        "outputId": "f24e5837-ea94-4e00-b825-77ed59d19bc7"
      },
      "execution_count": null,
      "outputs": [
        {
          "output_type": "stream",
          "name": "stdout",
          "text": [
            "dict_keys(['colour', 'taste', 'names'])\n",
            "{'colour': 'brown', 'taste': 'sweet', 'names': ['dairymilk', '5star', 'alpino']}\n",
            "{'colour': 'brown', 'taste': 'sweet', 'names': ['dairymilk', '5star', 'alpino'], 'flavour': 'choco'}\n"
          ]
        }
      ]
    },
    {
      "cell_type": "code",
      "source": [
        "#values\n",
        "chocolates={\n",
        "    'colour': 'brown',\n",
        "    'taste': 'sweet',\n",
        "    'names' : ['dairymilk','5star','alpino']\n",
        "}\n",
        "print(chocolates.keys())\n",
        "print(chocolates.values())\n",
        "print(chocolates)"
      ],
      "metadata": {
        "colab": {
          "base_uri": "https://localhost:8080/"
        },
        "id": "HFL0DuMqfKZu",
        "outputId": "d47beeaf-a66c-4c1d-c08f-af5b3b48ea8d"
      },
      "execution_count": null,
      "outputs": [
        {
          "output_type": "stream",
          "name": "stdout",
          "text": [
            "dict_keys(['colour', 'taste', 'names'])\n",
            "dict_values(['brown', 'sweet', ['dairymilk', '5star', 'alpino']])\n",
            "{'colour': 'brown', 'taste': 'sweet', 'names': ['dairymilk', '5star', 'alpino']}\n"
          ]
        }
      ]
    },
    {
      "cell_type": "code",
      "source": [
        "#items\n",
        "chocolates={\n",
        "    'colour': 'brown',\n",
        "    'taste': 'sweet',\n",
        "    'names' : ['dairymilk','5star','alpino']\n",
        "}\n",
        "print(chocolates.items())"
      ],
      "metadata": {
        "colab": {
          "base_uri": "https://localhost:8080/"
        },
        "id": "qy64CLqGfh6O",
        "outputId": "fe0f475c-2ecc-4da3-cda0-96aa430301a2"
      },
      "execution_count": null,
      "outputs": [
        {
          "output_type": "stream",
          "name": "stdout",
          "text": [
            "dict_items([('colour', 'brown'), ('taste', 'sweet'), ('names', ['dairymilk', '5star', 'alpino'])])\n"
          ]
        }
      ]
    },
    {
      "cell_type": "code",
      "source": [
        "chocolates={\n",
        "    'colour': 'brown',\n",
        "    'taste': 'sweet',\n",
        "    'names' : ['dairymilk','5star','alpino']\n",
        "}\n",
        "print(chocolates.items())               #before change\n",
        "chocolates['taste']='sweet and milky'\n",
        "print(chocolates.items())               #after change"
      ],
      "metadata": {
        "colab": {
          "base_uri": "https://localhost:8080/"
        },
        "id": "lxZXloEpgNsl",
        "outputId": "c02bde17-6c39-40f5-9f70-b8bd4dee56c4"
      },
      "execution_count": null,
      "outputs": [
        {
          "output_type": "stream",
          "name": "stdout",
          "text": [
            "dict_items([('colour', 'brown'), ('taste', 'sweet'), ('names', ['dairymilk', '5star', 'alpino'])])\n",
            "dict_items([('colour', 'brown'), ('taste', 'sweet and milky'), ('names', ['dairymilk', '5star', 'alpino'])])\n"
          ]
        }
      ]
    },
    {
      "cell_type": "code",
      "source": [
        "#CHECKING IF KEY EXISTS\n",
        "chocolates={\n",
        "    'colour': 'brown',\n",
        "    'taste': 'sweet',\n",
        "    'names' : ['dairymilk','5star','alpino']\n",
        "}\n",
        "if 'taste' in chocolates:\n",
        "  print(\"The category taste is in the dictionary chocolates\")\n",
        "else:\n",
        "  print(\"The category taste is not is in the dictionary chocolates\")"
      ],
      "metadata": {
        "id": "F_x3CximhDBe",
        "colab": {
          "base_uri": "https://localhost:8080/"
        },
        "outputId": "15579b8a-8ad2-4210-c046-3adc4de5976e"
      },
      "execution_count": 1,
      "outputs": [
        {
          "output_type": "stream",
          "name": "stdout",
          "text": [
            "The category taste is in the dictionary chocolates\n"
          ]
        }
      ]
    },
    {
      "cell_type": "markdown",
      "source": [
        "# *CHANGE VALUES*"
      ],
      "metadata": {
        "id": "hJsSTv4UTmx4"
      }
    },
    {
      "cell_type": "code",
      "source": [
        "chocolates={\n",
        "    'colour': 'brown',\n",
        "    'taste': 'sweet',\n",
        "    'names' : ['dairymilk','5star','alpino']\n",
        "}\n",
        "chocolates['colour']='milky white'\n",
        "print(chocolates)"
      ],
      "metadata": {
        "colab": {
          "base_uri": "https://localhost:8080/"
        },
        "id": "nwC2TVpJTXvt",
        "outputId": "83395b53-8395-47d4-ad6b-016d5eca90ed"
      },
      "execution_count": 2,
      "outputs": [
        {
          "output_type": "stream",
          "name": "stdout",
          "text": [
            "{'colour': 'milky white', 'taste': 'sweet', 'names': ['dairymilk', '5star', 'alpino']}\n"
          ]
        }
      ]
    },
    {
      "cell_type": "code",
      "source": [
        "#update dictionary\n",
        "chocolates={\n",
        "    'colour': 'brown',\n",
        "    'taste': 'sweet',\n",
        "    'names' : ['dairymilk','5star','alpino']\n",
        "}\n",
        "chocolates.update({'taste':'so sweet'})\n",
        "print(chocolates)"
      ],
      "metadata": {
        "colab": {
          "base_uri": "https://localhost:8080/"
        },
        "id": "QIgeEVUNUIhC",
        "outputId": "b33efac7-c700-48ac-80e6-d4b70f910b8c"
      },
      "execution_count": 3,
      "outputs": [
        {
          "output_type": "stream",
          "name": "stdout",
          "text": [
            "{'colour': 'brown', 'taste': 'so sweet', 'names': ['dairymilk', '5star', 'alpino']}\n"
          ]
        }
      ]
    },
    {
      "cell_type": "markdown",
      "source": [
        "# *ADDING ITEMS IN DICTIONARY*"
      ],
      "metadata": {
        "id": "y9B5DACrVgZy"
      }
    },
    {
      "cell_type": "code",
      "source": [
        "chocolates={\n",
        "    'colour': 'brown',\n",
        "    'taste': 'sweet',\n",
        "    'names' : ['dairymilk','5star','alpino']\n",
        "}\n",
        "chocolates['flavour']='milky and chocolaty'\n",
        "print(chocolates)"
      ],
      "metadata": {
        "colab": {
          "base_uri": "https://localhost:8080/"
        },
        "id": "0ZQo9a3JVsJ-",
        "outputId": "ebf0c119-9b1e-4438-d153-3d630515cc62"
      },
      "execution_count": 5,
      "outputs": [
        {
          "output_type": "stream",
          "name": "stdout",
          "text": [
            "{'colour': 'brown', 'taste': 'sweet', 'names': ['dairymilk', '5star', 'alpino'], 'flavour': 'milky and chocolaty'}\n"
          ]
        }
      ]
    },
    {
      "cell_type": "code",
      "source": [
        "chocolates={\n",
        "    'colour': 'brown',\n",
        "    'taste': 'sweet',\n",
        "    'names' : ['dairymilk','5star','alpino']\n",
        "}\n",
        "chocolates.update({'flavour':'chocolaty an milky'})\n",
        "print(chocolates)"
      ],
      "metadata": {
        "colab": {
          "base_uri": "https://localhost:8080/"
        },
        "id": "K-5NZ8I9WDyd",
        "outputId": "533bddb2-dabf-478f-e94f-1f5a2993f092"
      },
      "execution_count": 7,
      "outputs": [
        {
          "output_type": "stream",
          "name": "stdout",
          "text": [
            "{'colour': 'brown', 'taste': 'sweet', 'names': ['dairymilk', '5star', 'alpino'], 'flavour': 'chocolaty an milky'}\n"
          ]
        }
      ]
    },
    {
      "cell_type": "markdown",
      "source": [
        "# *REMOVE ITEMS IN DICTIONARY*"
      ],
      "metadata": {
        "id": "H890UTjrWwiJ"
      }
    },
    {
      "cell_type": "code",
      "source": [
        "#pop\n",
        "chocolates={\n",
        "    'colour': 'brown',\n",
        "    'taste': 'sweet',\n",
        "    'names' : ['dairymilk','5star','alpino']\n",
        "}\n",
        "chocolates.pop('colour')\n",
        "print(chocolates)"
      ],
      "metadata": {
        "colab": {
          "base_uri": "https://localhost:8080/"
        },
        "id": "Dr76luv8Wn3q",
        "outputId": "66937ac2-3aea-4383-ea60-fa783f633484"
      },
      "execution_count": 8,
      "outputs": [
        {
          "output_type": "stream",
          "name": "stdout",
          "text": [
            "{'taste': 'sweet', 'names': ['dairymilk', '5star', 'alpino']}\n"
          ]
        }
      ]
    },
    {
      "cell_type": "code",
      "source": [
        "#pop item\n",
        "chocolates={\n",
        "    'colour': 'brown',\n",
        "    'taste': 'sweet',\n",
        "    'names' : ['dairymilk','5star','alpino']\n",
        "}\n",
        "print(chocolates.popitem())                   #removes the last inserted item\n",
        "print(chocolates)"
      ],
      "metadata": {
        "colab": {
          "base_uri": "https://localhost:8080/"
        },
        "id": "I_iFSiaaXLrC",
        "outputId": "b47d12da-c081-4645-8b48-96f38285074a"
      },
      "execution_count": 14,
      "outputs": [
        {
          "output_type": "stream",
          "name": "stdout",
          "text": [
            "('names', ['dairymilk', '5star', 'alpino'])\n",
            "{'colour': 'brown', 'taste': 'sweet'}\n"
          ]
        }
      ]
    },
    {
      "cell_type": "code",
      "source": [
        "#del\n",
        "chocolates={\n",
        "    'colour': 'brown',\n",
        "    'taste': 'sweet',\n",
        "    'names' : ['dairymilk','5star','alpino']\n",
        "}\n",
        "del chocolates['taste']\n",
        "print(chocolates)"
      ],
      "metadata": {
        "colab": {
          "base_uri": "https://localhost:8080/"
        },
        "id": "EWf-r85IXWiX",
        "outputId": "ab521f87-46a8-4f1e-c9f0-92bb28f271cc"
      },
      "execution_count": 19,
      "outputs": [
        {
          "output_type": "stream",
          "name": "stdout",
          "text": [
            "{'colour': 'brown', 'names': ['dairymilk', '5star', 'alpino']}\n"
          ]
        }
      ]
    },
    {
      "cell_type": "code",
      "source": [
        "#del\n",
        "chocolates={\n",
        "    'colour': 'brown',\n",
        "    'taste': 'sweet',\n",
        "    'names' : ['dairymilk','5star','alpino']\n",
        "}\n",
        "del chocolates\n",
        "print(chocolates)                 #gets not defined as the whole dictionary was deleted"
      ],
      "metadata": {
        "colab": {
          "base_uri": "https://localhost:8080/",
          "height": 208
        },
        "id": "ox_tI1LXYHye",
        "outputId": "d281db25-fc9d-4f0b-e9f8-533c68d9bac1"
      },
      "execution_count": 20,
      "outputs": [
        {
          "output_type": "error",
          "ename": "NameError",
          "evalue": "ignored",
          "traceback": [
            "\u001b[0;31m---------------------------------------------------------------------------\u001b[0m",
            "\u001b[0;31mNameError\u001b[0m                                 Traceback (most recent call last)",
            "\u001b[0;32m<ipython-input-20-866522d6b2cc>\u001b[0m in \u001b[0;36m<module>\u001b[0;34m()\u001b[0m\n\u001b[1;32m      6\u001b[0m }\n\u001b[1;32m      7\u001b[0m \u001b[0;32mdel\u001b[0m \u001b[0mchocolates\u001b[0m\u001b[0;34m\u001b[0m\u001b[0;34m\u001b[0m\u001b[0m\n\u001b[0;32m----> 8\u001b[0;31m \u001b[0mprint\u001b[0m\u001b[0;34m(\u001b[0m\u001b[0mchocolates\u001b[0m\u001b[0;34m)\u001b[0m\u001b[0;34m\u001b[0m\u001b[0;34m\u001b[0m\u001b[0m\n\u001b[0m",
            "\u001b[0;31mNameError\u001b[0m: name 'chocolates' is not defined"
          ]
        }
      ]
    },
    {
      "cell_type": "code",
      "source": [
        "#clear\n",
        "chocolates={\n",
        "    'colour': 'brown',\n",
        "    'taste': 'sweet',\n",
        "    'names' : ['dairymilk','5star','alpino']\n",
        "}\n",
        "print(chocolates.clear())"
      ],
      "metadata": {
        "colab": {
          "base_uri": "https://localhost:8080/"
        },
        "id": "22ozxMmOYnPN",
        "outputId": "1ce31159-b9a3-4250-8a92-34b2a0b59597"
      },
      "execution_count": 22,
      "outputs": [
        {
          "output_type": "stream",
          "name": "stdout",
          "text": [
            "None\n"
          ]
        }
      ]
    },
    {
      "cell_type": "markdown",
      "source": [
        "# *LOOPS IN DICTIONARIES*"
      ],
      "metadata": {
        "id": "rVNUHt3nZJNK"
      }
    },
    {
      "cell_type": "code",
      "source": [
        "chocolates={\n",
        "    'colour': 'brown',\n",
        "    'taste': 'sweet',\n",
        "    'names' : ['dairymilk','5star','alpino']\n",
        "}\n",
        "for k in chocolates:\n",
        "  print(k)"
      ],
      "metadata": {
        "colab": {
          "base_uri": "https://localhost:8080/"
        },
        "id": "D6TQn4-1Y_hr",
        "outputId": "8c429142-8e2d-4c8f-d001-f019d312ccff"
      },
      "execution_count": 23,
      "outputs": [
        {
          "output_type": "stream",
          "name": "stdout",
          "text": [
            "colour\n",
            "taste\n",
            "names\n"
          ]
        }
      ]
    },
    {
      "cell_type": "code",
      "source": [
        "chocolates={\n",
        "    'colour': 'brown',\n",
        "    'taste': 'sweet',\n",
        "    'names' : ['dairymilk','5star','alpino']\n",
        "}\n",
        "for r in chocolates.keys():\n",
        "  print(r)"
      ],
      "metadata": {
        "colab": {
          "base_uri": "https://localhost:8080/"
        },
        "id": "yZPjw6_TZSoT",
        "outputId": "be5accb1-b2ef-4a18-b3fe-d11f7d0eec1e"
      },
      "execution_count": 30,
      "outputs": [
        {
          "output_type": "stream",
          "name": "stdout",
          "text": [
            "colour\n",
            "taste\n",
            "names\n"
          ]
        }
      ]
    },
    {
      "cell_type": "code",
      "source": [
        "chocolates={\n",
        "    'colour': 'brown',\n",
        "    'taste': 'sweet',\n",
        "    'names' : ['dairymilk','5star','alpino']\n",
        "}\n",
        "for a in chocolates.values():\n",
        "  print(a)"
      ],
      "metadata": {
        "colab": {
          "base_uri": "https://localhost:8080/"
        },
        "id": "N7B2ntmVZe4K",
        "outputId": "9684a3b3-4a33-473c-88e9-4679b5c29546"
      },
      "execution_count": 31,
      "outputs": [
        {
          "output_type": "stream",
          "name": "stdout",
          "text": [
            "brown\n",
            "sweet\n",
            "['dairymilk', '5star', 'alpino']\n"
          ]
        }
      ]
    },
    {
      "cell_type": "code",
      "source": [
        "chocolates={\n",
        "    'colour': 'brown',\n",
        "    'taste': 'sweet',\n",
        "    'names' : ['dairymilk','5star','alpino']\n",
        "}\n",
        "for s in chocolates:\n",
        "  print(chocolates)\n",
        "print('\\n')\n",
        "for s in chocolates:\n",
        "  print(s,chocolates[s])"
      ],
      "metadata": {
        "colab": {
          "base_uri": "https://localhost:8080/"
        },
        "id": "UcyvregVZ_rF",
        "outputId": "e8bda428-acac-48df-e482-06474ccd505c"
      },
      "execution_count": 38,
      "outputs": [
        {
          "output_type": "stream",
          "name": "stdout",
          "text": [
            "{'colour': 'brown', 'taste': 'sweet', 'names': ['dairymilk', '5star', 'alpino']}\n",
            "{'colour': 'brown', 'taste': 'sweet', 'names': ['dairymilk', '5star', 'alpino']}\n",
            "{'colour': 'brown', 'taste': 'sweet', 'names': ['dairymilk', '5star', 'alpino']}\n",
            "\n",
            "\n",
            "colour brown\n",
            "taste sweet\n",
            "names ['dairymilk', '5star', 'alpino']\n"
          ]
        }
      ]
    },
    {
      "cell_type": "code",
      "source": [
        "chocolates={\n",
        "    'colour': 'brown',\n",
        "    'taste': 'sweet',\n",
        "    'names' : ['dairymilk','5star','alpino']\n",
        "}\n",
        "for a,r in chocolates.items():\n",
        "  print(a,r)"
      ],
      "metadata": {
        "colab": {
          "base_uri": "https://localhost:8080/"
        },
        "id": "ZX7t_YB_aLgf",
        "outputId": "7078bc8d-b228-4308-b1ec-3f95a3093143"
      },
      "execution_count": 39,
      "outputs": [
        {
          "output_type": "stream",
          "name": "stdout",
          "text": [
            "colour brown\n",
            "taste sweet\n",
            "names ['dairymilk', '5star', 'alpino']\n"
          ]
        }
      ]
    },
    {
      "cell_type": "markdown",
      "source": [
        "# COPY LIST ITEMS*"
      ],
      "metadata": {
        "id": "zk_sNbUXczz4"
      }
    },
    {
      "cell_type": "code",
      "source": [
        "chocolates={\n",
        "    'colour': 'brown',\n",
        "    'taste': 'sweet',\n",
        "    'names' : ['dairymilk','5star','alpino']\n",
        "}\n",
        "my_chocolates=chocolates.copy()\n",
        "print(my_chocolates)"
      ],
      "metadata": {
        "colab": {
          "base_uri": "https://localhost:8080/"
        },
        "id": "d8K0m0bvbBFu",
        "outputId": "e2b1139f-ef1c-4bc8-f6e4-487e3c54683a"
      },
      "execution_count": 42,
      "outputs": [
        {
          "output_type": "stream",
          "name": "stdout",
          "text": [
            "{'colour': 'brown', 'taste': 'sweet', 'names': ['dairymilk', '5star', 'alpino']}\n"
          ]
        }
      ]
    },
    {
      "cell_type": "code",
      "source": [
        "#dict\n",
        "chocolates={\n",
        "    'colour': 'brown',\n",
        "    'taste': 'sweet',\n",
        "    'names' : ['dairymilk','5star','alpino']\n",
        "}\n",
        "my_chocolates=dict(chocolates)\n",
        "print(my_chocolates)"
      ],
      "metadata": {
        "colab": {
          "base_uri": "https://localhost:8080/"
        },
        "id": "RmsJvPfXeRZ1",
        "outputId": "ff168ffe-aa8d-4f35-d5c3-d6ecad4fe706"
      },
      "execution_count": 44,
      "outputs": [
        {
          "output_type": "stream",
          "name": "stdout",
          "text": [
            "{'colour': 'brown', 'taste': 'sweet', 'names': ['dairymilk', '5star', 'alpino']}\n"
          ]
        }
      ]
    },
    {
      "cell_type": "markdown",
      "source": [
        "# *NESTED DICTIONARIES*"
      ],
      "metadata": {
        "id": "9iSMfoq_e8lh"
      }
    },
    {
      "cell_type": "code",
      "source": [
        "chocolates={\n",
        "    'dairymilk':{\n",
        "        'flavour':'chocolatty',\n",
        "        'colour':'dark brown',\n",
        "        'taste':'sweet'\n",
        "    },\n",
        "    'kaccha_mango':{\n",
        "        'flavour':'salty',\n",
        "         'colour':'green',\n",
        "         'taste':'sour'\n",
        "    },\n",
        "    'milky_bar':{\n",
        "        'flavour':'milky',\n",
        "        'colour':'white',\n",
        "        'taste':'sweet and creamy'\n",
        "    }\n",
        "}\n",
        "print(chocolates)"
      ],
      "metadata": {
        "colab": {
          "base_uri": "https://localhost:8080/"
        },
        "id": "sTQMxN_GfCdz",
        "outputId": "7ae1bfb2-cb6b-4e80-d5ca-9fd931805d3c"
      },
      "execution_count": 49,
      "outputs": [
        {
          "output_type": "stream",
          "name": "stdout",
          "text": [
            "{'dairymilk': {'flavour': 'chocolatty', 'colour': 'dark brown', 'taste': 'sweet'}, 'kaccha_mango': {'flavour': 'salty', 'colour': 'green', 'taste': 'sour'}, 'milky_bar': {'flavour': 'milky', 'colour': 'white', 'taste': 'sweet and creamy'}}\n"
          ]
        }
      ]
    },
    {
      "cell_type": "code",
      "source": [
        "dairymilk={\n",
        "   'flavour':'chocolatty',\n",
        "   'colour':'dark brown',\n",
        "    'taste':'sweet'\n",
        "}\n",
        "kaccha_mango={\n",
        "        'flavour':'salty',\n",
        "         'colour':'green',\n",
        "         'taste':'sour'\n",
        "}\n",
        "milky_bar={\n",
        "        'flavour':'milky',\n",
        "        'colour':'white',\n",
        "        'taste':'sweet and creamy'\n",
        "}\n",
        "chocolates={\n",
        "    'dairymilk':dairymilk,\n",
        "    'kaccha_mango':kaccha_mango,\n",
        "    'milky_bar':milky_bar\n",
        "}\n",
        "print(chocolates)"
      ],
      "metadata": {
        "colab": {
          "base_uri": "https://localhost:8080/"
        },
        "id": "R9P3yhHyhFkW",
        "outputId": "f193f645-64f2-4283-aa64-0c7eb64001a8"
      },
      "execution_count": 52,
      "outputs": [
        {
          "output_type": "stream",
          "name": "stdout",
          "text": [
            "{'dairymilk': {'flavour': 'chocolatty', 'colour': 'dark brown', 'taste': 'sweet'}, 'kaccha_mango': {'flavour': 'salty', 'colour': 'green', 'taste': 'sour'}, 'milky_bar': {'flavour': 'milky', 'colour': 'white', 'taste': 'sweet and creamy'}}\n"
          ]
        }
      ]
    }
  ]
}