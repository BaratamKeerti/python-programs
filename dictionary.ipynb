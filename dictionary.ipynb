{
  "nbformat": 4,
  "nbformat_minor": 0,
  "metadata": {
    "colab": {
      "name": "dictionary.ipynb",
      "provenance": [],
      "collapsed_sections": [],
      "authorship_tag": "ABX9TyNbES2Xj0brx9bJrVJMZoy5",
      "include_colab_link": true
    },
    "kernelspec": {
      "name": "python3",
      "display_name": "Python 3"
    },
    "language_info": {
      "name": "python"
    }
  },
  "cells": [
    {
      "cell_type": "markdown",
      "metadata": {
        "id": "view-in-github",
        "colab_type": "text"
      },
      "source": [
        "<a href=\"https://colab.research.google.com/github/BaratamKeerti/python-programs/blob/main/dictionary.ipynb\" target=\"_parent\"><img src=\"https://colab.research.google.com/assets/colab-badge.svg\" alt=\"Open In Colab\"/></a>"
      ]
    },
    {
      "cell_type": "markdown",
      "source": [
        "# *DICTIONARY*"
      ],
      "metadata": {
        "id": "7c-VqiB1YT35"
      }
    },
    {
      "cell_type": "code",
      "source": [
        "me={\n",
        "    'name': 'Keerti',\n",
        "    'age': 17,\n",
        "     'gender': 'female'\n",
        "}\n",
        "print(me)"
      ],
      "metadata": {
        "colab": {
          "base_uri": "https://localhost:8080/"
        },
        "id": "9u-j37bBYTGh",
        "outputId": "b825f01a-5b82-49e6-afd5-d04ab2f47323"
      },
      "execution_count": 1,
      "outputs": [
        {
          "output_type": "stream",
          "name": "stdout",
          "text": [
            "{'name': 'Keerti', 'age': 17, 'gender': 'female'}\n"
          ]
        }
      ]
    },
    {
      "cell_type": "code",
      "source": [
        "me={\n",
        "    'name': 'Keerti',\n",
        "    'age': 17,\n",
        "     'gender': 'female'\n",
        "}\n",
        "print(me['age'])"
      ],
      "metadata": {
        "colab": {
          "base_uri": "https://localhost:8080/"
        },
        "id": "7ifQVb02ZD5p",
        "outputId": "2fd056c9-3562-4f76-e93d-f021b444ee90"
      },
      "execution_count": 3,
      "outputs": [
        {
          "output_type": "stream",
          "name": "stdout",
          "text": [
            "17\n"
          ]
        }
      ]
    },
    {
      "cell_type": "code",
      "source": [
        "me={\n",
        "    'name': 'Keerti',\n",
        "    'age': 17,\n",
        "     'gender': 'female'\n",
        "}\n",
        "print(len(me))"
      ],
      "metadata": {
        "colab": {
          "base_uri": "https://localhost:8080/"
        },
        "id": "ibSrunZ_Zu7w",
        "outputId": "dddeaa10-5d33-4439-ef0e-f1d487dd9038"
      },
      "execution_count": 4,
      "outputs": [
        {
          "output_type": "stream",
          "name": "stdout",
          "text": [
            "3\n"
          ]
        }
      ]
    },
    {
      "cell_type": "code",
      "source": [
        "chocolates={\n",
        "    'colour': 'brown',\n",
        "    'taste': 'sweet',\n",
        "    'names' : ['dairymilk','5star','alpino']\n",
        "}\n",
        "print(chocolates)"
      ],
      "metadata": {
        "colab": {
          "base_uri": "https://localhost:8080/"
        },
        "id": "ZQFXt86dZ_3w",
        "outputId": "c7f894e7-d12c-484b-9136-32afd9930abe"
      },
      "execution_count": 7,
      "outputs": [
        {
          "output_type": "stream",
          "name": "stdout",
          "text": [
            "{'colour': 'brown', 'taste': 'sweet', 'names': ['dairymilk', '5star', 'alpino']}\n"
          ]
        }
      ]
    },
    {
      "cell_type": "code",
      "source": [
        "chocolates={\n",
        "    'colour': 'brown',\n",
        "    'taste': 'sweet',\n",
        "    'names' : ['dairymilk','5star','alpino']\n",
        "}\n",
        "print(chocolates)\n",
        "print(type(chocolates))"
      ],
      "metadata": {
        "colab": {
          "base_uri": "https://localhost:8080/"
        },
        "id": "sKOYSexxbMBA",
        "outputId": "42a755e7-60de-4d5c-e94f-9473c597d808"
      },
      "execution_count": 8,
      "outputs": [
        {
          "output_type": "stream",
          "name": "stdout",
          "text": [
            "{'colour': 'brown', 'taste': 'sweet', 'names': ['dairymilk', '5star', 'alpino']}\n",
            "<class 'dict'>\n"
          ]
        }
      ]
    },
    {
      "cell_type": "markdown",
      "source": [
        "# *ACCESSING LIST ITEMS*"
      ],
      "metadata": {
        "id": "7G3JStc5cAp5"
      }
    },
    {
      "cell_type": "code",
      "source": [
        "chocolates={\n",
        "    'colour': 'brown',\n",
        "    'taste': 'sweet',\n",
        "    'names' : ['dairymilk','5star','alpino']\n",
        "}\n",
        "print(chocolates['taste'])"
      ],
      "metadata": {
        "colab": {
          "base_uri": "https://localhost:8080/"
        },
        "id": "c5WgMnBSb7fA",
        "outputId": "6f4df1ef-b19d-48d2-d0b9-ee4a01c9d793"
      },
      "execution_count": 9,
      "outputs": [
        {
          "output_type": "stream",
          "name": "stdout",
          "text": [
            "sweet\n"
          ]
        }
      ]
    },
    {
      "cell_type": "code",
      "source": [
        "#get\n",
        "chocolates={\n",
        "    'colour': 'brown',\n",
        "    'taste': 'sweet',\n",
        "    'names' : ['dairymilk','5star','alpino']\n",
        "}\n",
        "print(chocolates.get('colour'))"
      ],
      "metadata": {
        "colab": {
          "base_uri": "https://localhost:8080/"
        },
        "id": "nlsqj1zkcMCP",
        "outputId": "9d910f2d-3166-47b9-eccb-32e8246d4aee"
      },
      "execution_count": 11,
      "outputs": [
        {
          "output_type": "stream",
          "name": "stdout",
          "text": [
            "brown\n"
          ]
        }
      ]
    },
    {
      "cell_type": "code",
      "source": [
        "#keys\n",
        "chocolates={\n",
        "    'colour': 'brown',\n",
        "    'taste': 'sweet',\n",
        "    'names' : ['dairymilk','5star','alpino']\n",
        "}\n",
        "a=chocolates.keys()\n",
        "print(a)"
      ],
      "metadata": {
        "colab": {
          "base_uri": "https://localhost:8080/"
        },
        "id": "ZCnlLDgUcZ5_",
        "outputId": "b3ed99ef-b038-4d82-c50b-75ba6d83fb45"
      },
      "execution_count": 14,
      "outputs": [
        {
          "output_type": "stream",
          "name": "stdout",
          "text": [
            "dict_keys(['colour', 'taste', 'names'])\n"
          ]
        }
      ]
    },
    {
      "cell_type": "code",
      "source": [
        "chocolates={\n",
        "    'colour': 'brown',\n",
        "    'taste': 'sweet',\n",
        "    'names' : ['dairymilk','5star','alpino']\n",
        "}\n",
        "a=chocolates.keys()\n",
        "print(a)\n",
        "print(chocolates)\n",
        "chocolates['flavour']='choco'\n",
        "print(chocolates)"
      ],
      "metadata": {
        "colab": {
          "base_uri": "https://localhost:8080/"
        },
        "id": "Ikx9gOLmcod_",
        "outputId": "f24e5837-ea94-4e00-b825-77ed59d19bc7"
      },
      "execution_count": 15,
      "outputs": [
        {
          "output_type": "stream",
          "name": "stdout",
          "text": [
            "dict_keys(['colour', 'taste', 'names'])\n",
            "{'colour': 'brown', 'taste': 'sweet', 'names': ['dairymilk', '5star', 'alpino']}\n",
            "{'colour': 'brown', 'taste': 'sweet', 'names': ['dairymilk', '5star', 'alpino'], 'flavour': 'choco'}\n"
          ]
        }
      ]
    },
    {
      "cell_type": "code",
      "source": [
        "#values\n",
        "chocolates={\n",
        "    'colour': 'brown',\n",
        "    'taste': 'sweet',\n",
        "    'names' : ['dairymilk','5star','alpino']\n",
        "}\n",
        "print(chocolates.keys())\n",
        "print(chocolates.values())\n",
        "print(chocolates)"
      ],
      "metadata": {
        "colab": {
          "base_uri": "https://localhost:8080/"
        },
        "id": "HFL0DuMqfKZu",
        "outputId": "d47beeaf-a66c-4c1d-c08f-af5b3b48ea8d"
      },
      "execution_count": 17,
      "outputs": [
        {
          "output_type": "stream",
          "name": "stdout",
          "text": [
            "dict_keys(['colour', 'taste', 'names'])\n",
            "dict_values(['brown', 'sweet', ['dairymilk', '5star', 'alpino']])\n",
            "{'colour': 'brown', 'taste': 'sweet', 'names': ['dairymilk', '5star', 'alpino']}\n"
          ]
        }
      ]
    },
    {
      "cell_type": "code",
      "source": [
        "#items\n",
        "chocolates={\n",
        "    'colour': 'brown',\n",
        "    'taste': 'sweet',\n",
        "    'names' : ['dairymilk','5star','alpino']\n",
        "}\n",
        "print(chocolates.items())"
      ],
      "metadata": {
        "colab": {
          "base_uri": "https://localhost:8080/"
        },
        "id": "qy64CLqGfh6O",
        "outputId": "fe0f475c-2ecc-4da3-cda0-96aa430301a2"
      },
      "execution_count": 19,
      "outputs": [
        {
          "output_type": "stream",
          "name": "stdout",
          "text": [
            "dict_items([('colour', 'brown'), ('taste', 'sweet'), ('names', ['dairymilk', '5star', 'alpino'])])\n"
          ]
        }
      ]
    },
    {
      "cell_type": "code",
      "source": [
        "chocolates={\n",
        "    'colour': 'brown',\n",
        "    'taste': 'sweet',\n",
        "    'names' : ['dairymilk','5star','alpino']\n",
        "}\n",
        "print(chocolates.items())               #before change\n",
        "chocolates['taste']='sweet and milky'\n",
        "print(chocolates.items())               #after change"
      ],
      "metadata": {
        "colab": {
          "base_uri": "https://localhost:8080/"
        },
        "id": "lxZXloEpgNsl",
        "outputId": "c02bde17-6c39-40f5-9f70-b8bd4dee56c4"
      },
      "execution_count": 22,
      "outputs": [
        {
          "output_type": "stream",
          "name": "stdout",
          "text": [
            "dict_items([('colour', 'brown'), ('taste', 'sweet'), ('names', ['dairymilk', '5star', 'alpino'])])\n",
            "dict_items([('colour', 'brown'), ('taste', 'sweet and milky'), ('names', ['dairymilk', '5star', 'alpino'])])\n"
          ]
        }
      ]
    },
    {
      "cell_type": "code",
      "source": [
        ""
      ],
      "metadata": {
        "id": "F_x3CximhDBe"
      },
      "execution_count": null,
      "outputs": []
    }
  ]
}