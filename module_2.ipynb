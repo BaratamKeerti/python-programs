{
  "nbformat": 4,
  "nbformat_minor": 0,
  "metadata": {
    "colab": {
      "name": "module-2.ipynb",
      "provenance": [],
      "collapsed_sections": [],
      "authorship_tag": "ABX9TyMYNI/30VVlFIrKCQ4lor/q",
      "include_colab_link": true
    },
    "kernelspec": {
      "name": "python3",
      "display_name": "Python 3"
    },
    "language_info": {
      "name": "python"
    }
  },
  "cells": [
    {
      "cell_type": "markdown",
      "metadata": {
        "id": "view-in-github",
        "colab_type": "text"
      },
      "source": [
        "<a href=\"https://colab.research.google.com/github/BaratamKeerti/python-programs/blob/main/module_2.ipynb\" target=\"_parent\"><img src=\"https://colab.research.google.com/assets/colab-badge.svg\" alt=\"Open In Colab\"/></a>"
      ]
    },
    {
      "cell_type": "markdown",
      "source": [
        "# *MODULE - 2 PROGRAMS*"
      ],
      "metadata": {
        "id": "ht8uFkiop4Vx"
      }
    },
    {
      "cell_type": "code",
      "source": [
        "#Create a function which accepts two inputs from the user and compute nCr\n",
        "def fact(i):\n",
        "  if i>0:\n",
        "    return i*fact(i-1)\n",
        "  else:\n",
        "    return 1\n",
        "def comb(n,r):\n",
        "  return (fact(n)/((fact(n-r))*fact(r)))\n",
        "a=int(input('a='))\n",
        "b=int(input('b='))\n",
        "comb(a,b)"
      ],
      "metadata": {
        "colab": {
          "base_uri": "https://localhost:8080/"
        },
        "id": "Is33fUctp-vv",
        "outputId": "880cd223-db18-496b-a942-8974b5ac3556"
      },
      "execution_count": null,
      "outputs": [
        {
          "name": "stdout",
          "output_type": "stream",
          "text": [
            "a=5\n",
            "b=3\n"
          ]
        },
        {
          "output_type": "execute_result",
          "data": {
            "text/plain": [
              "10.0"
            ]
          },
          "metadata": {},
          "execution_count": 9
        }
      ]
    },
    {
      "cell_type": "code",
      "source": [
        "#Program to print a specified list after removing the 0th, 4th and 5th elements.\n",
        "#Sample List : ['Red', 'Green', 'White', 'Black', 'Pink', 'Yellow']\n",
        "#Expected Output : ['Green', 'White', 'Black']\n",
        "my_list=['Red','Green','White','Black','Pink','Yellow']\n",
        "del my_list[0]\n",
        "del my_list[3]\n",
        "del my_list[3]\n",
        "print(my_list)"
      ],
      "metadata": {
        "colab": {
          "base_uri": "https://localhost:8080/"
        },
        "id": "Ep3Nj9JPrDdH",
        "outputId": "286f60a2-403d-46ee-bcd9-da7c1b4ec2c4"
      },
      "execution_count": null,
      "outputs": [
        {
          "output_type": "stream",
          "name": "stdout",
          "text": [
            "['Green', 'White', 'Black']\n"
          ]
        }
      ]
    },
    {
      "cell_type": "code",
      "source": [
        "#Program to get the difference between the two lists.\n",
        "one_list=[1,4,2,4,2,5,7,5,7,8,4,3,5]\n",
        "other_list=[3,4,5,3,6,3,7,9,2]\n",
        "x=set(one_list)\n",
        "y=set(other_list)\n",
        "z1=x.difference(y)\n",
        "z2=y.difference(x)\n",
        "print(list(z1))\n",
        "print(list(z2))"
      ],
      "metadata": {
        "colab": {
          "base_uri": "https://localhost:8080/"
        },
        "id": "mknr7plhveQC",
        "outputId": "b7d86485-78cc-4ebc-c03f-4368f382e2d3"
      },
      "execution_count": null,
      "outputs": [
        {
          "output_type": "stream",
          "name": "stdout",
          "text": [
            "[8, 1]\n",
            "[9, 6]\n"
          ]
        }
      ]
    },
    {
      "cell_type": "code",
      "source": [
        "#Program to find the second smallest number and second largest number in a list\n",
        "my_list=[4,2,6,1,8,46,987,236,54]\n",
        "my_list.sort()\n",
        "print(my_list)\n",
        "print(\"The second smallest number in the given list is: \",my_list[1])\n",
        "print(\"The second largest number in the given list is: \",my_list[len(my_list)-2])\n"
      ],
      "metadata": {
        "colab": {
          "base_uri": "https://localhost:8080/"
        },
        "id": "N7aEX75Zzd1D",
        "outputId": "fa002f40-84ba-4dd3-954a-856c562e4796"
      },
      "execution_count": null,
      "outputs": [
        {
          "output_type": "stream",
          "name": "stdout",
          "text": [
            "[1, 2, 4, 6, 8, 46, 54, 236, 987]\n",
            "The second smallest number in the given list is:  2\n",
            "The second largest number in the given list is:  236\n"
          ]
        }
      ]
    },
    {
      "cell_type": "code",
      "source": [
        "#Given list of tuples, remove all the tuples with length K.\n",
        "#Input : test_list = [(4, 5), (4, ), (8, 6, 7), (1, ), (3, 4, 6, 7)], K = 2\n",
        "#Output : [(4, ), (8, 6, 7), (1, ), (3, 4, 6, 7)] \n",
        "test_list = [(4, 5), (4, ), (8, 6, 7), (1, ), (3, 4, 6, 7)]\n",
        "new_list=[]\n",
        "K=2\n",
        "for x in test_list:\n",
        "  if len(x)!=K:\n",
        "    new_list.append(x)\n",
        "print(\"The filtered list without containing any element of tupple length '2' is:\",new_list)"
      ],
      "metadata": {
        "id": "7MvlBXJ80zbj",
        "colab": {
          "base_uri": "https://localhost:8080/"
        },
        "outputId": "eae2b014-9071-43b7-f368-fe06c6aa652d"
      },
      "execution_count": null,
      "outputs": [
        {
          "output_type": "stream",
          "name": "stdout",
          "text": [
            "The filtered list without containing any element of tupple length '2' is: [(4,), (8, 6, 7), (1,), (3, 4, 6, 7)]\n"
          ]
        }
      ]
    },
    {
      "cell_type": "code",
      "source": [
        "#Given a list of numbers of list, write a Python program to create a list of tuples having first element as\n",
        "#the number and second element as the square of the number.\n",
        "no_list=[3,86,4,56,12]\n",
        "result=[(x,x**2) for x in no_list]\n",
        "print(\"The required list is: \",result)"
      ],
      "metadata": {
        "colab": {
          "base_uri": "https://localhost:8080/"
        },
        "id": "6huyVUwmtFYI",
        "outputId": "8ed85899-88f3-4fdd-bf69-3f60270032ce"
      },
      "execution_count": null,
      "outputs": [
        {
          "output_type": "stream",
          "name": "stdout",
          "text": [
            "The required list is:  [(3, 9), (86, 7396), (4, 16), (56, 3136), (12, 144)]\n"
          ]
        }
      ]
    },
    {
      "cell_type": "code",
      "source": [
        "#Given a list of numbers of list, write a Python program to create a list of tuples having first element as\n",
        "#the number and second element as the square of the number.\n",
        "no_list=[3,86,4,56,12]\n",
        "new_list=[]\n",
        "for i in no_list:\n",
        "  y=(i,i**2)\n",
        "  new_list.append(y)\n",
        "print(\"The required list is:\",new_list)"
      ],
      "metadata": {
        "colab": {
          "base_uri": "https://localhost:8080/"
        },
        "id": "vRAEDCwFwO5N",
        "outputId": "9feb6b33-e3fa-43b4-d9ee-d0eed9d0e37e"
      },
      "execution_count": null,
      "outputs": [
        {
          "output_type": "stream",
          "name": "stdout",
          "text": [
            "The required list is: [(3, 9), (86, 7396), (4, 16), (56, 3136), (12, 144)]\n"
          ]
        }
      ]
    },
    {
      "cell_type": "code",
      "source": [
        "#Program to generate and print a dictionary that contains a number (between 1 and n) in the form (x, x*x). \n",
        "my_dictionary=dict()\n",
        "x=int(input(\"Enter a number: \"))\n",
        "for i in range(1,x+1):\n",
        "  my_dictionary.update({i:i**2})\n",
        "print(\"The obtained dictionary is:\",my_dictionary)"
      ],
      "metadata": {
        "colab": {
          "base_uri": "https://localhost:8080/"
        },
        "id": "X_jM2nkFxVdR",
        "outputId": "789316bc-19c1-4f78-e530-dec9179fa591"
      },
      "execution_count": null,
      "outputs": [
        {
          "output_type": "stream",
          "name": "stdout",
          "text": [
            "Enter a number: 6\n",
            "The obtained dictionary is: {1: 1, 2: 4, 3: 9, 4: 16, 5: 25, 6: 36}\n"
          ]
        }
      ]
    },
    {
      "cell_type": "code",
      "source": [
        "# Program to remove a key from a dictionary\n",
        "chocolate={\n",
        "    'name':'dairymilk',\n",
        "    'colour':'brown',\n",
        "    'taste':'sweet',\n",
        "    'cost':40\n",
        "}\n",
        "chocolate.pop('taste')\n",
        "print(chocolate)\n",
        "del chocolate['cost']\n",
        "print(chocolate)"
      ],
      "metadata": {
        "colab": {
          "base_uri": "https://localhost:8080/"
        },
        "id": "u5kogSrB0eWX",
        "outputId": "8092af01-4617-4d81-d379-ecdf7cbf3d22"
      },
      "execution_count": null,
      "outputs": [
        {
          "output_type": "stream",
          "name": "stdout",
          "text": [
            "{'name': 'dairymilk', 'colour': 'brown', 'cost': 40}\n",
            "{'name': 'dairymilk', 'colour': 'brown'}\n"
          ]
        }
      ]
    },
    {
      "cell_type": "code",
      "source": [
        ""
      ],
      "metadata": {
        "id": "KV5wWYWB2Lvy"
      },
      "execution_count": null,
      "outputs": []
    }
  ]
}