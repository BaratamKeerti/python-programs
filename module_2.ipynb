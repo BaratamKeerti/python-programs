{
  "nbformat": 4,
  "nbformat_minor": 0,
  "metadata": {
    "colab": {
      "name": "module-2.ipynb",
      "provenance": [],
      "collapsed_sections": [],
      "authorship_tag": "ABX9TyMngcwt1kGWhENBgvnzDvlG",
      "include_colab_link": true
    },
    "kernelspec": {
      "name": "python3",
      "display_name": "Python 3"
    },
    "language_info": {
      "name": "python"
    }
  },
  "cells": [
    {
      "cell_type": "markdown",
      "metadata": {
        "id": "view-in-github",
        "colab_type": "text"
      },
      "source": [
        "<a href=\"https://colab.research.google.com/github/BaratamKeerti/python-programs/blob/main/module_2.ipynb\" target=\"_parent\"><img src=\"https://colab.research.google.com/assets/colab-badge.svg\" alt=\"Open In Colab\"/></a>"
      ]
    },
    {
      "cell_type": "markdown",
      "source": [
        "# *MODULE - 2 PROGRAMS*"
      ],
      "metadata": {
        "id": "ht8uFkiop4Vx"
      }
    },
    {
      "cell_type": "code",
      "source": [
        "#Create a function which accepts two inputs from the user and compute nCr\n",
        "def fact(i):\n",
        "  if i>0:\n",
        "    return i*fact(i-1)\n",
        "  else:\n",
        "    return 1\n",
        "def comb(n,r):\n",
        "  return (fact(n)/((fact(n-r))*fact(r)))\n",
        "a=int(input('a='))\n",
        "b=int(input('b='))\n",
        "comb(a,b)"
      ],
      "metadata": {
        "colab": {
          "base_uri": "https://localhost:8080/"
        },
        "id": "Is33fUctp-vv",
        "outputId": "880cd223-db18-496b-a942-8974b5ac3556"
      },
      "execution_count": 9,
      "outputs": [
        {
          "name": "stdout",
          "output_type": "stream",
          "text": [
            "a=5\n",
            "b=3\n"
          ]
        },
        {
          "output_type": "execute_result",
          "data": {
            "text/plain": [
              "10.0"
            ]
          },
          "metadata": {},
          "execution_count": 9
        }
      ]
    },
    {
      "cell_type": "code",
      "source": [
        "#Program to print a specified list after removing the 0th, 4th and 5th elements.\n",
        "#Sample List : ['Red', 'Green', 'White', 'Black', 'Pink', 'Yellow']\n",
        "#Expected Output : ['Green', 'White', 'Black']\n",
        "my_list=['Red','Green','White','Black','Pink','Yellow']\n",
        "del my_list[0]\n",
        "del my_list[3]\n",
        "del my_list[3]\n",
        "print(my_list)"
      ],
      "metadata": {
        "colab": {
          "base_uri": "https://localhost:8080/"
        },
        "id": "Ep3Nj9JPrDdH",
        "outputId": "286f60a2-403d-46ee-bcd9-da7c1b4ec2c4"
      },
      "execution_count": 16,
      "outputs": [
        {
          "output_type": "stream",
          "name": "stdout",
          "text": [
            "['Green', 'White', 'Black']\n"
          ]
        }
      ]
    },
    {
      "cell_type": "code",
      "source": [
        "#Program to get the difference between the two lists.\n",
        "one_list=[1,4,2,4,2,5,7,5,7,8,4,3,5]\n",
        "other_list=[3,4,5,3,6,3,7,9,2]\n",
        "x=set(one_list)\n",
        "y=set(other_list)\n",
        "z1=x.difference(y)\n",
        "z2=y.difference(x)\n",
        "print(list(z1))\n",
        "print(list(z2))"
      ],
      "metadata": {
        "colab": {
          "base_uri": "https://localhost:8080/"
        },
        "id": "mknr7plhveQC",
        "outputId": "b7d86485-78cc-4ebc-c03f-4368f382e2d3"
      },
      "execution_count": 19,
      "outputs": [
        {
          "output_type": "stream",
          "name": "stdout",
          "text": [
            "[8, 1]\n",
            "[9, 6]\n"
          ]
        }
      ]
    },
    {
      "cell_type": "code",
      "source": [
        "#Program to find the second smallest number and second largest number in a list\n",
        "my_list=[4,2,6,1,8,46,987,236,54]\n",
        "x=my_list.sort()\n",
        "y=my_list.sort(reverse=True)\n",
        "print(x)\n",
        "print(y)"
      ],
      "metadata": {
        "colab": {
          "base_uri": "https://localhost:8080/"
        },
        "id": "N7aEX75Zzd1D",
        "outputId": "6873b5ef-04ce-4d9f-8333-4e70c937a0d2"
      },
      "execution_count": 21,
      "outputs": [
        {
          "output_type": "stream",
          "name": "stdout",
          "text": [
            "None\n",
            "None\n"
          ]
        }
      ]
    },
    {
      "cell_type": "code",
      "source": [
        ""
      ],
      "metadata": {
        "id": "7MvlBXJ80zbj"
      },
      "execution_count": null,
      "outputs": []
    }
  ]
}