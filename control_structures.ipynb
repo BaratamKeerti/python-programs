{
  "nbformat": 4,
  "nbformat_minor": 0,
  "metadata": {
    "colab": {
      "name": "control-structures.ipynb",
      "provenance": [],
      "collapsed_sections": [],
      "authorship_tag": "ABX9TyOJsHnN3Gaj5SVvNXL9lM6E",
      "include_colab_link": true
    },
    "kernelspec": {
      "name": "python3",
      "display_name": "Python 3"
    },
    "language_info": {
      "name": "python"
    }
  },
  "cells": [
    {
      "cell_type": "markdown",
      "metadata": {
        "id": "view-in-github",
        "colab_type": "text"
      },
      "source": [
        "<a href=\"https://colab.research.google.com/github/BaratamKeerti/python-programs/blob/main/control_structures.ipynb\" target=\"_parent\"><img src=\"https://colab.research.google.com/assets/colab-badge.svg\" alt=\"Open In Colab\"/></a>"
      ]
    },
    {
      "cell_type": "code",
      "source": [
        "#sum of first n-numbers\n",
        "n=10\n",
        "i=1\n",
        "sum=0\n",
        "while i<=n:\n",
        "               sum=sum+i\n",
        "               i=i+1\n",
        "print(\"sum is\",sum)"
      ],
      "metadata": {
        "colab": {
          "base_uri": "https://localhost:8080/"
        },
        "id": "fjwRQtsILwxy",
        "outputId": "cb73c48d-fb32-4afa-8454-9de50ea3063d"
      },
      "execution_count": 7,
      "outputs": [
        {
          "output_type": "stream",
          "name": "stdout",
          "text": [
            "sum is 55\n"
          ]
        }
      ]
    },
    {
      "cell_type": "code",
      "source": [
        "#finding the type of triangle\n",
        "a=int(input(\"enter the value a\"))\n",
        "b=int(input(\"enter the value b\"))\n",
        "c=int(input(\"enter the value c\"))\n",
        "if a==b==c:\n",
        "            print(\"the triangle is equilateral\")\n",
        "elif (a==b or a==c) or (b==a or b==c) or (c==a or c==b):\n",
        "            print(\"the triangle is isosceles\")\n",
        "else:\n",
        "            print(\"the triangle is scalene\")"
      ],
      "metadata": {
        "colab": {
          "base_uri": "https://localhost:8080/"
        },
        "id": "6hA0Ba-dNv1A",
        "outputId": "cf2e6f42-384e-4717-a47f-153e5fe3b74e"
      },
      "execution_count": 18,
      "outputs": [
        {
          "output_type": "stream",
          "name": "stdout",
          "text": [
            "enter the value a4\n",
            "enter the value b6\n",
            "enter the value c6\n",
            "the triangle is isosceles\n"
          ]
        }
      ]
    },
    {
      "cell_type": "code",
      "source": [
        "# finding whether the entered year is leap or not\n",
        "year=int(input(\"enter the year:\"))\n",
        "if year%400==0 or (year%4==0 and year%100!=0):\n",
        "     print(\"the year is a leap year and the entered year is\",year)\n",
        "else:\n",
        "     print(\"the year is not a leap year and the entered year is\",year)"
      ],
      "metadata": {
        "colab": {
          "base_uri": "https://localhost:8080/"
        },
        "id": "fYQQOO6bQTkZ",
        "outputId": "a5b28eff-7a1b-42a4-b06c-6a697f39b84b"
      },
      "execution_count": 19,
      "outputs": [
        {
          "output_type": "stream",
          "name": "stdout",
          "text": [
            "enter the year:87656\n",
            "the year is a leap year and the entered year is 87656\n"
          ]
        }
      ]
    },
    {
      "cell_type": "code",
      "source": [
        "#Find minimum among three numbers\n",
        "a=int(input(\"enter the value a:\"))\n",
        "b=int(input(\"enter the value b:\"))\n",
        "c=int(input(\"enter the value c:\"))\n",
        "if a>b and b>c:\n",
        "    print(\"a is greater\")\n",
        "elif b>c and b>a:\n",
        "    print(\"b is greater\")\n",
        "else:\n",
        "    print(\"c is greater\")"
      ],
      "metadata": {
        "colab": {
          "base_uri": "https://localhost:8080/"
        },
        "id": "SxnRedVqSek5",
        "outputId": "87545ef5-fe70-47a9-9bc1-9af40e3f5f62"
      },
      "execution_count": 20,
      "outputs": [
        {
          "output_type": "stream",
          "name": "stdout",
          "text": [
            "enter the value a:5\n",
            "enter the value b:9\n",
            "enter the value c:0\n",
            "b is greater\n"
          ]
        }
      ]
    },
    {
      "cell_type": "code",
      "source": [
        "# Check whether a number is divisible by 5 and 11 or not.\n",
        "number=(int(input(\"enter a number:\")))\n",
        "if number%5==0 and number%11==0:\n",
        "  print(\"the number is divisible by 5 and 11\")\n",
        "else:\n",
        "  print(\"the number is not divisible by 5 and 11\")"
      ],
      "metadata": {
        "colab": {
          "base_uri": "https://localhost:8080/"
        },
        "id": "XlibaZ7NTajR",
        "outputId": "04e53f79-c797-4610-975e-2ac335c5e21d"
      },
      "execution_count": 25,
      "outputs": [
        {
          "output_type": "stream",
          "name": "stdout",
          "text": [
            "enter a number:556655\n",
            "the number is divisible by 5 and 11\n"
          ]
        }
      ]
    },
    {
      "cell_type": "code",
      "source": [
        "#Find Roots of a Quadratic Equation\n",
        "import math\n",
        "a=int(input(\"enter the x^2 coefficient:\"))\n",
        "b=int(input(\"enter the x coefficient:\"))\n",
        "c=int(input(\"enter the constant term:\"))\n",
        "d=b*b-(4*a*c)\n",
        "if d>0:\n",
        "     e=(-b+d)/2*a\n",
        "     f=(-b-d)/2*a\n",
        "     print(\"the roots are:\",e,f)\n",
        "elif d==0:\n",
        "     x=(-b)/2*a\n",
        "     print(\"the root is:\",x)\n",
        "else:\n",
        "     print(\"the roots are imaginary\")"
      ],
      "metadata": {
        "colab": {
          "base_uri": "https://localhost:8080/"
        },
        "id": "41Qtxn-qUKim",
        "outputId": "74ecaffa-5507-4411-a1da-b740dbe5267b"
      },
      "execution_count": 29,
      "outputs": [
        {
          "output_type": "stream",
          "name": "stdout",
          "text": [
            "enter the x^2 coefficient:4\n",
            "enter the x coefficient:5\n",
            "enter the constant term:1\n",
            "the roots are: 8.0 -28.0\n"
          ]
        }
      ]
    }
  ]
}