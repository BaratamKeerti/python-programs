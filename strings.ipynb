{
  "nbformat": 4,
  "nbformat_minor": 0,
  "metadata": {
    "colab": {
      "name": "strings.ipynb",
      "provenance": [],
      "authorship_tag": "ABX9TyM/cgXsC3tevOcAsCkiYtY1",
      "include_colab_link": true
    },
    "kernelspec": {
      "name": "python3",
      "display_name": "Python 3"
    },
    "language_info": {
      "name": "python"
    }
  },
  "cells": [
    {
      "cell_type": "markdown",
      "metadata": {
        "id": "view-in-github",
        "colab_type": "text"
      },
      "source": [
        "<a href=\"https://colab.research.google.com/github/BaratamKeerti/python-programs/blob/main/strings.ipynb\" target=\"_parent\"><img src=\"https://colab.research.google.com/assets/colab-badge.svg\" alt=\"Open In Colab\"/></a>"
      ]
    },
    {
      "cell_type": "code",
      "execution_count": 1,
      "metadata": {
        "colab": {
          "base_uri": "https://localhost:8080/"
        },
        "id": "NKlbXOvz8CEl",
        "outputId": "d547d0b8-99b1-47ba-b0b2-46456fce399b"
      },
      "outputs": [
        {
          "output_type": "stream",
          "name": "stdout",
          "text": [
            "keerti\n",
            "<class 'str'>\n"
          ]
        }
      ],
      "source": [
        "a='keerti'\n",
        "print(a)\n",
        "print(type(a))"
      ]
    },
    {
      "cell_type": "code",
      "source": [
        "a='keerti'\n",
        "print(a)\n",
        "print(a[4])"
      ],
      "metadata": {
        "colab": {
          "base_uri": "https://localhost:8080/"
        },
        "id": "Z1-IRv8h8Wdc",
        "outputId": "f7c4f00d-519b-4b3d-c7c7-7ec265f82c46"
      },
      "execution_count": 2,
      "outputs": [
        {
          "output_type": "stream",
          "name": "stdout",
          "text": [
            "keerti\n",
            "t\n"
          ]
        }
      ]
    },
    {
      "cell_type": "code",
      "source": [
        "a=\"how are you?\"\n",
        "print(len(a))"
      ],
      "metadata": {
        "colab": {
          "base_uri": "https://localhost:8080/"
        },
        "id": "EIbQPAbK8iQV",
        "outputId": "e0d75b02-511d-42f9-fb69-c69655804a82"
      },
      "execution_count": 3,
      "outputs": [
        {
          "output_type": "stream",
          "name": "stdout",
          "text": [
            "12\n"
          ]
        }
      ]
    },
    {
      "cell_type": "code",
      "source": [
        "a=\"Learn python for better understanding programming languages\"\n",
        "print('understanding' in a)"
      ],
      "metadata": {
        "colab": {
          "base_uri": "https://localhost:8080/"
        },
        "id": "CJV2bR398uHE",
        "outputId": "fc41f0c8-1f66-4e95-da12-b5d15b35506a"
      },
      "execution_count": 7,
      "outputs": [
        {
          "output_type": "stream",
          "name": "stdout",
          "text": [
            "True\n"
          ]
        }
      ]
    },
    {
      "cell_type": "code",
      "source": [
        "a=\"Learn python for better understanding programming languages\"\n",
        "print('knid' in a)"
      ],
      "metadata": {
        "colab": {
          "base_uri": "https://localhost:8080/"
        },
        "id": "wVJcqYn-9R0j",
        "outputId": "92199016-d3be-4d46-f105-a75956c6bf98"
      },
      "execution_count": 8,
      "outputs": [
        {
          "output_type": "stream",
          "name": "stdout",
          "text": [
            "False\n"
          ]
        }
      ]
    },
    {
      "cell_type": "code",
      "source": [
        "a=\"Learn python for better understanding programming languages\"\n",
        "print('Learn' not in a)"
      ],
      "metadata": {
        "colab": {
          "base_uri": "https://localhost:8080/"
        },
        "id": "m2Mj967z9ZF0",
        "outputId": "285f342c-fb2d-4cb0-e7d1-0ab22c5e007d"
      },
      "execution_count": 9,
      "outputs": [
        {
          "output_type": "stream",
          "name": "stdout",
          "text": [
            "False\n"
          ]
        }
      ]
    },
    {
      "cell_type": "code",
      "source": [
        "#slicing the string\n",
        "a=\"Learn pyhton for better understanding programming languages\"\n",
        "print(a[4:23])"
      ],
      "metadata": {
        "colab": {
          "base_uri": "https://localhost:8080/"
        },
        "id": "MazpWH7e9gL1",
        "outputId": "ad2893d1-9d0f-49c0-9029-8cfc0c9f0836"
      },
      "execution_count": 11,
      "outputs": [
        {
          "output_type": "stream",
          "name": "stdout",
          "text": [
            "n pyhton for better\n"
          ]
        }
      ]
    },
    {
      "cell_type": "code",
      "source": [
        "#Slice From the Start\n",
        "a=\"Learn pyhton for better understanding programming languages\"\n",
        "print(a[:32])"
      ],
      "metadata": {
        "colab": {
          "base_uri": "https://localhost:8080/"
        },
        "id": "VPMNpA8J966E",
        "outputId": "6e5bc19d-5de0-48fa-b85e-e30f57ca2873"
      },
      "execution_count": 12,
      "outputs": [
        {
          "output_type": "stream",
          "name": "stdout",
          "text": [
            "Learn pyhton for better understa\n"
          ]
        }
      ]
    },
    {
      "cell_type": "code",
      "source": [
        "#Slice To the End\n",
        "a=\"Learn pyhton for better understanding programming languages\"\n",
        "print(a[1:])"
      ],
      "metadata": {
        "colab": {
          "base_uri": "https://localhost:8080/"
        },
        "id": "ujyh3mUA-WX0",
        "outputId": "191abe44-ec94-4a70-e23b-dda97da51b21"
      },
      "execution_count": 13,
      "outputs": [
        {
          "output_type": "stream",
          "name": "stdout",
          "text": [
            "earn pyhton for better understanding programming languages\n"
          ]
        }
      ]
    }
  ]
}