{
  "nbformat": 4,
  "nbformat_minor": 0,
  "metadata": {
    "colab": {
      "name": "strings.ipynb",
      "provenance": [],
      "authorship_tag": "ABX9TyPo5LGcwqUeLrsIn3zsdjxn",
      "include_colab_link": true
    },
    "kernelspec": {
      "name": "python3",
      "display_name": "Python 3"
    },
    "language_info": {
      "name": "python"
    }
  },
  "cells": [
    {
      "cell_type": "markdown",
      "metadata": {
        "id": "view-in-github",
        "colab_type": "text"
      },
      "source": [
        "<a href=\"https://colab.research.google.com/github/BaratamKeerti/python-programs/blob/main/strings.ipynb\" target=\"_parent\"><img src=\"https://colab.research.google.com/assets/colab-badge.svg\" alt=\"Open In Colab\"/></a>"
      ]
    },
    {
      "cell_type": "markdown",
      "source": [
        "# ***STRINGS***"
      ],
      "metadata": {
        "id": "WsXdpH9vaDFb"
      }
    },
    {
      "cell_type": "markdown",
      "source": [
        "## BASICS IN STRINGS"
      ],
      "metadata": {
        "id": "GnhjgT4wh8dS"
      }
    },
    {
      "cell_type": "code",
      "execution_count": null,
      "metadata": {
        "colab": {
          "base_uri": "https://localhost:8080/"
        },
        "id": "NKlbXOvz8CEl",
        "outputId": "d547d0b8-99b1-47ba-b0b2-46456fce399b"
      },
      "outputs": [
        {
          "output_type": "stream",
          "name": "stdout",
          "text": [
            "keerti\n",
            "<class 'str'>\n"
          ]
        }
      ],
      "source": [
        "a='keerti'\n",
        "print(a)\n",
        "print(type(a))"
      ]
    },
    {
      "cell_type": "code",
      "source": [
        "a='keerti'\n",
        "print(a)\n",
        "print(a[4])"
      ],
      "metadata": {
        "colab": {
          "base_uri": "https://localhost:8080/"
        },
        "id": "Z1-IRv8h8Wdc",
        "outputId": "f7c4f00d-519b-4b3d-c7c7-7ec265f82c46"
      },
      "execution_count": null,
      "outputs": [
        {
          "output_type": "stream",
          "name": "stdout",
          "text": [
            "keerti\n",
            "t\n"
          ]
        }
      ]
    },
    {
      "cell_type": "code",
      "source": [
        "a=\"how are you?\"\n",
        "print(len(a))"
      ],
      "metadata": {
        "colab": {
          "base_uri": "https://localhost:8080/"
        },
        "id": "EIbQPAbK8iQV",
        "outputId": "e0d75b02-511d-42f9-fb69-c69655804a82"
      },
      "execution_count": null,
      "outputs": [
        {
          "output_type": "stream",
          "name": "stdout",
          "text": [
            "12\n"
          ]
        }
      ]
    },
    {
      "cell_type": "code",
      "source": [
        "a=\"Learn python for better understanding programming languages\"\n",
        "print('understanding' in a)"
      ],
      "metadata": {
        "colab": {
          "base_uri": "https://localhost:8080/"
        },
        "id": "CJV2bR398uHE",
        "outputId": "fc41f0c8-1f66-4e95-da12-b5d15b35506a"
      },
      "execution_count": null,
      "outputs": [
        {
          "output_type": "stream",
          "name": "stdout",
          "text": [
            "True\n"
          ]
        }
      ]
    },
    {
      "cell_type": "code",
      "source": [
        "a=\"Learn python for better understanding programming languages\"\n",
        "print('knid' in a)"
      ],
      "metadata": {
        "colab": {
          "base_uri": "https://localhost:8080/"
        },
        "id": "wVJcqYn-9R0j",
        "outputId": "92199016-d3be-4d46-f105-a75956c6bf98"
      },
      "execution_count": null,
      "outputs": [
        {
          "output_type": "stream",
          "name": "stdout",
          "text": [
            "False\n"
          ]
        }
      ]
    },
    {
      "cell_type": "code",
      "source": [
        "a=\"Learn python for better understanding programming languages\"\n",
        "print('Learn' not in a)"
      ],
      "metadata": {
        "colab": {
          "base_uri": "https://localhost:8080/"
        },
        "id": "m2Mj967z9ZF0",
        "outputId": "285f342c-fb2d-4cb0-e7d1-0ab22c5e007d"
      },
      "execution_count": null,
      "outputs": [
        {
          "output_type": "stream",
          "name": "stdout",
          "text": [
            "False\n"
          ]
        }
      ]
    },
    {
      "cell_type": "markdown",
      "source": [
        "# SLICING THE STRING"
      ],
      "metadata": {
        "id": "Lw-YMWRpiFG6"
      }
    },
    {
      "cell_type": "code",
      "source": [
        "#slicing the string\n",
        "a=\"Learn pyhton for better understanding programming languages\"\n",
        "print(a[4:23])"
      ],
      "metadata": {
        "colab": {
          "base_uri": "https://localhost:8080/"
        },
        "id": "MazpWH7e9gL1",
        "outputId": "ad2893d1-9d0f-49c0-9029-8cfc0c9f0836"
      },
      "execution_count": null,
      "outputs": [
        {
          "output_type": "stream",
          "name": "stdout",
          "text": [
            "n pyhton for better\n"
          ]
        }
      ]
    },
    {
      "cell_type": "code",
      "source": [
        "#Slice From the Start\n",
        "a=\"Learn pyhton for better understanding programming languages\"\n",
        "print(a[:32])"
      ],
      "metadata": {
        "colab": {
          "base_uri": "https://localhost:8080/"
        },
        "id": "VPMNpA8J966E",
        "outputId": "6e5bc19d-5de0-48fa-b85e-e30f57ca2873"
      },
      "execution_count": null,
      "outputs": [
        {
          "output_type": "stream",
          "name": "stdout",
          "text": [
            "Learn pyhton for better understa\n"
          ]
        }
      ]
    },
    {
      "cell_type": "code",
      "source": [
        "#Slice To the End\n",
        "a=\"Learn pyhton for better understanding programming languages\"\n",
        "print(a[1:])"
      ],
      "metadata": {
        "colab": {
          "base_uri": "https://localhost:8080/"
        },
        "id": "ujyh3mUA-WX0",
        "outputId": "191abe44-ec94-4a70-e23b-dda97da51b21"
      },
      "execution_count": null,
      "outputs": [
        {
          "output_type": "stream",
          "name": "stdout",
          "text": [
            "earn pyhton for better understanding programming languages\n"
          ]
        }
      ]
    },
    {
      "cell_type": "code",
      "source": [
        "#Negative Indexing\n",
        "a=\"Learn pyhton for better understanding programming languages\"\n",
        "print(a[-32:-2])"
      ],
      "metadata": {
        "colab": {
          "base_uri": "https://localhost:8080/"
        },
        "id": "U0o0RYo1YWzK",
        "outputId": "22812342-81b9-4ae9-dfdf-0b022395c960"
      },
      "execution_count": null,
      "outputs": [
        {
          "output_type": "stream",
          "name": "stdout",
          "text": [
            "erstanding programming languag\n"
          ]
        }
      ]
    },
    {
      "cell_type": "markdown",
      "source": [
        "# MODIFY STRINGS"
      ],
      "metadata": {
        "id": "ZMSGVTQhiQlr"
      }
    },
    {
      "cell_type": "code",
      "source": [
        "#converting a string into uppercase\n",
        "a=\"Learn pyhton for better understanding programming languages\"\n",
        "print(a.upper())"
      ],
      "metadata": {
        "colab": {
          "base_uri": "https://localhost:8080/"
        },
        "id": "wxPJU0eiYZCe",
        "outputId": "6a04bb70-f722-47c1-cabd-51c7c4231992"
      },
      "execution_count": null,
      "outputs": [
        {
          "output_type": "stream",
          "name": "stdout",
          "text": [
            "LEARN PYHTON FOR BETTER UNDERSTANDING PROGRAMMING LANGUAGES\n"
          ]
        }
      ]
    },
    {
      "cell_type": "code",
      "source": [
        "#converting a string into lowercase\n",
        "a=\"Learn pyhton for better understanding programming languages\"\n",
        "print(a.lower())"
      ],
      "metadata": {
        "colab": {
          "base_uri": "https://localhost:8080/"
        },
        "id": "tdmkLWFhYzas",
        "outputId": "3927c95a-a3c6-42dd-8bcc-31fc53f2fc5e"
      },
      "execution_count": null,
      "outputs": [
        {
          "output_type": "stream",
          "name": "stdout",
          "text": [
            "learn pyhton for better understanding programming languages\n"
          ]
        }
      ]
    },
    {
      "cell_type": "code",
      "source": [
        "#remove whitespace\n",
        "a=\"   Learn pyhton for better understanding programming languages   \"\n",
        "print(a.strip())"
      ],
      "metadata": {
        "colab": {
          "base_uri": "https://localhost:8080/"
        },
        "id": "5JZ0bM-VY9tG",
        "outputId": "4a444bdb-4603-40d0-ae96-d51218ae23d2"
      },
      "execution_count": null,
      "outputs": [
        {
          "output_type": "stream",
          "name": "stdout",
          "text": [
            "Learn pyhton for better understanding programming languages\n"
          ]
        }
      ]
    },
    {
      "cell_type": "code",
      "source": [
        "#replace string\n",
        "a=\"Learn pyhton for better understanding programming languages\"\n",
        "print(a.replace('a','e'))"
      ],
      "metadata": {
        "colab": {
          "base_uri": "https://localhost:8080/"
        },
        "id": "7oE8Zgl0ZK_u",
        "outputId": "0e71172d-a42f-4bf6-bd35-3560291d9118"
      },
      "execution_count": null,
      "outputs": [
        {
          "output_type": "stream",
          "name": "stdout",
          "text": [
            "Leern pyhton for better understending progremming lengueges\n"
          ]
        }
      ]
    },
    {
      "cell_type": "code",
      "source": [
        "#splitting the string\n",
        "a=\"Learn pyhton for better understanding programming languages\"\n",
        "print(a.split('a'))"
      ],
      "metadata": {
        "colab": {
          "base_uri": "https://localhost:8080/"
        },
        "id": "nKxesMEmZg-8",
        "outputId": "b3d7d5de-15fd-432d-ec8d-8ef578144c1b"
      },
      "execution_count": null,
      "outputs": [
        {
          "output_type": "stream",
          "name": "stdout",
          "text": [
            "['Le', 'rn pyhton for better underst', 'nding progr', 'mming l', 'ngu', 'ges']\n"
          ]
        }
      ]
    },
    {
      "cell_type": "markdown",
      "source": [
        "## CONCATENATION OF STRINGS"
      ],
      "metadata": {
        "id": "upQrEmVqhukG"
      }
    },
    {
      "cell_type": "code",
      "source": [
        "#joining two strings without any space\n",
        "a=\"Learn pyhton for better understanding programming languages\"\n",
        "b=\"python is also easy to learn, so i like it.\"\n",
        "print(a+b)"
      ],
      "metadata": {
        "colab": {
          "base_uri": "https://localhost:8080/"
        },
        "id": "qJvlFu_BZ5ji",
        "outputId": "dd7fc3b1-3eac-4861-9582-e7e256cbfeef"
      },
      "execution_count": null,
      "outputs": [
        {
          "output_type": "stream",
          "name": "stdout",
          "text": [
            "Learn pyhton for better understanding programming languagespython is also easy to learn, so i like it.\n"
          ]
        }
      ]
    },
    {
      "cell_type": "code",
      "source": [
        "#joining two strings with any space\n",
        "a=\"Learn pyhton for better understanding programming languages\"\n",
        "b=\"python is also easy to learn, so i like it.\"\n",
        "print(a+' '+b)\n",
        "print(a+','+b)\n",
        "print(a+'......'+b)"
      ],
      "metadata": {
        "colab": {
          "base_uri": "https://localhost:8080/"
        },
        "id": "5zCJkXCXarjE",
        "outputId": "30ce33f6-cb67-4175-8b26-279d551f0734"
      },
      "execution_count": null,
      "outputs": [
        {
          "output_type": "stream",
          "name": "stdout",
          "text": [
            "Learn pyhton for better understanding programming languages python is also easy to learn, so i like it.\n",
            "Learn pyhton for better understanding programming languages,python is also easy to learn, so i like it.\n",
            "Learn pyhton for better understanding programming languages......python is also easy to learn, so i like it.\n"
          ]
        }
      ]
    },
    {
      "cell_type": "markdown",
      "source": [
        "# FORMAT STRINGS"
      ],
      "metadata": {
        "id": "jKn7M8Rpb83G"
      }
    },
    {
      "cell_type": "code",
      "source": [
        "#string format\n",
        "country='India.'\n",
        "sentence=\"I love my country, My country is \" +country\n",
        "print(sentence)"
      ],
      "metadata": {
        "colab": {
          "base_uri": "https://localhost:8080/"
        },
        "id": "yDbTDBpDcBaJ",
        "outputId": "d6ee4b55-70fd-4bb0-f407-a7a9daef70af"
      },
      "execution_count": null,
      "outputs": [
        {
          "output_type": "stream",
          "name": "stdout",
          "text": [
            "I love my country, My country is India.\n"
          ]
        }
      ]
    },
    {
      "cell_type": "code",
      "source": [
        "#string format using format()\n",
        "country='India.'\n",
        "sentence=\"I love my country, My country is {}\"\n",
        "print(sentence.format(country))"
      ],
      "metadata": {
        "colab": {
          "base_uri": "https://localhost:8080/"
        },
        "id": "GnNCMyNmcihs",
        "outputId": "903f2163-ae3e-4c7a-c740-c26cc1013d96"
      },
      "execution_count": null,
      "outputs": [
        {
          "output_type": "stream",
          "name": "stdout",
          "text": [
            "I love my country, My country is India.\n"
          ]
        }
      ]
    },
    {
      "cell_type": "code",
      "source": [
        "#string format using multiple format()\n",
        "country='India'\n",
        "nation='Indians'\n",
        "celebrate='festivals'\n",
        "sentence=\"I love my country, My country is {}, We are called as {}, We celebrate many {}.\"\n",
        "print(sentence.format(country,nation,celebrate))"
      ],
      "metadata": {
        "colab": {
          "base_uri": "https://localhost:8080/"
        },
        "id": "frhy2NLwdPIr",
        "outputId": "1c84af90-260c-4c0a-8350-ca336c827d4e"
      },
      "execution_count": null,
      "outputs": [
        {
          "output_type": "stream",
          "name": "stdout",
          "text": [
            "I love my country, My country is India, We are called as Indians, We celebrate many festivals.\n"
          ]
        }
      ]
    },
    {
      "cell_type": "code",
      "source": [
        "#string format using multiple format() and indexes\n",
        "country='India'\n",
        "nation='Indians'\n",
        "celebrate='festivals'\n",
        "sentence=\"I love my country, We are called as {1}, My country is {0}, We celebrate many {2}.\"\n",
        "print(sentence.format(country,nation,celebrate))"
      ],
      "metadata": {
        "colab": {
          "base_uri": "https://localhost:8080/"
        },
        "id": "htvG_KmEeX0s",
        "outputId": "44e2fff6-f1e6-418c-9719-11d4cdcff075"
      },
      "execution_count": null,
      "outputs": [
        {
          "output_type": "stream",
          "name": "stdout",
          "text": [
            "I love my country, We are called as Indians, My country is India, We celebrate many festivals.\n"
          ]
        }
      ]
    },
    {
      "cell_type": "code",
      "source": [
        "a=123\n",
        "b='hello {}'\n",
        "print(b.format(a))"
      ],
      "metadata": {
        "colab": {
          "base_uri": "https://localhost:8080/"
        },
        "id": "PPtO_ZLxghii",
        "outputId": "b05c36bb-4420-44f2-ac26-5be4ef37d1ce"
      },
      "execution_count": null,
      "outputs": [
        {
          "output_type": "stream",
          "name": "stdout",
          "text": [
            "hello 123\n"
          ]
        }
      ]
    },
    {
      "cell_type": "code",
      "source": [
        "no=4\n",
        "fruits='oranges'\n",
        "taste='so good in taste'\n",
        "cost=20\n",
        "line='Today I brougts some {1} in which each costs {3}. They were {2}. I brought a total of {0}.'\n",
        "print(line.format(no,fruits,taste,cost))"
      ],
      "metadata": {
        "colab": {
          "base_uri": "https://localhost:8080/"
        },
        "id": "HwEeZlvxhCeq",
        "outputId": "941dff62-7488-4e92-8ba9-056e6dc4d51d"
      },
      "execution_count": null,
      "outputs": [
        {
          "output_type": "stream",
          "name": "stdout",
          "text": [
            "Today I brougts some oranges in which each costs 20. They were so good in taste. I brought a total of 4.\n"
          ]
        }
      ]
    },
    {
      "cell_type": "code",
      "source": [
        "#formatting in dynamic way\n",
        "sub1=int(input('marks in maths are:'))\n",
        "sub2=int(input('marks in physics are:'))\n",
        "sub3=int(input('marks in chemistry are:'))\n",
        "sub4=int(input('marks in biology are:'))\n",
        "line=\"marks in maths and physics are{0},{1}, and my marks in biology and chemistry are:{3},{2}\"\n",
        "print(line.format(sub1,sub2,sub3,sub4))"
      ],
      "metadata": {
        "colab": {
          "base_uri": "https://localhost:8080/"
        },
        "id": "pOw7dXA8jcyL",
        "outputId": "28c902c9-f78a-4391-a3df-d207f49498ce"
      },
      "execution_count": null,
      "outputs": [
        {
          "output_type": "stream",
          "name": "stdout",
          "text": [
            "marks in maths are:99\n",
            "marks in physics are:98\n",
            "marks in chemistry are:100\n",
            "marks in biology are:100\n",
            "marks in maths and physics are99,98, and my marks in biology and chemistry are:100,100\n"
          ]
        }
      ]
    },
    {
      "cell_type": "markdown",
      "source": [
        "# ESCAPE CHARACTERS"
      ],
      "metadata": {
        "id": "-LVuEqcFl0aa"
      }
    },
    {
      "cell_type": "code",
      "source": [
        "#format for obtaining double qoutes\n",
        "line=\"I like a colour which is related to the 'nature', it is \\\"natural green\\\"\"\n",
        "print(line)"
      ],
      "metadata": {
        "colab": {
          "base_uri": "https://localhost:8080/"
        },
        "id": "OzSqKW86l6KX",
        "outputId": "f0e5bb44-af91-405b-e440-734a961c26db"
      },
      "execution_count": 52,
      "outputs": [
        {
          "output_type": "stream",
          "name": "stdout",
          "text": [
            "I like a colour which is related to the 'nature', it is \"natural green\"\n"
          ]
        }
      ]
    },
    {
      "cell_type": "code",
      "source": [
        "#two forward slashes for one forward slash\n",
        "line=\"I like a colour which is related to the nature, it is \\\\natural green\"\n",
        "print(line)"
      ],
      "metadata": {
        "colab": {
          "base_uri": "https://localhost:8080/"
        },
        "id": "-urn7yFbm9e4",
        "outputId": "54410e18-efe6-4528-f791-6ad5c57ace27"
      },
      "execution_count": 53,
      "outputs": [
        {
          "output_type": "stream",
          "name": "stdout",
          "text": [
            "I like a colour which is related to the nature, it is \\natural green\n"
          ]
        }
      ]
    },
    {
      "cell_type": "code",
      "source": [
        "#for new line\n",
        "line=\"I like a colour which is related to the 'nature',\\nit is natural green\"\n",
        "print(line)"
      ],
      "metadata": {
        "colab": {
          "base_uri": "https://localhost:8080/"
        },
        "id": "qRmzvN6zniZ3",
        "outputId": "f631a6cc-17c7-4e58-8c15-261370d99425"
      },
      "execution_count": 55,
      "outputs": [
        {
          "output_type": "stream",
          "name": "stdout",
          "text": [
            "I like a colour which is related to the 'nature',\n",
            "it is natural green\n"
          ]
        }
      ]
    },
    {
      "cell_type": "code",
      "source": [
        "#for space in the line\n",
        "line=\"I like a colour which is related to the nature\\tit is natural green\"\n",
        "print(line)"
      ],
      "metadata": {
        "colab": {
          "base_uri": "https://localhost:8080/"
        },
        "id": "ODx4dW3bn1G3",
        "outputId": "4a96e94e-ec50-4892-c916-8275c0d9aa69"
      },
      "execution_count": 56,
      "outputs": [
        {
          "output_type": "stream",
          "name": "stdout",
          "text": [
            "I like a colour which is related to the nature\tit is natural green\n"
          ]
        }
      ]
    },
    {
      "cell_type": "code",
      "source": [
        "#for removing the before character\n",
        "line=\"I like a colour which is related to the nature, \\bit is natural green\"\n",
        "print(line)"
      ],
      "metadata": {
        "colab": {
          "base_uri": "https://localhost:8080/"
        },
        "id": "_eMQ5zQGn-bW",
        "outputId": "264218b1-a8d6-4375-d2fe-0cebec6a4016"
      },
      "execution_count": 57,
      "outputs": [
        {
          "output_type": "stream",
          "name": "stdout",
          "text": [
            "I like a colour which is related to the nature, \bit is natural green\n"
          ]
        }
      ]
    },
    {
      "cell_type": "code",
      "source": [
        "#octal value\n",
        "line=\"\\110\\145\\154\\154\\157\"\n",
        "print(line)"
      ],
      "metadata": {
        "colab": {
          "base_uri": "https://localhost:8080/"
        },
        "id": "EF4GfxvroTM2",
        "outputId": "2df8f285-f65b-4b1d-fda0-a1b305bf32af"
      },
      "execution_count": 59,
      "outputs": [
        {
          "output_type": "stream",
          "name": "stdout",
          "text": [
            "Hello\n"
          ]
        }
      ]
    },
    {
      "cell_type": "markdown",
      "source": [
        "# STRING METHODS"
      ],
      "metadata": {
        "id": "y02n42N2qre3"
      }
    },
    {
      "cell_type": "code",
      "source": [
        "#capitalize\n",
        "a='lotus'\n",
        "print(a.capitalize())"
      ],
      "metadata": {
        "colab": {
          "base_uri": "https://localhost:8080/"
        },
        "id": "dHdb8BGvqwS1",
        "outputId": "16f9f60f-d9d1-40dc-9e14-84757ecc7039"
      },
      "execution_count": 61,
      "outputs": [
        {
          "output_type": "stream",
          "name": "stdout",
          "text": [
            "Lotus\n"
          ]
        }
      ]
    },
    {
      "cell_type": "code",
      "source": [
        "#casefold\n",
        "a='TULIP'\n",
        "print(a.casefold())"
      ],
      "metadata": {
        "colab": {
          "base_uri": "https://localhost:8080/"
        },
        "id": "xLdf9Idsq_dF",
        "outputId": "3a45831d-0f97-4f54-dc8e-52dc25945c89"
      },
      "execution_count": 62,
      "outputs": [
        {
          "output_type": "stream",
          "name": "stdout",
          "text": [
            "tulip\n"
          ]
        }
      ]
    },
    {
      "cell_type": "code",
      "source": [
        "#center\n",
        "a='lotus'\n",
        "print(a.center(46))"
      ],
      "metadata": {
        "colab": {
          "base_uri": "https://localhost:8080/"
        },
        "id": "aVmQTSG6rNBl",
        "outputId": "edf0fd8f-7f35-4d2c-d3ae-f94f8785ac2f"
      },
      "execution_count": 63,
      "outputs": [
        {
          "output_type": "stream",
          "name": "stdout",
          "text": [
            "                    lotus                     \n"
          ]
        }
      ]
    },
    {
      "cell_type": "code",
      "source": [
        "#count\n",
        "a=\"Elephant is the biggest animal living on the land\"\n",
        "print(a.count('e'))\n",
        "print(len(a))"
      ],
      "metadata": {
        "colab": {
          "base_uri": "https://localhost:8080/"
        },
        "id": "8fLZfInBrbZ0",
        "outputId": "b28c3e5b-55c9-4570-a58e-a63643652856"
      },
      "execution_count": 68,
      "outputs": [
        {
          "output_type": "stream",
          "name": "stdout",
          "text": [
            "4\n",
            "49\n"
          ]
        }
      ]
    },
    {
      "cell_type": "code",
      "source": [
        "#encode\n",
        "a=\"Elephant is the biggest animal living on the land\"\n",
        "print(a.encode())"
      ],
      "metadata": {
        "colab": {
          "base_uri": "https://localhost:8080/"
        },
        "id": "HeJdvqsIruEk",
        "outputId": "8daf0b86-0596-4b36-8ef6-96000468846b"
      },
      "execution_count": 70,
      "outputs": [
        {
          "output_type": "stream",
          "name": "stdout",
          "text": [
            "b'Elephant is the biggest animal living On the land'\n"
          ]
        }
      ]
    },
    {
      "cell_type": "code",
      "source": [
        "#endswith\n",
        "a=\"Elephant is the biggest animal living on the land\"\n",
        "b=a.endswith('land')\n",
        "print(b)"
      ],
      "metadata": {
        "colab": {
          "base_uri": "https://localhost:8080/"
        },
        "id": "EY989TyJtEU0",
        "outputId": "970bba61-4c49-4b82-97f4-fa51583464cc"
      },
      "execution_count": 73,
      "outputs": [
        {
          "output_type": "stream",
          "name": "stdout",
          "text": [
            "True\n"
          ]
        }
      ]
    },
    {
      "cell_type": "code",
      "source": [
        ""
      ],
      "metadata": {
        "id": "NR6VPjEStphk"
      },
      "execution_count": null,
      "outputs": []
    }
  ]
}