{
  "nbformat": 4,
  "nbformat_minor": 0,
  "metadata": {
    "colab": {
      "name": "keerti(vu21csen0100313)controlstatements.ipynb",
      "provenance": [],
      "authorship_tag": "ABX9TyM680b21oNb3NsRR3lKpXjl",
      "include_colab_link": true
    },
    "kernelspec": {
      "name": "python3",
      "display_name": "Python 3"
    },
    "language_info": {
      "name": "python"
    }
  },
  "cells": [
    {
      "cell_type": "markdown",
      "metadata": {
        "id": "view-in-github",
        "colab_type": "text"
      },
      "source": [
        "<a href=\"https://colab.research.google.com/github/BaratamKeerti/python-programs/blob/main/keerti(vu21csen0100313)controlstatements.ipynb\" target=\"_parent\"><img src=\"https://colab.research.google.com/assets/colab-badge.svg\" alt=\"Open In Colab\"/></a>"
      ]
    },
    {
      "cell_type": "code",
      "execution_count": null,
      "metadata": {
        "colab": {
          "base_uri": "https://localhost:8080/"
        },
        "id": "8zhLlkakpNIL",
        "outputId": "6639de7c-a9db-47d7-b064-7072dbfe4857"
      },
      "outputs": [
        {
          "output_type": "stream",
          "name": "stdout",
          "text": [
            "you are eligible for voting\n"
          ]
        }
      ],
      "source": [
        "a=20\n",
        "if a>=18:\n",
        "  print(\"you are eligible for voting\")\n",
        "else:\n",
        " print(\"you are not eligible for voting\")"
      ]
    },
    {
      "cell_type": "code",
      "source": [
        "a=int(input(\"enter your age:\"))\n",
        "if a>=18:\n",
        "  print(\"you are eligible for voting\")\n",
        "else:\n",
        "  print(\"you are not eligible for voting\")"
      ],
      "metadata": {
        "colab": {
          "base_uri": "https://localhost:8080/"
        },
        "id": "ca1v78qEqG5P",
        "outputId": "b28c2574-c2a4-4424-e259-ae47688cba58"
      },
      "execution_count": null,
      "outputs": [
        {
          "output_type": "stream",
          "name": "stdout",
          "text": [
            "enter your age:56\n",
            "you are eligible for voting\n"
          ]
        }
      ]
    },
    {
      "cell_type": "code",
      "source": [
        "a=int(input(\"enter the value of a:\"))\n",
        "b=int(input(\"enter the value of b:\"))\n",
        "c=int(input(\"enter the value of c:\"))\n",
        "if a>b and a>c:\n",
        "  print(\"a is greater\")\n",
        "elif b>c and b>a:\n",
        "  print(\"b is greater\")\n",
        "else:\n",
        "  print(\"c is greater\")  \n"
      ],
      "metadata": {
        "colab": {
          "base_uri": "https://localhost:8080/"
        },
        "id": "GQa3hTEksLzv",
        "outputId": "f0217750-9791-4ce5-8a74-375e9cb66cd4"
      },
      "execution_count": null,
      "outputs": [
        {
          "output_type": "stream",
          "name": "stdout",
          "text": [
            "enter the value of a:4\n",
            "enter the value of b:8\n",
            "enter the value of c:56\n",
            "c is greater\n"
          ]
        }
      ]
    },
    {
      "cell_type": "code",
      "source": [
        "a=int(input(\"enter the value of a:\"))\n",
        "b=int(input(\"enter the value of b:\"))\n",
        "c=int(input(\"enter the value of c:\"))\n",
        "d=int(input(\"enter the value of d:\"))\n",
        "e=int(input(\"enter the value of e:\"))\n",
        "if a>b and a>c and a>d and a>e:\n",
        "  print(\"a is greater\")\n",
        "elif b>a and b>c and b>d and b>e:\n",
        "  print(\"b is greater\")\n",
        "elif c>b and c>a and c>d and c>e:\n",
        "  print(\"c is greater\")\n",
        "elif d>b and d>c and d>a and d>e:\n",
        "  print(\"d is greater\")\n",
        "else:\n",
        "  print(\"e is greater\")"
      ],
      "metadata": {
        "colab": {
          "base_uri": "https://localhost:8080/"
        },
        "id": "oZbaqFnmuf_A",
        "outputId": "058d56b2-5f1a-4068-9d40-dc604632b9c8"
      },
      "execution_count": null,
      "outputs": [
        {
          "output_type": "stream",
          "name": "stdout",
          "text": [
            "enter the value of a:10\n",
            "enter the value of b:3\n",
            "enter the value of c:6\n",
            "enter the value of d:4\n",
            "enter the value of e:43\n",
            "e is greater\n"
          ]
        }
      ]
    },
    {
      "cell_type": "code",
      "source": [
        "i=1\n",
        "for i in range(1,40,2): \n",
        "  print(i)"
      ],
      "metadata": {
        "colab": {
          "base_uri": "https://localhost:8080/"
        },
        "id": "Vb-xV5I3vno_",
        "outputId": "af5b8c18-90a0-4c6e-8a0e-385a4ef4f1f2"
      },
      "execution_count": null,
      "outputs": [
        {
          "output_type": "stream",
          "name": "stdout",
          "text": [
            "1\n",
            "3\n",
            "5\n",
            "7\n",
            "9\n",
            "11\n",
            "13\n",
            "15\n",
            "17\n",
            "19\n",
            "21\n",
            "23\n",
            "25\n",
            "27\n",
            "29\n",
            "31\n",
            "33\n",
            "35\n",
            "37\n",
            "39\n"
          ]
        }
      ]
    },
    {
      "cell_type": "code",
      "source": [
        ""
      ],
      "metadata": {
        "id": "rTTogY1TyMJY"
      },
      "execution_count": null,
      "outputs": []
    }
  ]
}