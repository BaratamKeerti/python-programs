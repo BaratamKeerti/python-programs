{
  "nbformat": 4,
  "nbformat_minor": 0,
  "metadata": {
    "colab": {
      "name": "lists.ipynb",
      "provenance": [],
      "authorship_tag": "ABX9TyP+gFSXxXqIBtTTeJ2TULe2",
      "include_colab_link": true
    },
    "kernelspec": {
      "name": "python3",
      "display_name": "Python 3"
    },
    "language_info": {
      "name": "python"
    }
  },
  "cells": [
    {
      "cell_type": "markdown",
      "metadata": {
        "id": "view-in-github",
        "colab_type": "text"
      },
      "source": [
        "<a href=\"https://colab.research.google.com/github/BaratamKeerti/python-programs/blob/main/lists.ipynb\" target=\"_parent\"><img src=\"https://colab.research.google.com/assets/colab-badge.svg\" alt=\"Open In Colab\"/></a>"
      ]
    },
    {
      "cell_type": "code",
      "execution_count": 67,
      "metadata": {
        "colab": {
          "base_uri": "https://localhost:8080/"
        },
        "id": "jeCeFMUoVqfg",
        "outputId": "a100f2e3-c0e4-4450-f894-c6a55f30b304"
      },
      "outputs": [
        {
          "output_type": "stream",
          "name": "stdout",
          "text": [
            "['apple', 'banana', 'mango', 'grapes', 'orange']\n",
            "apple\n",
            "grapes\n",
            "['apple', 'banana', 'mango']\n",
            "['apple', 'banana', 'mango', 'grapes']\n",
            "['mango', 'grapes']\n",
            "['apple', 'banana', 'mango', 'grapes']\n"
          ]
        }
      ],
      "source": [
        "#accessing list items\n",
        "fruits=['apple','banana','mango','grapes','orange']\n",
        "print(fruits)\n",
        "print(fruits[0])\n",
        "print(fruits[-2])                        # starts from back\n",
        "                                         # [a:b] where a is index, b is position\n",
        "print(fruits[0:3])                       #giving where to start and where to end\n",
        "print(fruits[:4])                        #giving where to end\n",
        "print(fruits[2:4])\n",
        "print(fruits[:4])"
      ]
    },
    {
      "cell_type": "code",
      "source": [
        "#append\n",
        "fruits=['apple','banana','mango','grapes','orange']\n",
        "print(fruits)\n",
        "fruits.append('kiwi')               #append adds the value we enter in the last place\n",
        "print(fruits)"
      ],
      "metadata": {
        "colab": {
          "base_uri": "https://localhost:8080/"
        },
        "id": "Lr_p42uSZmga",
        "outputId": "2984b641-5f96-42e2-97d6-9dc4cbbb3149"
      },
      "execution_count": 28,
      "outputs": [
        {
          "output_type": "stream",
          "name": "stdout",
          "text": [
            "['apple', 'banana', 'mango', 'grapes', 'orange']\n",
            "['apple', 'banana', 'mango', 'grapes', 'orange', 'kiwi']\n"
          ]
        }
      ]
    },
    {
      "cell_type": "code",
      "source": [
        "#insert\n",
        "fruits=['apple','banana','mango','grapes','orange']\n",
        "print(fruits)\n",
        "fruits.insert(3,'watermelon')                    #insert adds the given value in the index we give in the list\n",
        "print(fruits)"
      ],
      "metadata": {
        "colab": {
          "base_uri": "https://localhost:8080/"
        },
        "id": "XzZuyRyGb_V5",
        "outputId": "713ad3a6-05b4-4d25-802f-264874a471a1"
      },
      "execution_count": 29,
      "outputs": [
        {
          "output_type": "stream",
          "name": "stdout",
          "text": [
            "['apple', 'banana', 'mango', 'grapes', 'orange']\n",
            "['apple', 'banana', 'mango', 'watermelon', 'grapes', 'orange']\n"
          ]
        }
      ]
    },
    {
      "cell_type": "code",
      "source": [
        "#extend\n",
        "fruits=['apple','banana','mango','grapes','orange']\n",
        "print(fruits)\n",
        "add=['papaya','muskmelon']                 #extend adds the values you need to the given list at end\n",
        "fruits.extend(add)\n",
        "print(fruits)"
      ],
      "metadata": {
        "colab": {
          "base_uri": "https://localhost:8080/"
        },
        "id": "wuVDPGfGcqcR",
        "outputId": "be6ef57a-2b2e-486c-959c-5e076062d38d"
      },
      "execution_count": 64,
      "outputs": [
        {
          "output_type": "stream",
          "name": "stdout",
          "text": [
            "['apple', 'banana', 'mango', 'grapes', 'orange']\n",
            "['apple', 'banana', 'mango', 'grapes', 'orange', 'papaya', 'muskmelon']\n"
          ]
        }
      ]
    },
    {
      "cell_type": "code",
      "source": [
        "#remove\n",
        "fruits=['apple','banana','mango','grapes','orange']\n",
        "print(fruits)\n",
        "fruits.remove('grapes')                       #remove deletes the value you enter which is already present in the list\n",
        "print(fruits)"
      ],
      "metadata": {
        "colab": {
          "base_uri": "https://localhost:8080/"
        },
        "id": "UzsemH0pdDEH",
        "outputId": "268c253d-0459-4969-cb27-e0d231ce8b4a"
      },
      "execution_count": 63,
      "outputs": [
        {
          "output_type": "stream",
          "name": "stdout",
          "text": [
            "['apple', 'banana', 'mango', 'grapes', 'orange']\n",
            "['apple', 'banana', 'mango', 'orange']\n"
          ]
        }
      ]
    },
    {
      "cell_type": "code",
      "source": [
        "#pop\n",
        "fruits=['apple','banana','mango','grapes','orange']\n",
        "print(fruits)\n",
        "fruits.pop(2)                                  #pop deletes the word in the given index\n",
        "print(fruits)"
      ],
      "metadata": {
        "colab": {
          "base_uri": "https://localhost:8080/"
        },
        "id": "PzLqsMioe916",
        "outputId": "f96b8b20-2c8a-41ef-94ca-959e4106178d"
      },
      "execution_count": 40,
      "outputs": [
        {
          "output_type": "stream",
          "name": "stdout",
          "text": [
            "['apple', 'banana', 'mango', 'grapes', 'orange']\n",
            "['apple', 'banana', 'grapes', 'orange']\n"
          ]
        }
      ]
    },
    {
      "cell_type": "code",
      "source": [
        "#del\n",
        "fruits=['apple','banana','mango','grapes','orange']\n",
        "print(fruits)\n",
        "del fruits[3]                               #del deletes the word/value in the selected index\n",
        "print(fruits)"
      ],
      "metadata": {
        "colab": {
          "base_uri": "https://localhost:8080/"
        },
        "id": "iSSS815ffdFC",
        "outputId": "a559f896-6a44-49e8-aaf6-fefd713b240d"
      },
      "execution_count": 43,
      "outputs": [
        {
          "output_type": "stream",
          "name": "stdout",
          "text": [
            "['apple', 'banana', 'mango', 'grapes', 'orange']\n",
            "['apple', 'banana', 'mango', 'orange']\n"
          ]
        }
      ]
    },
    {
      "cell_type": "code",
      "source": [
        "#clear\n",
        "fruits=['apple','banana','mango','grapes','orange']\n",
        "print(fruits)\n",
        "fruits.clear()            #clear erases all the elements in the given list\n",
        "print(fruits)"
      ],
      "metadata": {
        "colab": {
          "base_uri": "https://localhost:8080/"
        },
        "id": "PqHpkRGHhv_4",
        "outputId": "70287de2-6034-486e-eb37-f54546cf17d2"
      },
      "execution_count": 49,
      "outputs": [
        {
          "output_type": "stream",
          "name": "stdout",
          "text": [
            "['apple', 'banana', 'mango', 'grapes', 'orange']\n",
            "[]\n"
          ]
        }
      ]
    },
    {
      "cell_type": "code",
      "source": [
        "#list can have all data types\n",
        "list=['program',89.6,'c',10,56687]\n",
        "print(list)\n",
        "print(list[0:2])\n",
        "print(list[-2])\n",
        "list.append('python')\n",
        "print(list)\n",
        "list.insert(3,45)\n",
        "print(list)\n",
        "list.remove(56687)\n",
        "print(list)\n",
        "list.pop(1)\n",
        "print(list)\n",
        "add=['placements','12lpa',365]\n",
        "list.extend(add)\n",
        "print(list)\n",
        "del list[7]\n",
        "print(list)\n",
        "list.reverse()\n",
        "print(list)\n",
        "print(len(list))"
      ],
      "metadata": {
        "colab": {
          "base_uri": "https://localhost:8080/"
        },
        "id": "ls93HXYsWWlp",
        "outputId": "304ca6f6-eaeb-47ef-a509-5ce471aed5f9"
      },
      "execution_count": 60,
      "outputs": [
        {
          "output_type": "stream",
          "name": "stdout",
          "text": [
            "['program', 89.6, 'c', 10, 56687]\n",
            "['program', 89.6]\n",
            "10\n",
            "['program', 89.6, 'c', 10, 56687, 'python']\n",
            "['program', 89.6, 'c', 45, 10, 56687, 'python']\n",
            "['program', 89.6, 'c', 45, 10, 'python']\n",
            "['program', 'c', 45, 10, 'python']\n",
            "['program', 'c', 45, 10, 'python', 'placements', '12lpa', 365]\n",
            "['program', 'c', 45, 10, 'python', 'placements', '12lpa']\n",
            "['12lpa', 'placements', 'python', 10, 45, 'c', 'program']\n",
            "7\n"
          ]
        }
      ]
    },
    {
      "cell_type": "code",
      "source": [
        "#sorting\n",
        "num=[3,8,1,5,6,5]\n",
        "num.sort()                  #printing in ascending order\n",
        "print(num)\n",
        "num.sort(reverse=True)\n",
        "print(num)                  #printing in descending order"
      ],
      "metadata": {
        "colab": {
          "base_uri": "https://localhost:8080/"
        },
        "id": "UzL2tMhHX0LB",
        "outputId": "d3477107-b7ee-49d2-c2f3-5cb591fdddde"
      },
      "execution_count": 62,
      "outputs": [
        {
          "output_type": "stream",
          "name": "stdout",
          "text": [
            "[1, 3, 5, 5, 6, 8]\n",
            "[8, 6, 5, 5, 3, 1]\n"
          ]
        }
      ]
    },
    {
      "cell_type": "code",
      "source": [
        "#sorting with strings\n",
        "alphabets=['a','F','z','t','D','e','i','O','U']\n",
        "alphabets.sort()                   #printing in ascending order\n",
        "print(alphabets)\n",
        "alphabets.sort(reverse = True)      #printing in descending order\n",
        "print(alphabets)"
      ],
      "metadata": {
        "colab": {
          "base_uri": "https://localhost:8080/"
        },
        "id": "51c7M7fAiHSu",
        "outputId": "ba31c7ef-31bb-447a-fd36-e42f5dd9588f"
      },
      "execution_count": 61,
      "outputs": [
        {
          "output_type": "stream",
          "name": "stdout",
          "text": [
            "['D', 'F', 'O', 'U', 'a', 'e', 'i', 't', 'z']\n",
            "['z', 't', 'i', 'e', 'a', 'U', 'O', 'F', 'D']\n"
          ]
        }
      ]
    },
    {
      "cell_type": "code",
      "source": [
        "#reverse\n",
        "fruits=['apple','banana','mango','grapes','orange']\n",
        "print(fruits)\n",
        "fruits.reverse()                  #reverse reverses all the elements\n",
        "print(fruits)"
      ],
      "metadata": {
        "colab": {
          "base_uri": "https://localhost:8080/"
        },
        "id": "SlHB7xTyj0Cv",
        "outputId": "a2d1a507-f29f-4805-d7db-d4ceda4211a7"
      },
      "execution_count": 55,
      "outputs": [
        {
          "output_type": "stream",
          "name": "stdout",
          "text": [
            "['apple', 'banana', 'mango', 'grapes', 'orange']\n",
            "['orange', 'grapes', 'mango', 'banana', 'apple']\n"
          ]
        }
      ]
    },
    {
      "cell_type": "code",
      "source": [
        "#len\n",
        "fruits=['apple','banana','mango','grapes','orange']\n",
        "print(fruits)                            #len gives us the length of the list\n",
        "print(len(fruits))"
      ],
      "metadata": {
        "colab": {
          "base_uri": "https://localhost:8080/"
        },
        "id": "_UaivC8zmN8A",
        "outputId": "5cf6fa6b-e88d-4f29-9aea-9de7866b3ec9"
      },
      "execution_count": 66,
      "outputs": [
        {
          "output_type": "stream",
          "name": "stdout",
          "text": [
            "['apple', 'banana', 'mango', 'grapes', 'orange']\n",
            "5\n"
          ]
        }
      ]
    }
  ]
}