{
  "nbformat": 4,
  "nbformat_minor": 0,
  "metadata": {
    "colab": {
      "name": "lists.ipynb",
      "provenance": [],
      "collapsed_sections": [],
      "authorship_tag": "ABX9TyOhRNwE3FYNkkppjX3VVwJP",
      "include_colab_link": true
    },
    "kernelspec": {
      "name": "python3",
      "display_name": "Python 3"
    },
    "language_info": {
      "name": "python"
    }
  },
  "cells": [
    {
      "cell_type": "markdown",
      "metadata": {
        "id": "view-in-github",
        "colab_type": "text"
      },
      "source": [
        "<a href=\"https://colab.research.google.com/github/BaratamKeerti/python-programs/blob/main/lists.ipynb\" target=\"_parent\"><img src=\"https://colab.research.google.com/assets/colab-badge.svg\" alt=\"Open In Colab\"/></a>"
      ]
    },
    {
      "cell_type": "code",
      "execution_count": 7,
      "metadata": {
        "colab": {
          "base_uri": "https://localhost:8080/"
        },
        "id": "5eyVKoDzt9uZ",
        "outputId": "68ef350e-c754-4258-d05b-0f40a380ea6f"
      },
      "outputs": [
        {
          "output_type": "stream",
          "name": "stdout",
          "text": [
            "apple\n",
            "banana\n",
            "cherry\n",
            "grapes\n"
          ]
        }
      ],
      "source": [
        "#using for loop in lists\n",
        "fruits=['apple','banana','cherry','grapes']\n",
        "for y in fruits:\n",
        "  print(y) "
      ]
    },
    {
      "cell_type": "code",
      "source": [
        "#using for in loops using len\n",
        "fruits=['apple','banana','cherry','grapes']\n",
        "for i in range(len(fruits)):\n",
        "  print(fruits[i])"
      ],
      "metadata": {
        "colab": {
          "base_uri": "https://localhost:8080/"
        },
        "id": "6d2qCm7iwok8",
        "outputId": "01461fb5-efdc-49d9-bdf5-b423b69a1602"
      },
      "execution_count": 8,
      "outputs": [
        {
          "output_type": "stream",
          "name": "stdout",
          "text": [
            "apple\n",
            "banana\n",
            "cherry\n",
            "grapes\n"
          ]
        }
      ]
    },
    {
      "cell_type": "code",
      "source": [
        "#using while loop in lists\n",
        "fruits=['apple','banana','cherry','grapes']\n",
        "i=0\n",
        "while i<len(fruits):\n",
        "  print(fruits[i])\n",
        "  i=i+1"
      ],
      "metadata": {
        "id": "L1te9Cu6xKRF",
        "colab": {
          "base_uri": "https://localhost:8080/"
        },
        "outputId": "ed6bba74-8738-428f-e704-e7b8fb32e094"
      },
      "execution_count": 13,
      "outputs": [
        {
          "output_type": "stream",
          "name": "stdout",
          "text": [
            "apple\n",
            "banana\n",
            "cherry\n",
            "grapes\n"
          ]
        }
      ]
    },
    {
      "cell_type": "code",
      "source": [
        "#using list comprehension in lists\n",
        "fruits=['apple','banana','cherry','grapes']\n",
        "[print(x) for x in fruits]\n"
      ],
      "metadata": {
        "colab": {
          "base_uri": "https://localhost:8080/"
        },
        "id": "pf7F5VdoyOGl",
        "outputId": "71bf9a35-9b3f-4e43-ad1f-45d4bb311334"
      },
      "execution_count": 21,
      "outputs": [
        {
          "output_type": "stream",
          "name": "stdout",
          "text": [
            "apple\n",
            "banana\n",
            "cherry\n",
            "grapes\n"
          ]
        },
        {
          "output_type": "execute_result",
          "data": {
            "text/plain": [
              "[None, None, None, None]"
            ]
          },
          "metadata": {},
          "execution_count": 21
        }
      ]
    },
    {
      "cell_type": "code",
      "source": [
        "#list by for loop and by list comprehension\n",
        "fruits=['apple','banana','cherry','grapes']\n",
        "newlist=[]\n",
        "for i in fruits:\n",
        " if 'a' in i:\n",
        "    newlist.append(i)\n",
        "print(newlist)\n",
        "\n",
        "list_with_a=[x for x in fruits if 'a' in x] \n",
        "print(list_with_a)"
      ],
      "metadata": {
        "colab": {
          "base_uri": "https://localhost:8080/"
        },
        "id": "K-WPwelW3v2M",
        "outputId": "0e46b992-a218-491d-8041-ce17a303d396"
      },
      "execution_count": 34,
      "outputs": [
        {
          "output_type": "stream",
          "name": "stdout",
          "text": [
            "['apple', 'banana', 'grapes']\n",
            "['apple', 'banana', 'grapes']\n"
          ]
        }
      ]
    },
    {
      "cell_type": "code",
      "source": [
        ""
      ],
      "metadata": {
        "id": "RFRuoZK96Nal"
      },
      "execution_count": null,
      "outputs": []
    }
  ]
}