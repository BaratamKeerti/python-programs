{
  "nbformat": 4,
  "nbformat_minor": 0,
  "metadata": {
    "colab": {
      "name": "Copy of strings.ipynb",
      "provenance": [],
      "authorship_tag": "ABX9TyNdT1mhz5DeygFRlwOnPJDA",
      "include_colab_link": true
    },
    "kernelspec": {
      "name": "python3",
      "display_name": "Python 3"
    },
    "language_info": {
      "name": "python"
    }
  },
  "cells": [
    {
      "cell_type": "markdown",
      "metadata": {
        "id": "view-in-github",
        "colab_type": "text"
      },
      "source": [
        "<a href=\"https://colab.research.google.com/github/BaratamKeerti/python-programs/blob/main/Copy_of_strings.ipynb\" target=\"_parent\"><img src=\"https://colab.research.google.com/assets/colab-badge.svg\" alt=\"Open In Colab\"/></a>"
      ]
    },
    {
      "cell_type": "code",
      "execution_count": null,
      "metadata": {
        "colab": {
          "base_uri": "https://localhost:8080/"
        },
        "id": "NKlbXOvz8CEl",
        "outputId": "f9a79438-e509-4da7-be62-df8c597bf3b7"
      },
      "outputs": [
        {
          "output_type": "stream",
          "name": "stdout",
          "text": [
            "keerti\n",
            "<class 'str'>\n"
          ]
        }
      ],
      "source": [
        "a='keerti'\n",
        "print(a)\n",
        "print(type(a))"
      ]
    },
    {
      "cell_type": "code",
      "source": [
        "a='keerti'\n",
        "print(a)\n",
        "print(a[4])"
      ],
      "metadata": {
        "colab": {
          "base_uri": "https://localhost:8080/"
        },
        "id": "Z1-IRv8h8Wdc",
        "outputId": "5e4de5f3-8f34-48de-f558-f098f4256d25"
      },
      "execution_count": null,
      "outputs": [
        {
          "output_type": "stream",
          "name": "stdout",
          "text": [
            "keerti\n",
            "t\n"
          ]
        }
      ]
    },
    {
      "cell_type": "code",
      "source": [
        "a=\"how are you?\"\n",
        "print(len(a))"
      ],
      "metadata": {
        "colab": {
          "base_uri": "https://localhost:8080/"
        },
        "id": "EIbQPAbK8iQV",
        "outputId": "f370e4f1-86ba-4fd4-8118-0bacb08fd1fc"
      },
      "execution_count": null,
      "outputs": [
        {
          "output_type": "stream",
          "name": "stdout",
          "text": [
            "12\n"
          ]
        }
      ]
    },
    {
      "cell_type": "code",
      "source": [
        "a=\"Learn python for better understanding programming languages\"\n",
        "print('understanding' in a)"
      ],
      "metadata": {
        "colab": {
          "base_uri": "https://localhost:8080/"
        },
        "id": "CJV2bR398uHE",
        "outputId": "070761e9-8b0f-49ab-bfe4-81a7c94fd801"
      },
      "execution_count": null,
      "outputs": [
        {
          "output_type": "stream",
          "name": "stdout",
          "text": [
            "True\n"
          ]
        }
      ]
    },
    {
      "cell_type": "code",
      "source": [
        "a=\"Learn python for better understanding programming languages\"\n",
        "print('knid' in a)"
      ],
      "metadata": {
        "colab": {
          "base_uri": "https://localhost:8080/"
        },
        "id": "wVJcqYn-9R0j",
        "outputId": "a40ae917-b527-4710-9461-d1e5ccab6c31"
      },
      "execution_count": null,
      "outputs": [
        {
          "output_type": "stream",
          "name": "stdout",
          "text": [
            "False\n"
          ]
        }
      ]
    },
    {
      "cell_type": "code",
      "source": [
        "a=\"Learn python for better understanding programming languages\"\n",
        "print('Learn' not in a)"
      ],
      "metadata": {
        "colab": {
          "base_uri": "https://localhost:8080/"
        },
        "id": "m2Mj967z9ZF0",
        "outputId": "ea7e64b0-4809-4d8d-e4e2-a7682a007c6d"
      },
      "execution_count": null,
      "outputs": [
        {
          "output_type": "stream",
          "name": "stdout",
          "text": [
            "False\n"
          ]
        }
      ]
    },
    {
      "cell_type": "code",
      "source": [
        "#using for in a string\n",
        "a='hi buddies..!'\n",
        "for x in a:\n",
        " print(x)"
      ],
      "metadata": {
        "id": "WSOSH4bIgW9G",
        "outputId": "ff18a841-147d-4c5a-b1a8-4daa30d3c2aa",
        "colab": {
          "base_uri": "https://localhost:8080/"
        }
      },
      "execution_count": null,
      "outputs": [
        {
          "output_type": "stream",
          "name": "stdout",
          "text": [
            "h\n",
            "i\n",
            " \n",
            "b\n",
            "u\n",
            "d\n",
            "d\n",
            "i\n",
            "e\n",
            "s\n",
            ".\n",
            ".\n",
            "!\n"
          ]
        }
      ]
    },
    {
      "cell_type": "code",
      "source": [
        "#slicing the string\n",
        "a=\"Learn python for better understanding programming languages\"\n",
        "print(a[4:23])"
      ],
      "metadata": {
        "colab": {
          "base_uri": "https://localhost:8080/"
        },
        "id": "MazpWH7e9gL1",
        "outputId": "ab683031-3837-46b7-8224-0bf8008bdb4f"
      },
      "execution_count": null,
      "outputs": [
        {
          "output_type": "stream",
          "name": "stdout",
          "text": [
            "n python for better\n"
          ]
        }
      ]
    },
    {
      "cell_type": "code",
      "source": [
        "#Slice From the Start\n",
        "a=\"Learn python for better understanding programming languages\"\n",
        "print(a[:32])"
      ],
      "metadata": {
        "colab": {
          "base_uri": "https://localhost:8080/"
        },
        "id": "VPMNpA8J966E",
        "outputId": "981c27bd-7d82-4549-c1f2-8b9b122e4e19"
      },
      "execution_count": null,
      "outputs": [
        {
          "output_type": "stream",
          "name": "stdout",
          "text": [
            "Learn python for better understa\n"
          ]
        }
      ]
    },
    {
      "cell_type": "code",
      "source": [
        "#Slice To the End\n",
        "a=\"Learn python for better understanding programming languages\"\n",
        "print(a[1:])"
      ],
      "metadata": {
        "colab": {
          "base_uri": "https://localhost:8080/"
        },
        "id": "ujyh3mUA-WX0",
        "outputId": "82443884-7cab-4406-a8f4-25e650aee677"
      },
      "execution_count": null,
      "outputs": [
        {
          "output_type": "stream",
          "name": "stdout",
          "text": [
            "earn python for better understanding programming languages\n"
          ]
        }
      ]
    },
    {
      "cell_type": "code",
      "source": [
        "#slicing using negative indices\n",
        "a=\"Learn python for better understanding programming languages\"\n",
        "print(a[-10:-2])\n"
      ],
      "metadata": {
        "id": "9jTfAZxlcrF7",
        "outputId": "6b27ba92-5683-45cc-9e44-78f969f30763",
        "colab": {
          "base_uri": "https://localhost:8080/"
        }
      },
      "execution_count": null,
      "outputs": [
        {
          "output_type": "stream",
          "name": "stdout",
          "text": [
            " languag\n"
          ]
        }
      ]
    },
    {
      "cell_type": "code",
      "source": [
        "#converting the string into uppercase\n",
        "a=\"Learn python for better understanding programming languages\"\n",
        "print(a.upper())"
      ],
      "metadata": {
        "id": "c7sRqUBQdi2J",
        "outputId": "bfcb7b20-5d4c-495d-bcf4-82a5de380c34",
        "colab": {
          "base_uri": "https://localhost:8080/"
        }
      },
      "execution_count": null,
      "outputs": [
        {
          "output_type": "stream",
          "name": "stdout",
          "text": [
            "LEARN PYTHON FOR BETTER UNDERSTANDING PROGRAMMING LANGUAGES\n"
          ]
        }
      ]
    },
    {
      "cell_type": "code",
      "source": [
        " #converting the string into lowercase\n",
        " a=\"Learn python for better understanding programming languages\"\n",
        " print(a.lower())"
      ],
      "metadata": {
        "id": "HUzcadhZdylG",
        "outputId": "7fb52d8d-8b6d-4447-d7da-514d0d48c99d",
        "colab": {
          "base_uri": "https://localhost:8080/"
        }
      },
      "execution_count": null,
      "outputs": [
        {
          "output_type": "stream",
          "name": "stdout",
          "text": [
            "learn python for better understanding programming languages\n"
          ]
        }
      ]
    },
    {
      "cell_type": "code",
      "source": [
        "#Remove Whitespace\n",
        "a=\"Learn pyhton for better understanding programming languages     \"\n",
        "print(a.strip())"
      ],
      "metadata": {
        "id": "Tt1CtxA3eJsB",
        "outputId": "34d0c50d-8c29-41d8-9b52-b7ec2b9cda53",
        "colab": {
          "base_uri": "https://localhost:8080/"
        }
      },
      "execution_count": null,
      "outputs": [
        {
          "output_type": "stream",
          "name": "stdout",
          "text": [
            "Learn pyhton for better understanding programming languages\n"
          ]
        }
      ]
    },
    {
      "cell_type": "code",
      "source": [
        "#replace string\n",
        "a=\"Learn pyhton for better understanding programming languages\"\n",
        "print(a.replace('a','e'))"
      ],
      "metadata": {
        "id": "mzz8j8rLfmBO",
        "outputId": "a887b397-db32-4d45-f208-3371db538b63",
        "colab": {
          "base_uri": "https://localhost:8080/"
        }
      },
      "execution_count": 1,
      "outputs": [
        {
          "output_type": "stream",
          "name": "stdout",
          "text": [
            "Leern pyhton for better understending progremming lengueges\n"
          ]
        }
      ]
    },
    {
      "cell_type": "code",
      "source": [
        "#splliting the string\n",
        "a=\"Learn pyhton for better understanding programming languages\"\n",
        "print(a.split(\"o\"))"
      ],
      "metadata": {
        "id": "klQ5hZdEh3li",
        "outputId": "ae608c06-109e-4574-dde1-35437b9c9c89",
        "colab": {
          "base_uri": "https://localhost:8080/"
        }
      },
      "execution_count": 8,
      "outputs": [
        {
          "output_type": "stream",
          "name": "stdout",
          "text": [
            "['Learn pyht', 'n f', 'r better understanding pr', 'gramming languages']\n"
          ]
        }
      ]
    },
    {
      "cell_type": "code",
      "source": [
        ""
      ],
      "metadata": {
        "id": "B4aXtWlJjRK6"
      },
      "execution_count": null,
      "outputs": []
    }
  ]
}