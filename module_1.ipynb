{
  "nbformat": 4,
  "nbformat_minor": 0,
  "metadata": {
    "colab": {
      "name": "module -1.ipynb",
      "provenance": [],
      "collapsed_sections": [],
      "authorship_tag": "ABX9TyNTWkZanLus90QdPvfX53Zd",
      "include_colab_link": true
    },
    "kernelspec": {
      "name": "python3",
      "display_name": "Python 3"
    },
    "language_info": {
      "name": "python"
    }
  },
  "cells": [
    {
      "cell_type": "markdown",
      "metadata": {
        "id": "view-in-github",
        "colab_type": "text"
      },
      "source": [
        "<a href=\"https://colab.research.google.com/github/BaratamKeerti/python-programs/blob/main/module_1.ipynb\" target=\"_parent\"><img src=\"https://colab.research.google.com/assets/colab-badge.svg\" alt=\"Open In Colab\"/></a>"
      ]
    },
    {
      "cell_type": "code",
      "execution_count": 1,
      "metadata": {
        "colab": {
          "base_uri": "https://localhost:8080/"
        },
        "id": "jnsgsYZHQMlN",
        "outputId": "3a8df2ec-f77d-4199-e628-5bf3b63446fc"
      },
      "outputs": [
        {
          "output_type": "stream",
          "name": "stdout",
          "text": [
            "Learn python for better understanding programming languages\n"
          ]
        }
      ],
      "source": [
        "#Accept input from user and store it in variable and print the value\n",
        "string=\"Learn python for better understanding programming languages\"\n",
        "print(string)"
      ]
    },
    {
      "cell_type": "code",
      "source": [
        "#Take 2 numbers as user input and add, multiply, divide, subtract, remainder and print the output\n",
        "a=int(input(\"enter the value of a\"))\n",
        "b=int(input(\"enter the value of b\"))\n",
        "c=a+b\n",
        "d=a-b\n",
        "e=a*b\n",
        "f=a/b\n",
        "g=a%b\n",
        "print(c,d,e,f,g)"
      ],
      "metadata": {
        "colab": {
          "base_uri": "https://localhost:8080/"
        },
        "id": "CZr4iEyPQ0LK",
        "outputId": "9e2f3688-a806-486b-b27c-a4116b8187f5"
      },
      "execution_count": 5,
      "outputs": [
        {
          "output_type": "stream",
          "name": "stdout",
          "text": [
            "enter the value of a456\n",
            "enter the value of b123\n",
            "579 333 56088 3.707317073170732 87\n"
          ]
        }
      ]
    },
    {
      "cell_type": "code",
      "source": [
        "#Conversion of one unit to another\n",
        "f=float(input(\"enter the temperature in farenheit:\"))\n",
        "c=(5*f-32)/9\n",
        "print(\"the temperature in celsius is:\",c)\n",
        "miles=int(input(\"enter the distance in miles:\"))\n",
        "km=miles*1.60934\n",
        "print(\"the distance in km is:\",km)"
      ],
      "metadata": {
        "colab": {
          "base_uri": "https://localhost:8080/"
        },
        "id": "R2Fw0VU5Rvvz",
        "outputId": "750faf47-cfae-4be0-db99-abfafe02cb1f"
      },
      "execution_count": 11,
      "outputs": [
        {
          "output_type": "stream",
          "name": "stdout",
          "text": [
            "enter the temperature in farenheit:234.6\n",
            "the temperature in celsius is: 126.77777777777777\n",
            "enter the distance in miles:45\n",
            "the distance in km is: 72.4203\n"
          ]
        }
      ]
    },
    {
      "cell_type": "code",
      "source": [
        "#Usage of mathematical functions in python like math.ceil, floor, fabs, fmod, trunc, pow, sqrt etc\n",
        "\n",
        "import math\n",
        "a=int(input(\"enter a\"))\n",
        "b=int(input(\"enter b\"))\n",
        "c=a/b\n",
        "print(math.ceil(c))\n",
        "print(math.floor(c))\n",
        "print(math.fabs(c))\n",
        "print(math.fmod(a,b))\n",
        "d=49\n",
        "e=21\n",
        "print(math.trunc(d/e))\n",
        "print(math.trunc(-d/e))\n",
        "print(math.pow(a,b))\n",
        "print(math.sqrt(a))"
      ],
      "metadata": {
        "colab": {
          "base_uri": "https://localhost:8080/"
        },
        "id": "-r-a4Z9sUTLb",
        "outputId": "c29d09da-c30f-45e3-f62f-1026b36a0591"
      },
      "execution_count": 24,
      "outputs": [
        {
          "output_type": "stream",
          "name": "stdout",
          "text": [
            "enter a35\n",
            "enter b3\n",
            "12\n",
            "11\n",
            "11.666666666666666\n",
            "2.0\n",
            "2\n",
            "-2\n",
            "42875.0\n",
            "5.916079783099616\n"
          ]
        }
      ]
    },
    {
      "cell_type": "code",
      "source": [
        "#Accepting 5 different subject marks from user and displaying the grade of the student.\n",
        "a=int(input(\"enter the marks in subject 1:\"))\n",
        "b=int(input(\"enter the marks in subject 2:\"))\n",
        "c=int(input(\"enter the marks in subject 3:\"))\n",
        "d=int(input(\"enter the marks in subject 4:\"))\n",
        "e=int(input(\"enter the marks in subject 5:\"))\n",
        "sum=a+b+c+d+e\n",
        "if sum>=450:\n",
        "  print(\"Grade - A\")\n",
        "elif sum>=400:\n",
        "  print(\"Grade - B\")\n",
        "elif sum>=350:\n",
        "  print(\"Grade - C\")\n",
        "elif sum>=300:\n",
        "  print(\"Grade - D\")\n",
        "else:\n",
        "  print(\"Grade - E\")"
      ],
      "metadata": {
        "colab": {
          "base_uri": "https://localhost:8080/"
        },
        "id": "iV6famNdWEO2",
        "outputId": "483174b7-72bd-454a-e93e-590861ebbe2d"
      },
      "execution_count": 25,
      "outputs": [
        {
          "output_type": "stream",
          "name": "stdout",
          "text": [
            "enter the marks in subject 1:99\n",
            "enter the marks in subject 2:95\n",
            "enter the marks in subject 3:65\n",
            "enter the marks in subject 4:98\n",
            "enter the marks in subject 5:82\n",
            "Grade - B\n"
          ]
        }
      ]
    },
    {
      "cell_type": "code",
      "source": [
        "#Printing all even numbers, odd numbers, count of even numbers, count of odd numbers within a given range.\n",
        "a=int(input(\"enter the value of a:\"))\n",
        "b=int(input(\"enter the value of b:\"))\n",
        "for x in range(a,b):\n",
        "  if x%2==0:\n",
        "    print(x)\n",
        "for y in range(a,b):\n",
        "  if y%2!=0:\n",
        "    print(y)\n",
        "for a in range(a,b):\n",
        "  if a%2==0:\n",
        "   list1=list(a)\n",
        "   print(list1)"
      ],
      "metadata": {
        "id": "turZgwoQcEV9"
      },
      "execution_count": null,
      "outputs": []
    }
  ]
}