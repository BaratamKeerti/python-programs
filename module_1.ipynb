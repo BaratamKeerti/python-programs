{
  "nbformat": 4,
  "nbformat_minor": 0,
  "metadata": {
    "colab": {
      "name": "module -1.ipynb",
      "provenance": [],
      "collapsed_sections": [],
      "authorship_tag": "ABX9TyN3GkHN9yTY0OHnJoATf6aF",
      "include_colab_link": true
    },
    "kernelspec": {
      "name": "python3",
      "display_name": "Python 3"
    },
    "language_info": {
      "name": "python"
    }
  },
  "cells": [
    {
      "cell_type": "markdown",
      "metadata": {
        "id": "view-in-github",
        "colab_type": "text"
      },
      "source": [
        "<a href=\"https://colab.research.google.com/github/BaratamKeerti/python-programs/blob/main/module_1.ipynb\" target=\"_parent\"><img src=\"https://colab.research.google.com/assets/colab-badge.svg\" alt=\"Open In Colab\"/></a>"
      ]
    },
    {
      "cell_type": "code",
      "execution_count": null,
      "metadata": {
        "colab": {
          "base_uri": "https://localhost:8080/"
        },
        "id": "jnsgsYZHQMlN",
        "outputId": "3a8df2ec-f77d-4199-e628-5bf3b63446fc"
      },
      "outputs": [
        {
          "output_type": "stream",
          "name": "stdout",
          "text": [
            "Learn python for better understanding programming languages\n"
          ]
        }
      ],
      "source": [
        "#Accept input from user and store it in variable and print the value\n",
        "string=\"Learn python for better understanding programming languages\"\n",
        "print(string)"
      ]
    },
    {
      "cell_type": "code",
      "source": [
        "#Use of print statements and use of (.format )for printing different data types\n",
        "a=\"Learn python {} {}\"\n",
        "b=123\n",
        "c=True\n",
        "print(a.format(b,c))"
      ],
      "metadata": {
        "colab": {
          "base_uri": "https://localhost:8080/"
        },
        "id": "jeoPghZTkWxY",
        "outputId": "b3931f2e-907c-48c5-8b2f-9c1ef718c6c2"
      },
      "execution_count": 25,
      "outputs": [
        {
          "output_type": "stream",
          "name": "stdout",
          "text": [
            "Learn python 123 True\n"
          ]
        }
      ]
    },
    {
      "cell_type": "code",
      "source": [
        "#Take 2 numbers as user input and add, multiply, divide, subtract, remainder and print the output\n",
        "a=int(input(\"enter the value of a\"))\n",
        "b=int(input(\"enter the value of b\"))\n",
        "c=a+b\n",
        "d=a-b\n",
        "e=a*b\n",
        "f=a/b\n",
        "g=a%b\n",
        "print(c,d,e,f,g)"
      ],
      "metadata": {
        "colab": {
          "base_uri": "https://localhost:8080/"
        },
        "id": "CZr4iEyPQ0LK",
        "outputId": "9e2f3688-a806-486b-b27c-a4116b8187f5"
      },
      "execution_count": null,
      "outputs": [
        {
          "output_type": "stream",
          "name": "stdout",
          "text": [
            "enter the value of a456\n",
            "enter the value of b123\n",
            "579 333 56088 3.707317073170732 87\n"
          ]
        }
      ]
    },
    {
      "cell_type": "code",
      "source": [
        "#Conversion of one unit to another\n",
        "f=float(input(\"enter the temperature in farenheit:\"))\n",
        "c=(5*f-32)/9\n",
        "print(\"the temperature in celsius is:\",c)\n",
        "miles=int(input(\"enter the distance in miles:\"))\n",
        "km=miles*1.60934\n",
        "print(\"the distance in km is:\",km)"
      ],
      "metadata": {
        "colab": {
          "base_uri": "https://localhost:8080/"
        },
        "id": "R2Fw0VU5Rvvz",
        "outputId": "750faf47-cfae-4be0-db99-abfafe02cb1f"
      },
      "execution_count": null,
      "outputs": [
        {
          "output_type": "stream",
          "name": "stdout",
          "text": [
            "enter the temperature in farenheit:234.6\n",
            "the temperature in celsius is: 126.77777777777777\n",
            "enter the distance in miles:45\n",
            "the distance in km is: 72.4203\n"
          ]
        }
      ]
    },
    {
      "cell_type": "code",
      "source": [
        "#Usage of mathematical functions in python like math.ceil, floor, fabs, fmod, trunc, pow, sqrt etc\n",
        "\n",
        "import math\n",
        "a=int(input(\"enter a\"))\n",
        "b=int(input(\"enter b\"))\n",
        "c=a/b\n",
        "print(math.ceil(c))\n",
        "print(math.floor(c))\n",
        "print(math.fabs(c))\n",
        "print(math.fmod(a,b))\n",
        "d=49\n",
        "e=21\n",
        "print(math.trunc(d/e))\n",
        "print(math.trunc(-d/e))\n",
        "print(math.pow(a,b))\n",
        "print(math.sqrt(a))"
      ],
      "metadata": {
        "colab": {
          "base_uri": "https://localhost:8080/"
        },
        "id": "-r-a4Z9sUTLb",
        "outputId": "c29d09da-c30f-45e3-f62f-1026b36a0591"
      },
      "execution_count": null,
      "outputs": [
        {
          "output_type": "stream",
          "name": "stdout",
          "text": [
            "enter a35\n",
            "enter b3\n",
            "12\n",
            "11\n",
            "11.666666666666666\n",
            "2.0\n",
            "2\n",
            "-2\n",
            "42875.0\n",
            "5.916079783099616\n"
          ]
        }
      ]
    },
    {
      "cell_type": "code",
      "source": [
        "#Accepting 5 different subject marks from user and displaying the grade of the student.\n",
        "a=int(input(\"enter the marks in subject 1:\"))\n",
        "b=int(input(\"enter the marks in subject 2:\"))\n",
        "c=int(input(\"enter the marks in subject 3:\"))\n",
        "d=int(input(\"enter the marks in subject 4:\"))\n",
        "e=int(input(\"enter the marks in subject 5:\"))\n",
        "sum=a+b+c+d+e\n",
        "if sum>=450:\n",
        "  print(\"Grade - A\")\n",
        "elif sum>=400:\n",
        "  print(\"Grade - B\")\n",
        "elif sum>=350:\n",
        "  print(\"Grade - C\")\n",
        "elif sum>=300:\n",
        "  print(\"Grade - D\")\n",
        "else:\n",
        "  print(\"Grade - E\")"
      ],
      "metadata": {
        "colab": {
          "base_uri": "https://localhost:8080/"
        },
        "id": "iV6famNdWEO2",
        "outputId": "483174b7-72bd-454a-e93e-590861ebbe2d"
      },
      "execution_count": null,
      "outputs": [
        {
          "output_type": "stream",
          "name": "stdout",
          "text": [
            "enter the marks in subject 1:99\n",
            "enter the marks in subject 2:95\n",
            "enter the marks in subject 3:65\n",
            "enter the marks in subject 4:98\n",
            "enter the marks in subject 5:82\n",
            "Grade - B\n"
          ]
        }
      ]
    },
    {
      "cell_type": "code",
      "source": [
        "#Printing all even numbers, odd numbers, count of even numbers, count of odd numbers within a given range.\n",
        "a=int(input(\"enter the value of a:\"))\n",
        "b=int(input(\"enter the value of b:\"))\n",
        "for x in range(a,b):\n",
        "  if x%2==0:\n",
        "    print(x)\n",
        "for y in range(a,b):\n",
        "  if y%2!=0:\n",
        "    print(y)\n",
        "\n",
        "2\n",
        "a=int(input(\"enter the value of a:\"))\n",
        "b=int(input(\"enter the value of b:\"))\n",
        "list1=[]\n",
        "list2=[]\n",
        "for d in range(a,b):\n",
        "  if d%2==0:\n",
        "   list1.append(d)\n",
        "print(\"no. of even numbers in the give range are: \",len(list1))\n",
        "for c in range(a,b):\n",
        "  if c%2!=0:\n",
        "    list2.append(c)\n",
        "print(\"no. of odd numbers in the give range are: \",len(list2))"
      ],
      "metadata": {
        "id": "turZgwoQcEV9",
        "colab": {
          "base_uri": "https://localhost:8080/"
        },
        "outputId": "114becbe-7a2e-44d5-cf1d-bd7e87b09a9a"
      },
      "execution_count": 20,
      "outputs": [
        {
          "output_type": "stream",
          "name": "stdout",
          "text": [
            "enter the value of a:2\n",
            "enter the value of b:21\n",
            "2\n",
            "4\n",
            "6\n",
            "8\n",
            "10\n",
            "12\n",
            "14\n",
            "16\n",
            "18\n",
            "20\n",
            "3\n",
            "5\n",
            "7\n",
            "9\n",
            "11\n",
            "13\n",
            "15\n",
            "17\n",
            "19\n",
            "enter the value of a:2\n",
            "enter the value of b:21\n",
            "no. of even numbers in the give range are:  10\n",
            "no. of odd numbers in the give range are:  9\n"
          ]
        }
      ]
    },
    {
      "cell_type": "code",
      "source": [
        "#factorial of a number\n",
        "n=int(input(\"enter the value of n:\"))\n",
        "def fact(n):\n",
        "  if n==0:\n",
        "    return 1\n",
        "  else:\n",
        "    return n*fact(n-1)\n",
        "print(fact(n))"
      ],
      "metadata": {
        "colab": {
          "base_uri": "https://localhost:8080/"
        },
        "id": "CfpQAfVse0HR",
        "outputId": "15b5fb4d-bbb6-4c2c-d391-cb595d5dde95"
      },
      "execution_count": 29,
      "outputs": [
        {
          "output_type": "stream",
          "name": "stdout",
          "text": [
            "enter the value of n:6\n",
            "720\n"
          ]
        }
      ]
    },
    {
      "cell_type": "code",
      "source": [
        ""
      ],
      "metadata": {
        "id": "wX9tVuQ0gIsg"
      },
      "execution_count": null,
      "outputs": []
    }
  ]
}