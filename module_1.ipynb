{
  "nbformat": 4,
  "nbformat_minor": 0,
  "metadata": {
    "colab": {
      "name": "module -1.ipynb",
      "provenance": [],
      "collapsed_sections": [],
      "authorship_tag": "ABX9TyPoUFtZFCgO4JGnXUooIbsW",
      "include_colab_link": true
    },
    "kernelspec": {
      "name": "python3",
      "display_name": "Python 3"
    },
    "language_info": {
      "name": "python"
    }
  },
  "cells": [
    {
      "cell_type": "markdown",
      "metadata": {
        "id": "view-in-github",
        "colab_type": "text"
      },
      "source": [
        "<a href=\"https://colab.research.google.com/github/BaratamKeerti/python-programs/blob/main/module_1.ipynb\" target=\"_parent\"><img src=\"https://colab.research.google.com/assets/colab-badge.svg\" alt=\"Open In Colab\"/></a>"
      ]
    },
    {
      "cell_type": "markdown",
      "source": [
        "# *MODULE-1*"
      ],
      "metadata": {
        "id": "WFHH7QaMjSsU"
      }
    },
    {
      "cell_type": "code",
      "execution_count": null,
      "metadata": {
        "colab": {
          "base_uri": "https://localhost:8080/"
        },
        "id": "jnsgsYZHQMlN",
        "outputId": "3a8df2ec-f77d-4199-e628-5bf3b63446fc"
      },
      "outputs": [
        {
          "output_type": "stream",
          "name": "stdout",
          "text": [
            "Learn python for better understanding programming languages\n"
          ]
        }
      ],
      "source": [
        "#Accept input from user and store it in variable and print the value\n",
        "string=\"Learn python for better understanding programming languages\"\n",
        "print(string)"
      ]
    },
    {
      "cell_type": "code",
      "source": [
        "#Use of print statements and use of (.format )for printing different data types\n",
        "a=\"Learn python {} {}\"\n",
        "b=123\n",
        "c=True\n",
        "print(a.format(b,c))"
      ],
      "metadata": {
        "colab": {
          "base_uri": "https://localhost:8080/"
        },
        "id": "jeoPghZTkWxY",
        "outputId": "b3931f2e-907c-48c5-8b2f-9c1ef718c6c2"
      },
      "execution_count": null,
      "outputs": [
        {
          "output_type": "stream",
          "name": "stdout",
          "text": [
            "Learn python 123 True\n"
          ]
        }
      ]
    },
    {
      "cell_type": "code",
      "source": [
        "#Take 2 numbers as user input and add, multiply, divide, subtract, remainder and print the output\n",
        "a=int(input(\"enter the value of a\"))\n",
        "b=int(input(\"enter the value of b\"))\n",
        "c=a+b\n",
        "d=a-b\n",
        "e=a*b\n",
        "f=a/b\n",
        "g=a%b\n",
        "print(c,d,e,f,g)"
      ],
      "metadata": {
        "colab": {
          "base_uri": "https://localhost:8080/"
        },
        "id": "CZr4iEyPQ0LK",
        "outputId": "9e2f3688-a806-486b-b27c-a4116b8187f5"
      },
      "execution_count": null,
      "outputs": [
        {
          "output_type": "stream",
          "name": "stdout",
          "text": [
            "enter the value of a456\n",
            "enter the value of b123\n",
            "579 333 56088 3.707317073170732 87\n"
          ]
        }
      ]
    },
    {
      "cell_type": "code",
      "source": [
        "#Conversion of one unit to another\n",
        "f=float(input(\"enter the temperature in farenheit:\"))\n",
        "c=(5*f-32)/9\n",
        "print(\"the temperature in celsius is:\",c)\n",
        "miles=int(input(\"enter the distance in miles:\"))\n",
        "km=miles*1.60934\n",
        "print(\"the distance in km is:\",km)"
      ],
      "metadata": {
        "colab": {
          "base_uri": "https://localhost:8080/"
        },
        "id": "R2Fw0VU5Rvvz",
        "outputId": "750faf47-cfae-4be0-db99-abfafe02cb1f"
      },
      "execution_count": null,
      "outputs": [
        {
          "output_type": "stream",
          "name": "stdout",
          "text": [
            "enter the temperature in farenheit:234.6\n",
            "the temperature in celsius is: 126.77777777777777\n",
            "enter the distance in miles:45\n",
            "the distance in km is: 72.4203\n"
          ]
        }
      ]
    },
    {
      "cell_type": "code",
      "source": [
        "#Usage of mathematical functions in python like math.ceil, floor, fabs, fmod, trunc, pow, sqrt etc\n",
        "\n",
        "import math\n",
        "a=int(input(\"enter a\"))\n",
        "b=int(input(\"enter b\"))\n",
        "c=a/b\n",
        "print(math.ceil(c))\n",
        "print(math.floor(c))\n",
        "print(math.fabs(c))\n",
        "print(math.fmod(a,b))\n",
        "d=49\n",
        "e=21\n",
        "print(math.trunc(d/e))\n",
        "print(math.trunc(-d/e))\n",
        "print(math.pow(a,b))\n",
        "print(math.sqrt(a))"
      ],
      "metadata": {
        "colab": {
          "base_uri": "https://localhost:8080/"
        },
        "id": "-r-a4Z9sUTLb",
        "outputId": "c29d09da-c30f-45e3-f62f-1026b36a0591"
      },
      "execution_count": null,
      "outputs": [
        {
          "output_type": "stream",
          "name": "stdout",
          "text": [
            "enter a35\n",
            "enter b3\n",
            "12\n",
            "11\n",
            "11.666666666666666\n",
            "2.0\n",
            "2\n",
            "-2\n",
            "42875.0\n",
            "5.916079783099616\n"
          ]
        }
      ]
    },
    {
      "cell_type": "code",
      "source": [
        "#Building a mathematical calculator that can perform operations according to user input. Use decision making statement.\n",
        "a=int(input(\"enter the value of a:\"))\n",
        "b=int(input(\"enter the value of b:\"))\n",
        "operator=input(\"enter the arithmetic operator\")\n",
        "if operator=='add':\n",
        "  print(a+b)\n",
        "elif operator=='sub':\n",
        "  print(a-b)\n",
        "elif operator=='mul':\n",
        "  print(a*b)\n",
        "elif operator=='div':\n",
        "  print(a/b)\n",
        "else:\n",
        "  print(\"there is no such operator\")"
      ],
      "metadata": {
        "colab": {
          "base_uri": "https://localhost:8080/"
        },
        "id": "GnfY46fvleg3",
        "outputId": "d293870a-c67d-40b3-af62-3aff1ae7a7a4"
      },
      "execution_count": 2,
      "outputs": [
        {
          "output_type": "stream",
          "name": "stdout",
          "text": [
            "enter the value of a:6\n",
            "enter the value of b:8\n",
            "enter the arithmetic operatordiv\n",
            "0.75\n"
          ]
        }
      ]
    },
    {
      "cell_type": "code",
      "source": [
        "#Accepting 5 different subject marks from user and displaying the grade of the student.\n",
        "a=int(input(\"enter the marks in subject 1:\"))\n",
        "b=int(input(\"enter the marks in subject 2:\"))\n",
        "c=int(input(\"enter the marks in subject 3:\"))\n",
        "d=int(input(\"enter the marks in subject 4:\"))\n",
        "e=int(input(\"enter the marks in subject 5:\"))\n",
        "sum=a+b+c+d+e\n",
        "if sum>=450:\n",
        "  print(\"Grade - A\")\n",
        "elif sum>=400 and sum<=450:\n",
        "  print(\"Grade - B\")\n",
        "elif sum>=350 and sum<=400:\n",
        "  print(\"Grade - C\")\n",
        "elif sum>=300 and sum<=350:\n",
        "  print(\"Grade - D\")\n",
        "else:\n",
        "  print(\"Grade - E\")"
      ],
      "metadata": {
        "colab": {
          "base_uri": "https://localhost:8080/"
        },
        "id": "iV6famNdWEO2",
        "outputId": "25858b9e-e250-4ca5-92bb-c7c780a281bf"
      },
      "execution_count": null,
      "outputs": [
        {
          "output_type": "stream",
          "name": "stdout",
          "text": [
            "enter the marks in subject 1:98\n",
            "enter the marks in subject 2:99\n",
            "enter the marks in subject 3:67\n",
            "enter the marks in subject 4:89\n",
            "enter the marks in subject 5:90\n",
            "Grade - B\n"
          ]
        }
      ]
    },
    {
      "cell_type": "code",
      "source": [
        "#Printing all even numbers, odd numbers, count of even numbers, count of odd numbers within a given range.\n",
        "a=int(input(\"enter the value of a:\"))\n",
        "b=int(input(\"enter the value of b:\"))\n",
        "for x in range(a,b):\n",
        "  if x%2==0:\n",
        "    print(x)\n",
        "for y in range(a,b):\n",
        "  if y%2!=0:\n",
        "    print(y)\n",
        "\n",
        "2\n",
        "a=int(input(\"enter the value of a:\"))\n",
        "b=int(input(\"enter the value of b:\"))\n",
        "list1=[]\n",
        "list2=[]\n",
        "for d in range(a,b):\n",
        "  if d%2==0:\n",
        "   list1.append(d)\n",
        "print(\"no. of even numbers in the give range are: \",len(list1))\n",
        "for c in range(a,b):\n",
        "  if c%2!=0:\n",
        "    list2.append(c)\n",
        "print(\"no. of odd numbers in the give range are: \",len(list2))"
      ],
      "metadata": {
        "id": "turZgwoQcEV9",
        "colab": {
          "base_uri": "https://localhost:8080/"
        },
        "outputId": "114becbe-7a2e-44d5-cf1d-bd7e87b09a9a"
      },
      "execution_count": null,
      "outputs": [
        {
          "output_type": "stream",
          "name": "stdout",
          "text": [
            "enter the value of a:2\n",
            "enter the value of b:21\n",
            "2\n",
            "4\n",
            "6\n",
            "8\n",
            "10\n",
            "12\n",
            "14\n",
            "16\n",
            "18\n",
            "20\n",
            "3\n",
            "5\n",
            "7\n",
            "9\n",
            "11\n",
            "13\n",
            "15\n",
            "17\n",
            "19\n",
            "enter the value of a:2\n",
            "enter the value of b:21\n",
            "no. of even numbers in the give range are:  10\n",
            "no. of odd numbers in the give range are:  9\n"
          ]
        }
      ]
    },
    {
      "cell_type": "code",
      "source": [
        "#factorial of a number\n",
        "def factorial(n):\n",
        "  if n==0:\n",
        "    return 1\n",
        "  elif n==1:\n",
        "    return 1\n",
        "  else:\n",
        "    return n*factorial(n-1)\n",
        "n=int(input(\"enter the value of n\"))\n",
        "print(factorial(n))"
      ],
      "metadata": {
        "colab": {
          "base_uri": "https://localhost:8080/"
        },
        "id": "CfpQAfVse0HR",
        "outputId": "7302690a-2f17-4261-f203-506a82ccfe88"
      },
      "execution_count": null,
      "outputs": [
        {
          "output_type": "stream",
          "name": "stdout",
          "text": [
            "enter the value of n6\n",
            "720\n"
          ]
        }
      ]
    },
    {
      "cell_type": "code",
      "source": [
        "#gcd of two numbers\n",
        "a=int(input(\"enter the value of a:\"))\n",
        "b=int(input(\"enter the value of b:\"))\n",
        "for i in range(1,a) and range(1,b):\n",
        "  if a%i==0 and b%i==0:\n",
        "    gcd=i\n",
        "print(\"the gcd of the given two numbers is: \",gcd)"
      ],
      "metadata": {
        "id": "Ixb0-T7d9BIT",
        "colab": {
          "base_uri": "https://localhost:8080/"
        },
        "outputId": "10f7321c-13e9-458e-b04e-5709be10daf7"
      },
      "execution_count": null,
      "outputs": [
        {
          "output_type": "stream",
          "name": "stdout",
          "text": [
            "enter the value of a:65\n",
            "enter the value of b:91\n",
            "the gcd of the given two numbers is:  13\n"
          ]
        }
      ]
    },
    {
      "cell_type": "code",
      "source": [
        "#Generate Fibonacci series up to N numbers.\n",
        "def fibo(n):\n",
        "  if n==0:\n",
        "    return 0\n",
        "  elif n==1:\n",
        "    return 1\n",
        "  else:\n",
        "    return fibo(n-1)+fibo(n-2)\n",
        "\n",
        "n=int(input(\"enter the value of n:\"))\n",
        "for i in range(0,n):\n",
        "  print(fibo(i))"
      ],
      "metadata": {
        "colab": {
          "base_uri": "https://localhost:8080/"
        },
        "id": "3kLc071JDMaq",
        "outputId": "1199dd14-4a2b-4813-f666-0cab88710ea8"
      },
      "execution_count": null,
      "outputs": [
        {
          "output_type": "stream",
          "name": "stdout",
          "text": [
            "enter the value of n:8\n",
            "0\n",
            "1\n",
            "1\n",
            "2\n",
            "3\n",
            "5\n",
            "8\n",
            "13\n"
          ]
        }
      ]
    },
    {
      "cell_type": "code",
      "source": [
        "#Check whether the given input is palindrome\n",
        "num=int(input(\"enter a number: \"))\n",
        "temp=num\n",
        "reversed=0\n",
        "while num>1:\n",
        "  rem=num%10\n",
        "  reversed=(reversed*10)+rem\n",
        "  num//=10\n",
        "if reversed==temp:\n",
        "  print(\"the number is a palindrome\")\n",
        "else:\n",
        "  print(\"the number is not a palindrome\")"
      ],
      "metadata": {
        "colab": {
          "base_uri": "https://localhost:8080/"
        },
        "id": "b5NQyYeGIFjg",
        "outputId": "6f251649-909e-4993-d3f1-38678f47d522"
      },
      "execution_count": null,
      "outputs": [
        {
          "output_type": "stream",
          "name": "stdout",
          "text": [
            "enter a number: 6776\n",
            "the number is a palindrome\n"
          ]
        }
      ]
    },
    {
      "cell_type": "code",
      "source": [
        "#Check whether the given input is strong \n",
        "def factorial(n):\n",
        "  if n==0:\n",
        "    return 1\n",
        "  elif n==1:\n",
        "    return 1\n",
        "  else:\n",
        "    return n*factorial(n-1)\n",
        "\n",
        "num=int(input(\"enter the value of number:\"))\n",
        "sum=0\n",
        "temp=num\n",
        "while(temp>0):\n",
        "  rem=temp%10\n",
        "  sum=sum+factorial(rem)\n",
        "  temp//=10\n",
        "if (sum == num):  \n",
        "    print(\" The given number is a Strong Number\")  \n",
        "else:  \n",
        "    print(\" The given number is not a Strong Number\")  "
      ],
      "metadata": {
        "colab": {
          "base_uri": "https://localhost:8080/"
        },
        "id": "TNbLzIkEJpQz",
        "outputId": "cc1f25df-90d6-4ce2-886e-24a731017133"
      },
      "execution_count": null,
      "outputs": [
        {
          "output_type": "stream",
          "name": "stdout",
          "text": [
            "enter the value of number:145\n",
            " The given number is a Strong Number\n"
          ]
        }
      ]
    },
    {
      "cell_type": "code",
      "source": [
        "#Check whether the given input is perfect\n",
        "n=int(input(\"enter the value of n:\"))\n",
        "sum=0\n",
        "for i in range(1,n):\n",
        "  if n%i==0:\n",
        "    sum+=i\n",
        "if sum==n:\n",
        "  print(\"the number is a perfect number\",)\n",
        "else:\n",
        "  print(\"the number is not a perfect number\")"
      ],
      "metadata": {
        "colab": {
          "base_uri": "https://localhost:8080/"
        },
        "id": "nX6Zvc91THtB",
        "outputId": "caf6db84-beb4-431e-9b17-f248b581f31a"
      },
      "execution_count": null,
      "outputs": [
        {
          "output_type": "stream",
          "name": "stdout",
          "text": [
            "enter the value of n:496\n",
            "the number is a perfect number\n"
          ]
        }
      ]
    },
    {
      "cell_type": "code",
      "source": [
        "#Compute compound interest using loop for a certain principal and interest amount\n",
        "n=int(input(\"Enter the principle amount:\"))\n",
        "rate=int(input(\"enter the rate:\"))\n",
        "years=int(input(\"enter the no. of years\"))\n",
        "for i in range(years):\n",
        "  n=n+((n*rate)/100)\n",
        "print(n)"
      ],
      "metadata": {
        "id": "XarOzXFTVZht",
        "colab": {
          "base_uri": "https://localhost:8080/"
        },
        "outputId": "ba19ad45-7c13-4358-a01f-8915c8df3bee"
      },
      "execution_count": 1,
      "outputs": [
        {
          "output_type": "stream",
          "name": "stdout",
          "text": [
            "Enter the principle amount:5000\n",
            "enter the rate:2\n",
            "enter the no. of years3\n",
            "5306.04\n"
          ]
        }
      ]
    }
  ]
}