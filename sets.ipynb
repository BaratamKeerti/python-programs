{
  "nbformat": 4,
  "nbformat_minor": 0,
  "metadata": {
    "colab": {
      "name": "sets.ipynb",
      "provenance": [],
      "collapsed_sections": [],
      "authorship_tag": "ABX9TyOq4CXdt/OpaGPcqvZPYQSY",
      "include_colab_link": true
    },
    "kernelspec": {
      "name": "python3",
      "display_name": "Python 3"
    },
    "language_info": {
      "name": "python"
    }
  },
  "cells": [
    {
      "cell_type": "markdown",
      "metadata": {
        "id": "view-in-github",
        "colab_type": "text"
      },
      "source": [
        "<a href=\"https://colab.research.google.com/github/BaratamKeerti/python-programs/blob/main/sets.ipynb\" target=\"_parent\"><img src=\"https://colab.research.google.com/assets/colab-badge.svg\" alt=\"Open In Colab\"/></a>"
      ]
    },
    {
      "cell_type": "code",
      "execution_count": null,
      "metadata": {
        "colab": {
          "base_uri": "https://localhost:8080/"
        },
        "id": "mdeDZCp0AyPM",
        "outputId": "572a09e9-6a83-435e-9f6b-89f70845fddf"
      },
      "outputs": [
        {
          "output_type": "stream",
          "name": "stdout",
          "text": [
            "{'banana', 'cherry', 'watermelon', 'apple', 'kiwi'}\n"
          ]
        }
      ],
      "source": [
        "fruits={'apple','banana','kiwi','watermelon','cherry'}\n",
        "print(fruits)"
      ]
    },
    {
      "cell_type": "code",
      "source": [
        "fruits=('apple','banana','kiwi','watermelon','cherry','banana')\n",
        "print(fruits)                     #duplicate values are neglected"
      ],
      "metadata": {
        "colab": {
          "base_uri": "https://localhost:8080/"
        },
        "id": "buH6HqliBnMk",
        "outputId": "78b83f13-049a-4f20-b4a4-fb3d185a67d8"
      },
      "execution_count": null,
      "outputs": [
        {
          "output_type": "stream",
          "name": "stdout",
          "text": [
            "('apple', 'banana', 'kiwi', 'watermelon', 'cherry', 'banana')\n"
          ]
        }
      ]
    },
    {
      "cell_type": "code",
      "source": [
        "fruits=('apple','banana','kiwi','watermelon','cherry')\n",
        "print(len(fruits))"
      ],
      "metadata": {
        "colab": {
          "base_uri": "https://localhost:8080/"
        },
        "id": "2-IAEQ3oCsN8",
        "outputId": "51fdd1d9-64f4-446d-b62d-7a4f977275a5"
      },
      "execution_count": null,
      "outputs": [
        {
          "output_type": "stream",
          "name": "stdout",
          "text": [
            "5\n"
          ]
        }
      ]
    },
    {
      "cell_type": "code",
      "source": [
        "fruits={'apple','banana','kiwi','watermelon','cherry'}\n",
        "flowers={'rose','jasmine','lilly'}\n",
        "numbers={1,2,3,4}\n",
        "boolean={True,False,True}\n",
        "print(flowers)\n",
        "print(fruits)\n",
        "print(boolean)\n",
        "print(numbers)"
      ],
      "metadata": {
        "colab": {
          "base_uri": "https://localhost:8080/"
        },
        "id": "gUuZ-ZQDC2m3",
        "outputId": "0ff0eb87-86d0-4eca-d25f-857c76b0ecb6"
      },
      "execution_count": null,
      "outputs": [
        {
          "output_type": "stream",
          "name": "stdout",
          "text": [
            "{'rose', 'jasmine', 'lilly'}\n",
            "{'banana', 'cherry', 'watermelon', 'apple', 'kiwi'}\n",
            "{False, True}\n",
            "{1, 2, 3, 4}\n"
          ]
        }
      ]
    },
    {
      "cell_type": "code",
      "source": [
        "#constructing a set\n",
        "my_set=(('apple',123,'flower',True))\n",
        "print(my_set)"
      ],
      "metadata": {
        "id": "lpgVRhPDDZ5M",
        "colab": {
          "base_uri": "https://localhost:8080/"
        },
        "outputId": "2d476d68-0ec5-4ca3-b49e-d95f440012e6"
      },
      "execution_count": 1,
      "outputs": [
        {
          "output_type": "stream",
          "name": "stdout",
          "text": [
            "('apple', 123, 'flower', True)\n"
          ]
        }
      ]
    },
    {
      "cell_type": "markdown",
      "source": [
        "# *ACCESS SET ITEMS*"
      ],
      "metadata": {
        "id": "AcA9i14YMZuV"
      }
    },
    {
      "cell_type": "code",
      "source": [
        "fruits={'apple','banana','kiwi','watermelon','cherry'}\n",
        "for i in fruits:\n",
        "  print(i)"
      ],
      "metadata": {
        "colab": {
          "base_uri": "https://localhost:8080/"
        },
        "id": "WvhyRpCNMY4u",
        "outputId": "300b7b2f-5a32-4e32-b123-0e1748dc6f4c"
      },
      "execution_count": 2,
      "outputs": [
        {
          "output_type": "stream",
          "name": "stdout",
          "text": [
            "kiwi\n",
            "watermelon\n",
            "banana\n",
            "cherry\n",
            "apple\n"
          ]
        }
      ]
    },
    {
      "cell_type": "code",
      "source": [
        "fruits={'apple','banana','kiwi','watermelon','cherry'}\n",
        "print('kiwi' in fruits)\n",
        "print('mango' in fruits)"
      ],
      "metadata": {
        "colab": {
          "base_uri": "https://localhost:8080/"
        },
        "id": "XnGQLCKtMOtB",
        "outputId": "0229a56c-f180-4faf-e421-3ae14778b395"
      },
      "execution_count": 4,
      "outputs": [
        {
          "output_type": "stream",
          "name": "stdout",
          "text": [
            "True\n",
            "False\n"
          ]
        }
      ]
    },
    {
      "cell_type": "markdown",
      "source": [
        "# *ADD ITEMS*"
      ],
      "metadata": {
        "id": "VlfjgiTIM7nF"
      }
    },
    {
      "cell_type": "code",
      "source": [
        "fruits={'apple','banana','kiwi','watermelon','cherry'}\n",
        "fruits.add('mango')\n",
        "print(fruits)"
      ],
      "metadata": {
        "colab": {
          "base_uri": "https://localhost:8080/"
        },
        "id": "GEx5O17gMyO1",
        "outputId": "42ad7b31-67e2-4df3-c943-3821cc5ad498"
      },
      "execution_count": 8,
      "outputs": [
        {
          "output_type": "stream",
          "name": "stdout",
          "text": [
            "{'mango', 'kiwi', 'watermelon', 'banana', 'cherry', 'apple'}\n"
          ]
        }
      ]
    },
    {
      "cell_type": "code",
      "source": [
        "#update\n",
        "fruits={'apple','banana','kiwi','watermelon','cherry'}\n",
        "add={'mango','date','papaya'}\n",
        "fruits.update(add)\n",
        "print(fruits)"
      ],
      "metadata": {
        "colab": {
          "base_uri": "https://localhost:8080/"
        },
        "id": "T4g3C-nENHP0",
        "outputId": "66c1ea56-1233-4eae-9dca-fd73fb0e66b6"
      },
      "execution_count": 10,
      "outputs": [
        {
          "output_type": "stream",
          "name": "stdout",
          "text": [
            "{'papaya', 'mango', 'kiwi', 'watermelon', 'date', 'banana', 'cherry', 'apple'}\n"
          ]
        }
      ]
    },
    {
      "cell_type": "code",
      "source": [
        "fruits={'apple','banana','kiwi','watermelon','cherry'}\n",
        "add=['mango','date','papaya']\n",
        "another_add=('pineapple','orange')\n",
        "fruits.update(add,another_add)\n",
        "print(fruits)"
      ],
      "metadata": {
        "colab": {
          "base_uri": "https://localhost:8080/"
        },
        "id": "Ln9FfjEvNisk",
        "outputId": "4addfa1d-6801-4d78-cdd6-63ff01f77ebc"
      },
      "execution_count": 12,
      "outputs": [
        {
          "output_type": "stream",
          "name": "stdout",
          "text": [
            "{'papaya', 'mango', 'kiwi', 'orange', 'pineapple', 'watermelon', 'date', 'banana', 'cherry', 'apple'}\n"
          ]
        }
      ]
    },
    {
      "cell_type": "code",
      "source": [
        "#remove\n",
        "fruits={'apple','banana','kiwi','watermelon','cherry'}\n",
        "fruits.remove('cherry')\n",
        "print(fruits)"
      ],
      "metadata": {
        "colab": {
          "base_uri": "https://localhost:8080/"
        },
        "id": "meO-c79dN720",
        "outputId": "7a40dd65-8cca-4814-abc3-4500904908b1"
      },
      "execution_count": 18,
      "outputs": [
        {
          "output_type": "stream",
          "name": "stdout",
          "text": [
            "{'kiwi', 'watermelon', 'banana', 'apple'}\n"
          ]
        }
      ]
    },
    {
      "cell_type": "code",
      "source": [
        "#discard\n",
        "fruits={'apple','banana','kiwi','watermelon','cherry'}\n",
        "fruits.discard('watermelon')\n",
        "print(fruits)"
      ],
      "metadata": {
        "colab": {
          "base_uri": "https://localhost:8080/"
        },
        "id": "bnh9skqeOPpE",
        "outputId": "5ae1be9f-0a48-44cb-ca67-51de8db6daee"
      },
      "execution_count": 20,
      "outputs": [
        {
          "output_type": "stream",
          "name": "stdout",
          "text": [
            "{'kiwi', 'banana', 'cherry', 'apple'}\n"
          ]
        }
      ]
    },
    {
      "cell_type": "code",
      "source": [
        "#pop\n",
        "fruits={'apple','banana','kiwi','watermelon','cherry'}\n",
        "i=fruits.pop()\n",
        "print(i)\n",
        "print(fruits)"
      ],
      "metadata": {
        "colab": {
          "base_uri": "https://localhost:8080/"
        },
        "id": "TVmmRWZ1ORVz",
        "outputId": "12839006-d1d5-40aa-87b7-938d954ca1f0"
      },
      "execution_count": 24,
      "outputs": [
        {
          "output_type": "stream",
          "name": "stdout",
          "text": [
            "kiwi\n",
            "{'watermelon', 'banana', 'cherry', 'apple'}\n"
          ]
        }
      ]
    },
    {
      "cell_type": "code",
      "source": [
        "#del\n",
        "fruits={'apple','banana','kiwi','watermelon','cherry'}\n",
        "del fruits\n",
        "print(fruits)                              #this will raise an error because the set no longer exists"
      ],
      "metadata": {
        "colab": {
          "base_uri": "https://localhost:8080/",
          "height": 200
        },
        "id": "9VXdEagFOTTz",
        "outputId": "1be5f6c1-e53a-4e17-bf97-e1495681f3a6"
      },
      "execution_count": 28,
      "outputs": [
        {
          "output_type": "error",
          "ename": "NameError",
          "evalue": "ignored",
          "traceback": [
            "\u001b[0;31m---------------------------------------------------------------------------\u001b[0m",
            "\u001b[0;31mNameError\u001b[0m                                 Traceback (most recent call last)",
            "\u001b[0;32m<ipython-input-28-b0740166a3f8>\u001b[0m in \u001b[0;36m<module>\u001b[0;34m()\u001b[0m\n\u001b[1;32m      2\u001b[0m \u001b[0mfruits\u001b[0m\u001b[0;34m=\u001b[0m\u001b[0;34m{\u001b[0m\u001b[0;34m'apple'\u001b[0m\u001b[0;34m,\u001b[0m\u001b[0;34m'banana'\u001b[0m\u001b[0;34m,\u001b[0m\u001b[0;34m'kiwi'\u001b[0m\u001b[0;34m,\u001b[0m\u001b[0;34m'watermelon'\u001b[0m\u001b[0;34m,\u001b[0m\u001b[0;34m'cherry'\u001b[0m\u001b[0;34m}\u001b[0m\u001b[0;34m\u001b[0m\u001b[0;34m\u001b[0m\u001b[0m\n\u001b[1;32m      3\u001b[0m \u001b[0;32mdel\u001b[0m \u001b[0mfruits\u001b[0m\u001b[0;34m\u001b[0m\u001b[0;34m\u001b[0m\u001b[0m\n\u001b[0;32m----> 4\u001b[0;31m \u001b[0mprint\u001b[0m\u001b[0;34m(\u001b[0m\u001b[0mfruits\u001b[0m\u001b[0;34m)\u001b[0m\u001b[0;34m\u001b[0m\u001b[0;34m\u001b[0m\u001b[0m\n\u001b[0m",
            "\u001b[0;31mNameError\u001b[0m: name 'fruits' is not defined"
          ]
        }
      ]
    },
    {
      "cell_type": "code",
      "source": [
        "#clear\n",
        "fruits={'apple','banana','kiwi','watermelon','cherry'}\n",
        "fruits.clear()\n",
        "print(fruits)"
      ],
      "metadata": {
        "colab": {
          "base_uri": "https://localhost:8080/"
        },
        "id": "VE3WnuXnOU8D",
        "outputId": "515911ac-c558-4257-b218-bdcac8b50850"
      },
      "execution_count": 29,
      "outputs": [
        {
          "output_type": "stream",
          "name": "stdout",
          "text": [
            "set()\n"
          ]
        }
      ]
    },
    {
      "cell_type": "markdown",
      "source": [
        "# *LOOP SETS*"
      ],
      "metadata": {
        "id": "1hGhF4RiP4A2"
      }
    },
    {
      "cell_type": "code",
      "source": [
        "fruits={'apple','banana','kiwi','watermelon','cherry'}\n",
        "for a in fruits:\n",
        "  print(a)"
      ],
      "metadata": {
        "colab": {
          "base_uri": "https://localhost:8080/"
        },
        "id": "X90eOW1BOWwj",
        "outputId": "3ba99850-6651-4d65-d30e-d7fe9b165247"
      },
      "execution_count": 31,
      "outputs": [
        {
          "output_type": "stream",
          "name": "stdout",
          "text": [
            "kiwi\n",
            "watermelon\n",
            "banana\n",
            "cherry\n",
            "apple\n"
          ]
        }
      ]
    },
    {
      "cell_type": "markdown",
      "source": [
        "# *JOIN SETS*"
      ],
      "metadata": {
        "id": "XJ6T5AkdQpQ9"
      }
    },
    {
      "cell_type": "code",
      "source": [
        "#union\n",
        "fruits={'apple','banana','kiwi','watermelon','cherry'}\n",
        "new={'orange','pineapple','date'}\n",
        "print(fruits.union(new))"
      ],
      "metadata": {
        "colab": {
          "base_uri": "https://localhost:8080/"
        },
        "id": "tHfAGOA9QU4s",
        "outputId": "ad552771-51de-441f-8d49-fbb04fc8feac"
      },
      "execution_count": 37,
      "outputs": [
        {
          "output_type": "stream",
          "name": "stdout",
          "text": [
            "{'orange', 'pineapple', 'banana', 'watermelon', 'date', 'kiwi', 'cherry', 'apple'}\n"
          ]
        }
      ]
    },
    {
      "cell_type": "code",
      "source": [
        "#update\n",
        "fruits={'apple','banana','kiwi','watermelon','cherry'}\n",
        "new={'orange','pineapple','date'}\n",
        "fruits.update(new)\n",
        "print(fruits)"
      ],
      "metadata": {
        "colab": {
          "base_uri": "https://localhost:8080/"
        },
        "id": "e9vAju-FQ1uD",
        "outputId": "b7d08947-1c31-4512-f3fd-2d7e616d736a"
      },
      "execution_count": 39,
      "outputs": [
        {
          "output_type": "stream",
          "name": "stdout",
          "text": [
            "{'kiwi', 'orange', 'pineapple', 'watermelon', 'date', 'banana', 'cherry', 'apple'}\n"
          ]
        }
      ]
    },
    {
      "cell_type": "code",
      "source": [
        "#intersection_update\n",
        "fruits={'apple','banana','kiwi','watermelon','cherry'}\n",
        "other_fruits={'kiwi','date','raspberry'}\n",
        "fruits.intersection_update(other_fruits)\n",
        "print(fruits)"
      ],
      "metadata": {
        "colab": {
          "base_uri": "https://localhost:8080/"
        },
        "id": "ShvDrOJNRXHV",
        "outputId": "276f9a99-7d06-4839-ae33-2bade64b5800"
      },
      "execution_count": 43,
      "outputs": [
        {
          "output_type": "stream",
          "name": "stdout",
          "text": [
            "{'kiwi'}\n"
          ]
        }
      ]
    },
    {
      "cell_type": "code",
      "source": [
        "#intersection\n",
        "fruits={'apple','banana','kiwi','watermelon','cherry'}\n",
        "other_fruits={'kiwi','date','raspberry'}\n",
        "common_elements=fruits.intersection(other_fruits)\n",
        "print(common_elements)"
      ],
      "metadata": {
        "colab": {
          "base_uri": "https://localhost:8080/"
        },
        "id": "S4lp5ibKTSCS",
        "outputId": "356742b7-9126-44a0-bda7-18340e4bfb26"
      },
      "execution_count": 44,
      "outputs": [
        {
          "output_type": "stream",
          "name": "stdout",
          "text": [
            "{'kiwi'}\n"
          ]
        }
      ]
    },
    {
      "cell_type": "code",
      "source": [
        "#symmetric_difference_update\n",
        "fruits={'apple','banana','kiwi','watermelon','cherry'}\n",
        "other_fruits={'kiwi','date','raspberry'}\n",
        "fruits.symmetric_difference_update(other_fruits)\n",
        "print(fruits)"
      ],
      "metadata": {
        "colab": {
          "base_uri": "https://localhost:8080/"
        },
        "id": "4lReHs-2UP6h",
        "outputId": "ebc5d112-e234-423e-e215-645220f7961c"
      },
      "execution_count": 45,
      "outputs": [
        {
          "output_type": "stream",
          "name": "stdout",
          "text": [
            "{'raspberry', 'watermelon', 'date', 'banana', 'cherry', 'apple'}\n"
          ]
        }
      ]
    },
    {
      "cell_type": "code",
      "source": [
        "#symmetric_difference\n",
        "fruits={'apple','banana','kiwi','watermelon','cherry'}\n",
        "other_fruits={'kiwi','date','raspberry'}\n",
        "symmetric_set=fruits.symmetric_difference(other_fruits)\n",
        "print(symmetric_set)"
      ],
      "metadata": {
        "colab": {
          "base_uri": "https://localhost:8080/"
        },
        "id": "IftQJNaeU3fR",
        "outputId": "90943f1c-6770-49e8-a2b3-18e105f69f65"
      },
      "execution_count": 47,
      "outputs": [
        {
          "output_type": "stream",
          "name": "stdout",
          "text": [
            "{'raspberry', 'watermelon', 'date', 'banana', 'cherry', 'apple'}\n"
          ]
        }
      ]
    },
    {
      "cell_type": "code",
      "source": [
        ""
      ],
      "metadata": {
        "id": "mZ8v1aFGVM7Q"
      },
      "execution_count": null,
      "outputs": []
    }
  ]
}