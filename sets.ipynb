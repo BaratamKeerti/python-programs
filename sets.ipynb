{
  "nbformat": 4,
  "nbformat_minor": 0,
  "metadata": {
    "colab": {
      "name": "sets.ipynb",
      "provenance": [],
      "collapsed_sections": [],
      "authorship_tag": "ABX9TyNDn3KJuahQih3v2fqpH9mz",
      "include_colab_link": true
    },
    "kernelspec": {
      "name": "python3",
      "display_name": "Python 3"
    },
    "language_info": {
      "name": "python"
    }
  },
  "cells": [
    {
      "cell_type": "markdown",
      "metadata": {
        "id": "view-in-github",
        "colab_type": "text"
      },
      "source": [
        "<a href=\"https://colab.research.google.com/github/BaratamKeerti/python-programs/blob/main/sets.ipynb\" target=\"_parent\"><img src=\"https://colab.research.google.com/assets/colab-badge.svg\" alt=\"Open In Colab\"/></a>"
      ]
    },
    {
      "cell_type": "code",
      "execution_count": 12,
      "metadata": {
        "colab": {
          "base_uri": "https://localhost:8080/"
        },
        "id": "mdeDZCp0AyPM",
        "outputId": "572a09e9-6a83-435e-9f6b-89f70845fddf"
      },
      "outputs": [
        {
          "output_type": "stream",
          "name": "stdout",
          "text": [
            "{'banana', 'cherry', 'watermelon', 'apple', 'kiwi'}\n"
          ]
        }
      ],
      "source": [
        "fruits={'apple','banana','kiwi','watermelon','cherry'}\n",
        "print(fruits)"
      ]
    },
    {
      "cell_type": "code",
      "source": [
        "fruits=('apple','banana','kiwi','watermelon','cherry','banana')\n",
        "print(fruits)                     #duplicate values are neglected"
      ],
      "metadata": {
        "colab": {
          "base_uri": "https://localhost:8080/"
        },
        "id": "buH6HqliBnMk",
        "outputId": "78b83f13-049a-4f20-b4a4-fb3d185a67d8"
      },
      "execution_count": 13,
      "outputs": [
        {
          "output_type": "stream",
          "name": "stdout",
          "text": [
            "('apple', 'banana', 'kiwi', 'watermelon', 'cherry', 'banana')\n"
          ]
        }
      ]
    },
    {
      "cell_type": "code",
      "source": [
        "fruits=('apple','banana','kiwi','watermelon','cherry')\n",
        "print(len(fruits))"
      ],
      "metadata": {
        "colab": {
          "base_uri": "https://localhost:8080/"
        },
        "id": "2-IAEQ3oCsN8",
        "outputId": "51fdd1d9-64f4-446d-b62d-7a4f977275a5"
      },
      "execution_count": 14,
      "outputs": [
        {
          "output_type": "stream",
          "name": "stdout",
          "text": [
            "5\n"
          ]
        }
      ]
    },
    {
      "cell_type": "code",
      "source": [
        "fruits={'apple','banana','kiwi','watermelon','cherry'}\n",
        "flowers={'rose','jasmine','lilly'}\n",
        "numbers={1,2,3,4}\n",
        "boolean={True,False,True}\n",
        "print(flowers)\n",
        "print(fruits)\n",
        "print(boolean)\n",
        "print(numbers)"
      ],
      "metadata": {
        "colab": {
          "base_uri": "https://localhost:8080/"
        },
        "id": "gUuZ-ZQDC2m3",
        "outputId": "0ff0eb87-86d0-4eca-d25f-857c76b0ecb6"
      },
      "execution_count": 20,
      "outputs": [
        {
          "output_type": "stream",
          "name": "stdout",
          "text": [
            "{'rose', 'jasmine', 'lilly'}\n",
            "{'banana', 'cherry', 'watermelon', 'apple', 'kiwi'}\n",
            "{False, True}\n",
            "{1, 2, 3, 4}\n"
          ]
        }
      ]
    },
    {
      "cell_type": "code",
      "source": [
        ""
      ],
      "metadata": {
        "id": "lpgVRhPDDZ5M"
      },
      "execution_count": 15,
      "outputs": []
    }
  ]
}