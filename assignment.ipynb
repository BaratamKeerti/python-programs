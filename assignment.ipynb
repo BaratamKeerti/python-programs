{
  "nbformat": 4,
  "nbformat_minor": 0,
  "metadata": {
    "colab": {
      "name": "assignment.ipynb",
      "provenance": [],
      "collapsed_sections": [],
      "authorship_tag": "ABX9TyM3TcL5Hm91jZlTuaf7r4kO",
      "include_colab_link": true
    },
    "kernelspec": {
      "name": "python3",
      "display_name": "Python 3"
    },
    "language_info": {
      "name": "python"
    }
  },
  "cells": [
    {
      "cell_type": "markdown",
      "metadata": {
        "id": "view-in-github",
        "colab_type": "text"
      },
      "source": [
        "<a href=\"https://colab.research.google.com/github/BaratamKeerti/python-programs/blob/main/assignment.ipynb\" target=\"_parent\"><img src=\"https://colab.research.google.com/assets/colab-badge.svg\" alt=\"Open In Colab\"/></a>"
      ]
    },
    {
      "cell_type": "markdown",
      "source": [
        "# ASSIGNMENT PROGRAMS\n",
        "\n",
        "##NAME : BARATAM KEERTI\n",
        "\n",
        "##REGISTRATION NUMBER : VU21CSEN0100313 "
      ],
      "metadata": {
        "id": "xenVfOlWlzBe"
      }
    },
    {
      "cell_type": "code",
      "execution_count": null,
      "metadata": {
        "colab": {
          "base_uri": "https://localhost:8080/"
        },
        "id": "QTi0UxkpkfLQ",
        "outputId": "f1404b50-3763-419c-a540-1c384c975d2e"
      },
      "outputs": [
        {
          "output_type": "stream",
          "name": "stdout",
          "text": [
            "8\n",
            "base is:2\n",
            "exponent is:3\n",
            "8\n",
            "2 3\n",
            "8\n"
          ]
        }
      ],
      "source": [
        "#write a python program to find power of number with recursion and without recursion(input n=2 , p=3)\n",
        "#without recursion\n",
        "n=2\n",
        "p=3\n",
        "print(pow(n,p))\n",
        "\n",
        "#with recursion\n",
        "def power(n,p):\n",
        "  if p==1:\n",
        "    return n\n",
        "  elif p==0:\n",
        "    return 1\n",
        "  else:\n",
        "    return n*power(n,p-1)\n",
        "n=int(input(\"base is:\"))\n",
        "p=int(input(\"exponent is:\"))\n",
        "print(power(n,p))\n",
        "\n",
        "#without recursion\n",
        "a,b=map(int,input().split())\n",
        "print(a**b)"
      ]
    },
    {
      "cell_type": "code",
      "source": [
        "#write a program to sort tuple by total digits (input: list=[(3,4,6,723),(1,2),(134,234,34)])\n",
        "      #output:[(1,2)(3,4,6,723)(34,134,234)]\n",
        "a=eval(input(\"Enter list of tuples: \"))\n",
        "b=sorted(a)\n",
        "print(b)\n",
        "\n",
        "a=[(3,4,6,723),(1,2),(134,234,34)]\n",
        "for i in range(0,len(a)):\n",
        "  a[i]=sorted(a[i])\n",
        "print(sorted(tuple(a)))"
      ],
      "metadata": {
        "colab": {
          "base_uri": "https://localhost:8080/"
        },
        "id": "UUCrvLl7k1l3",
        "outputId": "93455d4b-7257-4cbb-d91b-cad51bdc763b"
      },
      "execution_count": null,
      "outputs": [
        {
          "output_type": "stream",
          "name": "stdout",
          "text": [
            "Enter list of tuples: [(3,4,6,723),(1,2),(134,234,34)]\n",
            "[(1, 2), (3, 4, 6, 723), (134, 234, 34)]\n",
            "[[1, 2], [3, 4, 6, 723], [34, 134, 234]]\n"
          ]
        }
      ]
    },
    {
      "cell_type": "code",
      "source": [
        "a=int(input(\"enter 1st subject marks\"))\n",
        "b=int(input(\"enter 2nd subject marks\"))\n",
        "c=int(input(\"enter 3rd subject marks\"))\n",
        "d=int(input(\"enter 4th subject marks\"))\n",
        "e=int(input(\"enter 5th subject marks\"))\n",
        "avg=(a+b+c+d+e)/5\n",
        "if (avg>=90) :\n",
        " print(\"Grade:o\")\n",
        "elif (avg>=80 and avg<90):\n",
        " print(\"Grade: a+\")\n",
        "elif (avg>=70 and avg<80):\n",
        " print(\"Grade: a\")\n",
        "elif (avg>=60 and avg<70):\n",
        " print(\"Grade: b\")\n",
        "else:\n",
        " print(\"Grade: fail\")"
      ],
      "metadata": {
        "colab": {
          "base_uri": "https://localhost:8080/"
        },
        "id": "UbmLB75Kusf4",
        "outputId": "8713204c-46c7-4302-8349-616579c528d3"
      },
      "execution_count": null,
      "outputs": [
        {
          "output_type": "stream",
          "name": "stdout",
          "text": [
            "enter 1st subject marks90\n",
            "enter 2nd subject marks89\n",
            "enter 3rd subject marks78\n",
            "enter 4th subject marks45\n",
            "enter 5th subject marks78\n",
            "Grade: a\n"
          ]
        }
      ]
    },
    {
      "cell_type": "code",
      "source": [
        "#write a python program that prints 1 if all three given numbers are ascending order.\n",
        "a,b,c=map(int,input().split())\n",
        "if b!=a+1 or c!=b+1:\n",
        "  print(0)\n",
        "elif b==a+1 and c==b+1:\n",
        "  print(1)"
      ],
      "metadata": {
        "colab": {
          "base_uri": "https://localhost:8080/"
        },
        "id": "vopnG82nq49v",
        "outputId": "772fd83b-3dc9-4043-856a-408254248e69"
      },
      "execution_count": null,
      "outputs": [
        {
          "output_type": "stream",
          "name": "stdout",
          "text": [
            "3 4 5\n",
            "1\n"
          ]
        }
      ]
    },
    {
      "cell_type": "code",
      "source": [
        "#check a given number is perfect number are not\n",
        "n=int(input(\"enter a number:\"))\n",
        "sum=0\n",
        "for i in range(1,n):\n",
        "  if n%i==0:\n",
        "    sum+=i\n",
        "if sum==n:\n",
        "  print(\"perfect number\")\n",
        "else:\n",
        "  print(\"not a perfect number\")"
      ],
      "metadata": {
        "colab": {
          "base_uri": "https://localhost:8080/"
        },
        "id": "_kiIMniGyXNN",
        "outputId": "5bb3a1ad-3588-4365-d585-24d600ec9d0b"
      },
      "execution_count": null,
      "outputs": [
        {
          "output_type": "stream",
          "name": "stdout",
          "text": [
            "enter a number:6\n",
            "perfect number\n"
          ]
        }
      ]
    },
    {
      "cell_type": "code",
      "source": [
        "#check a given string is a pallindrome or not\n",
        "a=input(\"enter a string: \")\n",
        "a=a.casefold()\n",
        "b=reversed(a)\n",
        "if list(a)==list(b):\n",
        "  print(\"it is a palindrome\")\n",
        "else:\n",
        "   print(\"it is not a palindrome\")"
      ],
      "metadata": {
        "colab": {
          "base_uri": "https://localhost:8080/"
        },
        "id": "nOU6l2Yi19sK",
        "outputId": "3cc767d7-5ceb-48d2-c036-4b1a50f43133"
      },
      "execution_count": null,
      "outputs": [
        {
          "output_type": "stream",
          "name": "stdout",
          "text": [
            "enter a string: mom\n",
            "it is a palindrome\n"
          ]
        }
      ]
    },
    {
      "cell_type": "code",
      "source": [
        "#find the gcd of two numbers with and without recursion(5,3=1)\n",
        "#without rcursion\n",
        "a,b=map(int,input().split())\n",
        "for i in range(1,a) and range(1,b):\n",
        "  if a%i==0 and b%i==0:\n",
        "    gcd=i\n",
        "print(gcd)\n",
        "#with recursion\n"
      ],
      "metadata": {
        "colab": {
          "base_uri": "https://localhost:8080/"
        },
        "id": "vyXXD3IW4Mk9",
        "outputId": "aa0ea91d-39a7-49e1-bb41-81def129b431"
      },
      "execution_count": null,
      "outputs": [
        {
          "output_type": "stream",
          "name": "stdout",
          "text": [
            "35 63\n",
            "7\n"
          ]
        }
      ]
    },
    {
      "cell_type": "code",
      "source": [
        "#print sum of even digits in a given number\n",
        "n=input(\"enter the value of a number:\")\n",
        "count=0\n",
        "for i in n:\n",
        "  a=int(i)\n",
        "  if a%2==0:\n",
        "    count+=a\n",
        "print(count)"
      ],
      "metadata": {
        "id": "dtQp2CPW50Kb",
        "colab": {
          "base_uri": "https://localhost:8080/",
          "height": 0
        },
        "outputId": "012f148a-ed68-4167-8fa8-48a4084c8553"
      },
      "execution_count": 4,
      "outputs": [
        {
          "output_type": "stream",
          "name": "stdout",
          "text": [
            "enter the value of a number:3453\n",
            "4\n"
          ]
        }
      ]
    },
    {
      "cell_type": "code",
      "source": [
        "#calculate the product of digits of a number\n",
        "n=input(\"enter the value of a number:\")\n",
        "product=1\n",
        "for i in n:\n",
        "  a=int(i)\n",
        "  product*=a\n",
        "print(product)"
      ],
      "metadata": {
        "colab": {
          "base_uri": "https://localhost:8080/",
          "height": 0
        },
        "id": "cf0yeqpq_tW1",
        "outputId": "f3a55c2c-1959-47b6-cbe5-ea5eb8b4316a"
      },
      "execution_count": 1,
      "outputs": [
        {
          "output_type": "stream",
          "name": "stdout",
          "text": [
            "enter the value of a number:312\n",
            "6\n"
          ]
        }
      ]
    },
    {
      "cell_type": "code",
      "source": [
        "#write a program to calculate the sum of squares given by user(123=14)\n",
        "n=input(\"enter the number:\")\n",
        "sum=0\n",
        "for i in n:\n",
        "  a=int(i)\n",
        "  sum+=a*a\n",
        "print(sum)\n",
        "#using function\n",
        "def sum(a):\n",
        "  sum=0\n",
        "  for i in a:\n",
        "    b=int(i)\n",
        "    sum+=b*b\n",
        "  return sum\n",
        "k=input()\n",
        "print(sum(k))"
      ],
      "metadata": {
        "colab": {
          "base_uri": "https://localhost:8080/",
          "height": 0
        },
        "id": "_1492jYNAnhr",
        "outputId": "d297e96d-09c2-4f09-8b16-d20d031d7884"
      },
      "execution_count": 12,
      "outputs": [
        {
          "output_type": "stream",
          "name": "stdout",
          "text": [
            "enter the number:43\n",
            "25\n",
            "43\n",
            "25\n"
          ]
        }
      ]
    },
    {
      "cell_type": "code",
      "source": [
        "#given a string is s= abcdefcba how many times ith character from the front equals last ith element\n",
        "            #print(countfrontbackmatches('abcdefcba')\n",
        "def countfrontbackmatches(s):\n",
        "  count=0\n",
        "  for i in range(len(s)):\n",
        "    if s[i]==s[-i-1]:\n",
        "      count+=1\n",
        "    value=count//2\n",
        "  return value\n",
        "string=input(\"enter the string:\")\n",
        "print(countfrontbackmatches(string))"
      ],
      "metadata": {
        "colab": {
          "base_uri": "https://localhost:8080/",
          "height": 0
        },
        "id": "pSZvohVXE3_a",
        "outputId": "5eab0ffc-35c3-4864-8e39-17ae46aa21b8"
      },
      "execution_count": 22,
      "outputs": [
        {
          "output_type": "stream",
          "name": "stdout",
          "text": [
            "enter the string:abcdefcba\n",
            "3\n"
          ]
        }
      ]
    },
    {
      "cell_type": "code",
      "source": [
        "#given an integer n, return a list containing 1223334444.. and finaly n repeated n times(n>0)\n",
        "          #print(repeatnumtimes(4))\n"
      ],
      "metadata": {
        "colab": {
          "base_uri": "https://localhost:8080/",
          "height": 0
        },
        "id": "R8KfnCDqK3NU",
        "outputId": "671a7b25-a0da-445e-e716-0e25a1255325"
      },
      "execution_count": 26,
      "outputs": [
        {
          "output_type": "stream",
          "name": "stdout",
          "text": [
            "4\n",
            "1\n",
            "4\n",
            "9\n"
          ]
        }
      ]
    },
    {
      "cell_type": "code",
      "source": [
        "#print number of vowels and consonents in a given string(gitam university)\n",
        "vowels=['a','e','i','o','u','A','E','I','O','U']\n",
        "countv=0\n",
        "countc=0\n",
        "string=input()\n",
        "for i in string:\n",
        "  if i in vowels:\n",
        "    countv+=1\n",
        "  else:\n",
        "    countc+=1\n",
        "print(\"No. of vowels in the string =\",countv)\n",
        "print(\"No. of consonants in the string =\",countc)"
      ],
      "metadata": {
        "colab": {
          "base_uri": "https://localhost:8080/",
          "height": 0
        },
        "id": "M3zXLhfAOmPu",
        "outputId": "7986a836-39a4-459f-9530-7aae978da0be"
      },
      "execution_count": 25,
      "outputs": [
        {
          "output_type": "stream",
          "name": "stdout",
          "text": [
            "gitam University\n",
            "No. of vowels in the string = 6\n",
            "No. of consonants in the string = 10\n"
          ]
        }
      ]
    },
    {
      "cell_type": "code",
      "source": [
        "#given two integers a and b.if a <b ,print all numbers between in ascending order.if a>b print all numbers between in decending order\n",
        "a=int(input(\"enter an integer\"))\n",
        "b=int(input(\"enter another integer\"))\n",
        "if a<b:\n",
        "  for i in range(a,b,1):\n",
        "    print(i)\n",
        "elif b<a:\n",
        "  for i in range (a,b,-1):\n",
        "    print(i)\n",
        "else:\n",
        "  pass"
      ],
      "metadata": {
        "colab": {
          "base_uri": "https://localhost:8080/",
          "height": 0
        },
        "id": "30UADvBHMHMO",
        "outputId": "6d9ce032-6cb7-4106-da6e-c30e4bdbea3d"
      },
      "execution_count": 27,
      "outputs": [
        {
          "output_type": "stream",
          "name": "stdout",
          "text": [
            "enter an integer67\n",
            "enter another integer56\n",
            "67\n",
            "66\n",
            "65\n",
            "64\n",
            "63\n",
            "62\n",
            "61\n",
            "60\n",
            "59\n",
            "58\n",
            "57\n"
          ]
        }
      ]
    },
    {
      "cell_type": "code",
      "source": [
        "#program to print greatest of three numbers\n",
        "def greatest(a,b,c):\n",
        " if a>=b and a>=c:\n",
        "   return a\n",
        " elif b>=a and b>=c:\n",
        "   return b\n",
        " else:\n",
        "   return c\n",
        "a,b,c=map(int,input().split())\n",
        "print(\"The greatest among all the three numbers is:\",greatest(a,b,c))"
      ],
      "metadata": {
        "colab": {
          "base_uri": "https://localhost:8080/",
          "height": 0
        },
        "id": "kiwdCV-bToWM",
        "outputId": "73e41633-e4d5-4856-89ae-9526856700ac"
      },
      "execution_count": 34,
      "outputs": [
        {
          "output_type": "stream",
          "name": "stdout",
          "text": [
            "34 34 23\n",
            "The greatest among all the three numbers is: 34\n"
          ]
        }
      ]
    },
    {
      "cell_type": "code",
      "source": [
        "#write a program to print numbers of strings where the string length is 2 or more and the fist and last are same from given input\n",
        "def same(s):\n",
        "  count=0\n",
        "  s=s.split()\n",
        "  for i in s:\n",
        "    if len(i)>=2 and i[0]==i[-1]:\n",
        "      count+=1\n",
        "  return count\n",
        "string=input(\"enter a string\")\n",
        "print(same(string))"
      ],
      "metadata": {
        "colab": {
          "base_uri": "https://localhost:8080/",
          "height": 0
        },
        "id": "atDtCvppVOHV",
        "outputId": "e3ae8f69-7874-4a28-9a44-7f60c947000b"
      },
      "execution_count": 46,
      "outputs": [
        {
          "output_type": "stream",
          "name": "stdout",
          "text": [
            "enter a stringhi mom and dad\n",
            "2\n"
          ]
        }
      ]
    },
    {
      "cell_type": "code",
      "source": [
        "#round trip of 3+3=6 km.no of days and no of round trips.<40000 meters (need to walk more ) >40000 meters (good job)\n",
        "no_of_days=int(input())\n",
        "no_of_roundtrips=int(input())\n",
        "distance=no_of_days*no_of_roundtrips*6000\n",
        "print(distance)\n",
        "if distance<=40000:\n",
        "  print(\"need to walk more\")\n",
        "else:\n",
        "  print(\"good job\")"
      ],
      "metadata": {
        "colab": {
          "base_uri": "https://localhost:8080/",
          "height": 0
        },
        "id": "QAMyJOxQbyxl",
        "outputId": "b317c16d-0a9f-4678-ebaf-411ac96e60e1"
      },
      "execution_count": 48,
      "outputs": [
        {
          "output_type": "stream",
          "name": "stdout",
          "text": [
            "23\n",
            "4\n",
            "552000\n",
            "good job\n"
          ]
        }
      ]
    },
    {
      "cell_type": "code",
      "source": [
        "#given alist of students l and a charter, display thenames of the students whose first character is a gien character\n",
        "                 # print(student details([]))\n",
        "l=eval(input(\"enter the list of students:\"))\n",
        "character=input(\"enter the character:\")\n",
        "for i in l:\n",
        "  if i[0]==character:\n",
        "    print(i)"
      ],
      "metadata": {
        "colab": {
          "base_uri": "https://localhost:8080/",
          "height": 0
        },
        "id": "bw2m-hpzdIgn",
        "outputId": "b0b38e4c-f0c6-409a-fcc1-a3641525a125"
      },
      "execution_count": 51,
      "outputs": [
        {
          "output_type": "stream",
          "name": "stdout",
          "text": [
            "enter the list of students:['abc','def','iou','aef','aei']\n",
            "enter the character:a\n",
            "abc\n",
            "aef\n",
            "aei\n"
          ]
        }
      ]
    },
    {
      "cell_type": "code",
      "source": [
        "#given a list of city names whose length is greater than the given length\n",
        "list=eval(input(\"enter your list of cities:\"))\n",
        "given_length=int(input(\"length=\"))\n",
        "newlist=[]\n",
        "for i in list:\n",
        "  if len(i)>given_length:\n",
        "    newlist.append(i)\n",
        "print(newlist)"
      ],
      "metadata": {
        "colab": {
          "base_uri": "https://localhost:8080/",
          "height": 0
        },
        "id": "pjM3dxm9eZbC",
        "outputId": "465754b5-1d06-4f3b-e527-d27feefeb862"
      },
      "execution_count": 54,
      "outputs": [
        {
          "output_type": "stream",
          "name": "stdout",
          "text": [
            "enter your list of cities:['delhi','goa','bombay','patna','andhra']\n",
            "length=5\n",
            "['bombay', 'andhra']\n"
          ]
        }
      ]
    },
    {
      "cell_type": "code",
      "source": [
        "#write a progam to print prime numbers in given range by using functions(25,50).\n",
        "def prime(a,b):\n",
        "  for i in range(a,b):\n",
        "    k=0\n",
        "    for j in range(2,i):\n",
        "      if i%j==0:\n",
        "        k+=1\n",
        "    if k==0:\n",
        "      print(i)\n",
        "x=int(input(\"enter the lower limit:\"))\n",
        "y=int(input(\"enter the upper limit:\"))\n",
        "prime(x,y)"
      ],
      "metadata": {
        "colab": {
          "base_uri": "https://localhost:8080/",
          "height": 0
        },
        "id": "ocVZJ9bnh5WC",
        "outputId": "63aca189-b7b7-437c-9565-53bd750e7d77"
      },
      "execution_count": 55,
      "outputs": [
        {
          "output_type": "stream",
          "name": "stdout",
          "text": [
            "enter the lower limit:25\n",
            "enter the upper limit:50\n",
            "29\n",
            "31\n",
            "37\n",
            "41\n",
            "43\n",
            "47\n"
          ]
        }
      ]
    },
    {
      "cell_type": "code",
      "source": [
        "#write program to read any month in integer and display days for that month.\n",
        "a=int(input(\"enter the month number:\"))\n",
        "b=[4,6,9,11]\n",
        "if a==2:\n",
        "  print('28/29 days')\n",
        "elif a in b:\n",
        "  print('30 days')\n",
        "else:\n",
        "  print('31 days')"
      ],
      "metadata": {
        "colab": {
          "base_uri": "https://localhost:8080/",
          "height": 0
        },
        "id": "g4Zis-BOiYtY",
        "outputId": "b46d71ac-65db-4871-a0bf-dc8013a1d8d1"
      },
      "execution_count": 56,
      "outputs": [
        {
          "output_type": "stream",
          "name": "stdout",
          "text": [
            "enter the month number:6\n",
            "30 days\n"
          ]
        }
      ]
    },
    {
      "cell_type": "code",
      "source": [
        "#)write a python program to print even length words in string.\n",
        "         #  input:   \" this is a python class\"\n",
        "         # output: this\n",
        "         #             is\n",
        "         #             python\n",
        "a=input(\"enter the string:\")\n",
        "b=a.split()\n",
        "for i in b:\n",
        "  if len(i)%2==0:\n",
        "    print(i)"
      ],
      "metadata": {
        "colab": {
          "base_uri": "https://localhost:8080/",
          "height": 0
        },
        "id": "7LMbhPVSinnl",
        "outputId": "f5afcf6d-510b-4889-b972-3ea9d3ada339"
      },
      "execution_count": 57,
      "outputs": [
        {
          "output_type": "stream",
          "name": "stdout",
          "text": [
            "enter the string:this is a python class\n",
            "this\n",
            "is\n",
            "python\n"
          ]
        }
      ]
    },
    {
      "cell_type": "code",
      "source": [
        "#write a program to read a string from user display first chacter of each word with capital letter.\n",
        "a = input(\"enter a string:\")\n",
        "b = a.split()\n",
        "for i in b:\n",
        "    i = i.capitalize()\n",
        "    print(i,end=' ')"
      ],
      "metadata": {
        "colab": {
          "base_uri": "https://localhost:8080/",
          "height": 0
        },
        "id": "vbvfXOg7i8CL",
        "outputId": "ac64b788-42c5-4d93-81c7-cfdb7141b676"
      },
      "execution_count": 59,
      "outputs": [
        {
          "output_type": "stream",
          "name": "stdout",
          "text": [
            "enter a string:In love with python\n",
            "In Love With Python "
          ]
        }
      ]
    },
    {
      "cell_type": "code",
      "source": [
        "#write a python program to captalise the first and last of each word"
      ],
      "metadata": {
        "id": "_8kDqRpCjpCX"
      },
      "execution_count": null,
      "outputs": []
    },
    {
      "cell_type": "code",
      "source": [
        "#write a python program to convert a list of multiple integers into a single line.\n",
        "           #input:[11,22,33]\n",
        "           #output:112233\n",
        "a=eval(input(\"enter the list of integers:\"))\n",
        "b=''\n",
        "for i in a:\n",
        "  b+=str(i)\n",
        "print(b)"
      ],
      "metadata": {
        "colab": {
          "base_uri": "https://localhost:8080/",
          "height": 0
        },
        "id": "o6_8rfk_j7GT",
        "outputId": "0f3c7b0e-9057-4fca-b16e-3eed4088b817"
      },
      "execution_count": 60,
      "outputs": [
        {
          "output_type": "stream",
          "name": "stdout",
          "text": [
            "enter the list of integers:[1,3,4,2,4,4]\n",
            "134244\n"
          ]
        }
      ]
    }
  ]
}