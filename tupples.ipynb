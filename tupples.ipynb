{
  "nbformat": 4,
  "nbformat_minor": 0,
  "metadata": {
    "colab": {
      "name": "tupples.ipynb",
      "provenance": [],
      "collapsed_sections": [],
      "authorship_tag": "ABX9TyOPNLlHPU3ZrNpIxfRDv9tM",
      "include_colab_link": true
    },
    "kernelspec": {
      "name": "python3",
      "display_name": "Python 3"
    },
    "language_info": {
      "name": "python"
    }
  },
  "cells": [
    {
      "cell_type": "markdown",
      "metadata": {
        "id": "view-in-github",
        "colab_type": "text"
      },
      "source": [
        "<a href=\"https://colab.research.google.com/github/BaratamKeerti/python-programs/blob/main/tupples.ipynb\" target=\"_parent\"><img src=\"https://colab.research.google.com/assets/colab-badge.svg\" alt=\"Open In Colab\"/></a>"
      ]
    },
    {
      "cell_type": "code",
      "execution_count": 1,
      "metadata": {
        "colab": {
          "base_uri": "https://localhost:8080/"
        },
        "id": "BLWkniXVaE2S",
        "outputId": "333401e4-6b39-43d2-8cd9-a2a288620134"
      },
      "outputs": [
        {
          "output_type": "stream",
          "name": "stdout",
          "text": [
            "('apple', 'banana', 'orange')\n"
          ]
        }
      ],
      "source": [
        "fruits=('apple','banana','orange')\n",
        "print(fruits)"
      ]
    },
    {
      "cell_type": "code",
      "source": [
        "fruits=('apple','banana','orange','banana')\n",
        "print(fruits)"
      ],
      "metadata": {
        "colab": {
          "base_uri": "https://localhost:8080/"
        },
        "id": "-eJpH-KWakxT",
        "outputId": "d88f59ec-8780-4a29-9edd-cae3e540fb7e"
      },
      "execution_count": 2,
      "outputs": [
        {
          "output_type": "stream",
          "name": "stdout",
          "text": [
            "('apple', 'banana', 'orange', 'banana')\n"
          ]
        }
      ]
    },
    {
      "cell_type": "code",
      "source": [
        "fruits=('apple','banana','orange')\n",
        "print(len(fruits))"
      ],
      "metadata": {
        "colab": {
          "base_uri": "https://localhost:8080/"
        },
        "id": "-_QDgZRHa1qs",
        "outputId": "228b770f-422c-4456-9d1f-4a13b77ec8f9"
      },
      "execution_count": 3,
      "outputs": [
        {
          "output_type": "stream",
          "name": "stdout",
          "text": [
            "3\n"
          ]
        }
      ]
    },
    {
      "cell_type": "code",
      "source": [
        "fruits=('apple','banana','orange',)\n",
        "print(fruits)\n",
        "print(type(fruits))\n",
        "\n",
        "flower=('tulip')\n",
        "print(flower)\n",
        "print(type(flower))"
      ],
      "metadata": {
        "colab": {
          "base_uri": "https://localhost:8080/"
        },
        "id": "dyOAYnD0a_Cc",
        "outputId": "13e3b186-d9e5-4e65-ca3a-9fbaef7b7778"
      },
      "execution_count": 7,
      "outputs": [
        {
          "output_type": "stream",
          "name": "stdout",
          "text": [
            "('apple', 'banana', 'orange')\n",
            "<class 'tuple'>\n",
            "tulip\n",
            "<class 'str'>\n"
          ]
        }
      ]
    },
    {
      "cell_type": "code",
      "source": [
        "#constructing a tuple\n",
        "fruits=tuple(('apple','banana','watermelon','papaya'))\n",
        "print(fruits)"
      ],
      "metadata": {
        "colab": {
          "base_uri": "https://localhost:8080/"
        },
        "id": "UPwKE4HjbN2b",
        "outputId": "16094289-b4bd-4f9a-a4ea-fa1ceb844d45"
      },
      "execution_count": 9,
      "outputs": [
        {
          "output_type": "stream",
          "name": "stdout",
          "text": [
            "('apple', 'banana', 'watermelon', 'papaya')\n"
          ]
        }
      ]
    },
    {
      "cell_type": "markdown",
      "source": [
        "# *ACCESS TUPLE*"
      ],
      "metadata": {
        "id": "uNBRM5Nbc4D1"
      }
    },
    {
      "cell_type": "code",
      "source": [
        "fruits=('apple','banana','watermelon','papaya')\n",
        "print(fruits[2])"
      ],
      "metadata": {
        "colab": {
          "base_uri": "https://localhost:8080/"
        },
        "id": "KHu1V9zadG7y",
        "outputId": "d91663e3-0c73-4da2-c0fc-882b8ed63918"
      },
      "execution_count": 10,
      "outputs": [
        {
          "output_type": "stream",
          "name": "stdout",
          "text": [
            "watermelon\n"
          ]
        }
      ]
    },
    {
      "cell_type": "code",
      "source": [
        "fruits=tuple(('apple','banana','watermelon','papaya'))\n",
        "print(fruits[-2])"
      ],
      "metadata": {
        "colab": {
          "base_uri": "https://localhost:8080/"
        },
        "id": "ar3RnfPNdRZb",
        "outputId": "76bd3d11-40af-43c2-c39c-383e9bc97e0e"
      },
      "execution_count": 11,
      "outputs": [
        {
          "output_type": "stream",
          "name": "stdout",
          "text": [
            "watermelon\n"
          ]
        }
      ]
    },
    {
      "cell_type": "code",
      "source": [
        "fruits=tuple(('apple','banana','watermelon','papaya'))\n",
        "print(fruits[1:4])"
      ],
      "metadata": {
        "colab": {
          "base_uri": "https://localhost:8080/"
        },
        "id": "7oSrSXfSdjnK",
        "outputId": "cf3cc84c-a6ea-4af7-e6b6-6c35ddda2d97"
      },
      "execution_count": 12,
      "outputs": [
        {
          "output_type": "stream",
          "name": "stdout",
          "text": [
            "('banana', 'watermelon', 'papaya')\n"
          ]
        }
      ]
    },
    {
      "cell_type": "code",
      "source": [
        "fruits=tuple(('apple','banana','watermelon','papaya'))\n",
        "print(fruits[:3])"
      ],
      "metadata": {
        "colab": {
          "base_uri": "https://localhost:8080/"
        },
        "id": "IY_raJ3ydqu5",
        "outputId": "595ed4bd-6001-4b43-ad91-4679ea3f43ae"
      },
      "execution_count": 14,
      "outputs": [
        {
          "output_type": "stream",
          "name": "stdout",
          "text": [
            "('apple', 'banana', 'watermelon')\n"
          ]
        }
      ]
    },
    {
      "cell_type": "code",
      "source": [
        "fruits=tuple(('apple','banana','watermelon','papaya'))\n",
        "print(fruits[1:])"
      ],
      "metadata": {
        "colab": {
          "base_uri": "https://localhost:8080/"
        },
        "id": "bMv7Qu2Fr0Gj",
        "outputId": "9ddb514f-a9cf-4516-cd72-03e185b3e26d"
      },
      "execution_count": 15,
      "outputs": [
        {
          "output_type": "stream",
          "name": "stdout",
          "text": [
            "('banana', 'watermelon', 'papaya')\n"
          ]
        }
      ]
    },
    {
      "cell_type": "code",
      "source": [
        "fruits=tuple(('apple','banana','watermelon','papaya'))\n",
        "print(fruits[-4:-1])"
      ],
      "metadata": {
        "colab": {
          "base_uri": "https://localhost:8080/"
        },
        "id": "WsnBclm7sniC",
        "outputId": "af748ee5-ed71-4e72-b75c-2c4793a4f43b"
      },
      "execution_count": 16,
      "outputs": [
        {
          "output_type": "stream",
          "name": "stdout",
          "text": [
            "('apple', 'banana', 'watermelon')\n"
          ]
        }
      ]
    },
    {
      "cell_type": "code",
      "source": [
        "fruits=tuple(('apple','banana','watermelon','papaya'))\n",
        "if 'apple' in fruits:\n",
        " print(\"apple is in the list \")\n",
        "else:\n",
        "  print(\"apple is not in the list\")"
      ],
      "metadata": {
        "colab": {
          "base_uri": "https://localhost:8080/"
        },
        "id": "Dj0l_xWGtSbi",
        "outputId": "dbdaadb0-f857-4d54-9ee7-43dac0a9f7dd"
      },
      "execution_count": 18,
      "outputs": [
        {
          "output_type": "stream",
          "name": "stdout",
          "text": [
            "apple is in the list \n"
          ]
        }
      ]
    },
    {
      "cell_type": "code",
      "source": [
        "fruits=tuple(('apple','banana','watermelon','papaya'))\n",
        "fruit=list(fruits)\n",
        "fruit[1]='kiwi'\n",
        "print(fruits)"
      ],
      "metadata": {
        "colab": {
          "base_uri": "https://localhost:8080/"
        },
        "id": "rrDCOeUZvGMJ",
        "outputId": "ac7bbf5a-75c7-4ffa-f294-dd947f2c48e1"
      },
      "execution_count": 22,
      "outputs": [
        {
          "output_type": "stream",
          "name": "stdout",
          "text": [
            "('apple', 'banana', 'watermelon', 'papaya')\n"
          ]
        }
      ]
    },
    {
      "cell_type": "code",
      "source": [
        ""
      ],
      "metadata": {
        "id": "mLIBvB-3v8Mg"
      },
      "execution_count": null,
      "outputs": []
    }
  ]
}