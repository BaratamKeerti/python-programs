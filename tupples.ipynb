{
  "nbformat": 4,
  "nbformat_minor": 0,
  "metadata": {
    "colab": {
      "name": "tupples.ipynb",
      "provenance": [],
      "collapsed_sections": [],
      "authorship_tag": "ABX9TyNAZOq/JGSBHODzafeiGJF2",
      "include_colab_link": true
    },
    "kernelspec": {
      "name": "python3",
      "display_name": "Python 3"
    },
    "language_info": {
      "name": "python"
    }
  },
  "cells": [
    {
      "cell_type": "markdown",
      "metadata": {
        "id": "view-in-github",
        "colab_type": "text"
      },
      "source": [
        "<a href=\"https://colab.research.google.com/github/BaratamKeerti/python-programs/blob/main/tupples.ipynb\" target=\"_parent\"><img src=\"https://colab.research.google.com/assets/colab-badge.svg\" alt=\"Open In Colab\"/></a>"
      ]
    },
    {
      "cell_type": "code",
      "execution_count": null,
      "metadata": {
        "colab": {
          "base_uri": "https://localhost:8080/"
        },
        "id": "BLWkniXVaE2S",
        "outputId": "333401e4-6b39-43d2-8cd9-a2a288620134"
      },
      "outputs": [
        {
          "output_type": "stream",
          "name": "stdout",
          "text": [
            "('apple', 'banana', 'orange')\n"
          ]
        }
      ],
      "source": [
        "fruits=('apple','banana','orange')\n",
        "print(fruits)"
      ]
    },
    {
      "cell_type": "code",
      "source": [
        "fruits=('apple','banana','orange','banana')\n",
        "print(fruits)"
      ],
      "metadata": {
        "colab": {
          "base_uri": "https://localhost:8080/"
        },
        "id": "-eJpH-KWakxT",
        "outputId": "d88f59ec-8780-4a29-9edd-cae3e540fb7e"
      },
      "execution_count": null,
      "outputs": [
        {
          "output_type": "stream",
          "name": "stdout",
          "text": [
            "('apple', 'banana', 'orange', 'banana')\n"
          ]
        }
      ]
    },
    {
      "cell_type": "code",
      "source": [
        "fruits=('apple','banana','orange')\n",
        "print(len(fruits))"
      ],
      "metadata": {
        "colab": {
          "base_uri": "https://localhost:8080/"
        },
        "id": "-_QDgZRHa1qs",
        "outputId": "228b770f-422c-4456-9d1f-4a13b77ec8f9"
      },
      "execution_count": null,
      "outputs": [
        {
          "output_type": "stream",
          "name": "stdout",
          "text": [
            "3\n"
          ]
        }
      ]
    },
    {
      "cell_type": "code",
      "source": [
        "fruits=('apple','banana','orange',)\n",
        "print(fruits)\n",
        "print(type(fruits))\n",
        "\n",
        "flower=('tulip')\n",
        "print(flower)\n",
        "print(type(flower))"
      ],
      "metadata": {
        "colab": {
          "base_uri": "https://localhost:8080/"
        },
        "id": "dyOAYnD0a_Cc",
        "outputId": "13e3b186-d9e5-4e65-ca3a-9fbaef7b7778"
      },
      "execution_count": null,
      "outputs": [
        {
          "output_type": "stream",
          "name": "stdout",
          "text": [
            "('apple', 'banana', 'orange')\n",
            "<class 'tuple'>\n",
            "tulip\n",
            "<class 'str'>\n"
          ]
        }
      ]
    },
    {
      "cell_type": "code",
      "source": [
        "#constructing a tuple\n",
        "fruits=tuple(('apple','banana','watermelon','papaya'))\n",
        "print(fruits)"
      ],
      "metadata": {
        "colab": {
          "base_uri": "https://localhost:8080/"
        },
        "id": "UPwKE4HjbN2b",
        "outputId": "16094289-b4bd-4f9a-a4ea-fa1ceb844d45"
      },
      "execution_count": null,
      "outputs": [
        {
          "output_type": "stream",
          "name": "stdout",
          "text": [
            "('apple', 'banana', 'watermelon', 'papaya')\n"
          ]
        }
      ]
    },
    {
      "cell_type": "markdown",
      "source": [
        "# *ACCESS TUPLE*"
      ],
      "metadata": {
        "id": "uNBRM5Nbc4D1"
      }
    },
    {
      "cell_type": "code",
      "source": [
        "fruits=('apple','banana','watermelon','papaya')\n",
        "print(fruits[2])"
      ],
      "metadata": {
        "colab": {
          "base_uri": "https://localhost:8080/"
        },
        "id": "KHu1V9zadG7y",
        "outputId": "d91663e3-0c73-4da2-c0fc-882b8ed63918"
      },
      "execution_count": null,
      "outputs": [
        {
          "output_type": "stream",
          "name": "stdout",
          "text": [
            "watermelon\n"
          ]
        }
      ]
    },
    {
      "cell_type": "code",
      "source": [
        "fruits=tuple(('apple','banana','watermelon','papaya'))\n",
        "print(fruits[-2])"
      ],
      "metadata": {
        "colab": {
          "base_uri": "https://localhost:8080/"
        },
        "id": "ar3RnfPNdRZb",
        "outputId": "76bd3d11-40af-43c2-c39c-383e9bc97e0e"
      },
      "execution_count": null,
      "outputs": [
        {
          "output_type": "stream",
          "name": "stdout",
          "text": [
            "watermelon\n"
          ]
        }
      ]
    },
    {
      "cell_type": "code",
      "source": [
        "fruits=tuple(('apple','banana','watermelon','papaya'))\n",
        "print(fruits[1:4])"
      ],
      "metadata": {
        "colab": {
          "base_uri": "https://localhost:8080/"
        },
        "id": "7oSrSXfSdjnK",
        "outputId": "cf3cc84c-a6ea-4af7-e6b6-6c35ddda2d97"
      },
      "execution_count": null,
      "outputs": [
        {
          "output_type": "stream",
          "name": "stdout",
          "text": [
            "('banana', 'watermelon', 'papaya')\n"
          ]
        }
      ]
    },
    {
      "cell_type": "code",
      "source": [
        "fruits=tuple(('apple','banana','watermelon','papaya'))\n",
        "print(fruits[:3])"
      ],
      "metadata": {
        "colab": {
          "base_uri": "https://localhost:8080/"
        },
        "id": "IY_raJ3ydqu5",
        "outputId": "595ed4bd-6001-4b43-ad91-4679ea3f43ae"
      },
      "execution_count": null,
      "outputs": [
        {
          "output_type": "stream",
          "name": "stdout",
          "text": [
            "('apple', 'banana', 'watermelon')\n"
          ]
        }
      ]
    },
    {
      "cell_type": "code",
      "source": [
        "fruits=tuple(('apple','banana','watermelon','papaya'))\n",
        "print(fruits[1:])"
      ],
      "metadata": {
        "colab": {
          "base_uri": "https://localhost:8080/"
        },
        "id": "bMv7Qu2Fr0Gj",
        "outputId": "9ddb514f-a9cf-4516-cd72-03e185b3e26d"
      },
      "execution_count": null,
      "outputs": [
        {
          "output_type": "stream",
          "name": "stdout",
          "text": [
            "('banana', 'watermelon', 'papaya')\n"
          ]
        }
      ]
    },
    {
      "cell_type": "code",
      "source": [
        "fruits=tuple(('apple','banana','watermelon','papaya'))\n",
        "print(fruits[-4:-1])"
      ],
      "metadata": {
        "colab": {
          "base_uri": "https://localhost:8080/"
        },
        "id": "WsnBclm7sniC",
        "outputId": "af748ee5-ed71-4e72-b75c-2c4793a4f43b"
      },
      "execution_count": null,
      "outputs": [
        {
          "output_type": "stream",
          "name": "stdout",
          "text": [
            "('apple', 'banana', 'watermelon')\n"
          ]
        }
      ]
    },
    {
      "cell_type": "code",
      "source": [
        "fruits=tuple(('apple','banana','watermelon','papaya'))\n",
        "if 'apple' in fruits:\n",
        " print(\"apple is in the list \")\n",
        "else:\n",
        "  print(\"apple is not in the list\")"
      ],
      "metadata": {
        "colab": {
          "base_uri": "https://localhost:8080/"
        },
        "id": "Dj0l_xWGtSbi",
        "outputId": "dbdaadb0-f857-4d54-9ee7-43dac0a9f7dd"
      },
      "execution_count": null,
      "outputs": [
        {
          "output_type": "stream",
          "name": "stdout",
          "text": [
            "apple is in the list \n"
          ]
        }
      ]
    },
    {
      "cell_type": "markdown",
      "source": [
        "# *UPDATING TUPLES*"
      ],
      "metadata": {
        "id": "CrMEuSF6utSM"
      }
    },
    {
      "cell_type": "code",
      "source": [
        "fruits=tuple(('apple','banana','watermelon','papaya'))\n",
        "updated_fruits=list(fruits)\n",
        "updated_fruits[1]='kiwi'\n",
        "print(updated_fruits)\n",
        "print(tuple(updated_fruits))"
      ],
      "metadata": {
        "colab": {
          "base_uri": "https://localhost:8080/"
        },
        "id": "rrDCOeUZvGMJ",
        "outputId": "c5e6b874-29fc-42c5-ebc4-06f9ec421823"
      },
      "execution_count": 7,
      "outputs": [
        {
          "output_type": "stream",
          "name": "stdout",
          "text": [
            "['apple', 'kiwi', 'watermelon', 'papaya']\n",
            "('apple', 'kiwi', 'watermelon', 'papaya')\n"
          ]
        }
      ]
    },
    {
      "cell_type": "code",
      "source": [
        "fruits=('apple','banana','kiwi','watermelon')\n",
        "updated_fruits=list(fruits)\n",
        "updated_fruits.append('dragon fruit')\n",
        "print(tuple(updated_fruits))"
      ],
      "metadata": {
        "id": "mLIBvB-3v8Mg",
        "colab": {
          "base_uri": "https://localhost:8080/"
        },
        "outputId": "b0782a31-26fa-4fc8-822c-79fec696ef24"
      },
      "execution_count": 6,
      "outputs": [
        {
          "output_type": "stream",
          "name": "stdout",
          "text": [
            "('apple', 'banana', 'kiwi', 'watermelon', 'dragon fruit')\n"
          ]
        }
      ]
    },
    {
      "cell_type": "code",
      "source": [
        "#adding a tupple to a tupple\n",
        "fruits=('apple','banana','kiwi','watermelon')\n",
        "new_fruit=('dragon fruit',)\n",
        "fruits+=new_fruit\n",
        "print(fruits)"
      ],
      "metadata": {
        "colab": {
          "base_uri": "https://localhost:8080/"
        },
        "id": "AF0I6V_gwnpr",
        "outputId": "63657ee1-eaac-4e79-b678-388e53e1e895"
      },
      "execution_count": 8,
      "outputs": [
        {
          "output_type": "stream",
          "name": "stdout",
          "text": [
            "('apple', 'banana', 'kiwi', 'watermelon', 'dragon fruit')\n"
          ]
        }
      ]
    },
    {
      "cell_type": "code",
      "source": [
        "#remove\n",
        "fruits=('apple','banana','kiwi','watermelon')\n",
        "updated_fruits=list(fruits)\n",
        "updated_fruits.remove('apple')\n",
        "print(tuple(updated_fruits))"
      ],
      "metadata": {
        "colab": {
          "base_uri": "https://localhost:8080/"
        },
        "id": "IudDSiLjxKJq",
        "outputId": "9bec4c60-566a-4a0f-878e-9dd4e9f37345"
      },
      "execution_count": 10,
      "outputs": [
        {
          "output_type": "stream",
          "name": "stdout",
          "text": [
            "('banana', 'kiwi', 'watermelon')\n"
          ]
        }
      ]
    },
    {
      "cell_type": "code",
      "source": [
        "#del\n",
        "fruits=('apple','banana','kiwi','watermelon')\n",
        "del fruits\n",
        "print(fruits)                    #this will raise an error because the tuple no longer exists"
      ],
      "metadata": {
        "colab": {
          "base_uri": "https://localhost:8080/",
          "height": 200
        },
        "id": "nXT1BRrIxmQ6",
        "outputId": "290e2cf8-1e08-41a9-e4ae-cf1d7f5a99fd"
      },
      "execution_count": 11,
      "outputs": [
        {
          "output_type": "error",
          "ename": "NameError",
          "evalue": "ignored",
          "traceback": [
            "\u001b[0;31m---------------------------------------------------------------------------\u001b[0m",
            "\u001b[0;31mNameError\u001b[0m                                 Traceback (most recent call last)",
            "\u001b[0;32m<ipython-input-11-ba22080b5ebd>\u001b[0m in \u001b[0;36m<module>\u001b[0;34m()\u001b[0m\n\u001b[1;32m      2\u001b[0m \u001b[0mfruits\u001b[0m\u001b[0;34m=\u001b[0m\u001b[0;34m(\u001b[0m\u001b[0;34m'apple'\u001b[0m\u001b[0;34m,\u001b[0m\u001b[0;34m'banana'\u001b[0m\u001b[0;34m,\u001b[0m\u001b[0;34m'kiwi'\u001b[0m\u001b[0;34m,\u001b[0m\u001b[0;34m'watermelon'\u001b[0m\u001b[0;34m)\u001b[0m\u001b[0;34m\u001b[0m\u001b[0;34m\u001b[0m\u001b[0m\n\u001b[1;32m      3\u001b[0m \u001b[0;32mdel\u001b[0m \u001b[0mfruits\u001b[0m\u001b[0;34m\u001b[0m\u001b[0;34m\u001b[0m\u001b[0m\n\u001b[0;32m----> 4\u001b[0;31m \u001b[0mprint\u001b[0m\u001b[0;34m(\u001b[0m\u001b[0mfruits\u001b[0m\u001b[0;34m)\u001b[0m\u001b[0;34m\u001b[0m\u001b[0;34m\u001b[0m\u001b[0m\n\u001b[0m",
            "\u001b[0;31mNameError\u001b[0m: name 'fruits' is not defined"
          ]
        }
      ]
    },
    {
      "cell_type": "markdown",
      "source": [
        "# *UNPACK TUPLES*"
      ],
      "metadata": {
        "id": "gxpl34uVyay-"
      }
    },
    {
      "cell_type": "code",
      "source": [
        "#unpacking tuples\n",
        "fruits=('apple','banana','kiwi','watermelon')\n",
        "(a,b,c,d)=fruits\n",
        "print(a,b,c,d)"
      ],
      "metadata": {
        "colab": {
          "base_uri": "https://localhost:8080/"
        },
        "id": "aAkdPJAWyfvr",
        "outputId": "34994f4b-f496-48fb-a9d9-69290af88434"
      },
      "execution_count": 18,
      "outputs": [
        {
          "output_type": "stream",
          "name": "stdout",
          "text": [
            "apple banana kiwi watermelon\n"
          ]
        }
      ]
    },
    {
      "cell_type": "code",
      "source": [
        "fruits=('apple','banana','kiwi','watermelon')\n",
        "(a,e,i,o)=fruits\n",
        "print(a, e, i, o)"
      ],
      "metadata": {
        "colab": {
          "base_uri": "https://localhost:8080/"
        },
        "id": "kHHtqgCdy54a",
        "outputId": "b94f2eaa-8e42-4a74-c4ed-c53d9f573b6a"
      },
      "execution_count": 26,
      "outputs": [
        {
          "output_type": "stream",
          "name": "stdout",
          "text": [
            "apple banana kiwi watermelon\n"
          ]
        }
      ]
    },
    {
      "cell_type": "code",
      "source": [
        "#using asterik\n",
        "fruits=('apple','banana','kiwi','watermelon')\n",
        "(p,q,*r)=fruits\n",
        "print(p)\n",
        "print(q)\n",
        "print(r)"
      ],
      "metadata": {
        "colab": {
          "base_uri": "https://localhost:8080/"
        },
        "id": "aFWzak_Xzdya",
        "outputId": "362c7173-3f8e-46ec-acf5-0e20eb52174e"
      },
      "execution_count": 28,
      "outputs": [
        {
          "output_type": "stream",
          "name": "stdout",
          "text": [
            "apple\n",
            "banana\n",
            "['kiwi', 'watermelon']\n"
          ]
        }
      ]
    },
    {
      "cell_type": "code",
      "source": [
        "fruits=('apple','banana','kiwi','watermelon','cherry')\n",
        "(u,*v,w)=fruits\n",
        "print(u)\n",
        "print(v)\n",
        "print(w)"
      ],
      "metadata": {
        "colab": {
          "base_uri": "https://localhost:8080/"
        },
        "id": "e-FJWDe60jp7",
        "outputId": "b40e9fc4-0df9-4626-db80-dd03496c690e"
      },
      "execution_count": 31,
      "outputs": [
        {
          "output_type": "stream",
          "name": "stdout",
          "text": [
            "apple\n",
            "['banana', 'kiwi', 'watermelon']\n",
            "cherry\n"
          ]
        }
      ]
    },
    {
      "cell_type": "markdown",
      "source": [
        "# *LOOP TUPLES*"
      ],
      "metadata": {
        "id": "aSX31LsN1GKt"
      }
    },
    {
      "cell_type": "code",
      "source": [
        "#for loop in tuple\n",
        "fruits=('apple','banana','kiwi','watermelon','cherry')\n",
        "for fruit in fruits:\n",
        "  print(fruit)"
      ],
      "metadata": {
        "colab": {
          "base_uri": "https://localhost:8080/"
        },
        "id": "ZyxRuxAY1J8L",
        "outputId": "0327c4f1-4783-4552-c0e3-0a88a2f0132e"
      },
      "execution_count": 32,
      "outputs": [
        {
          "output_type": "stream",
          "name": "stdout",
          "text": [
            "apple\n",
            "banana\n",
            "kiwi\n",
            "watermelon\n",
            "cherry\n"
          ]
        }
      ]
    },
    {
      "cell_type": "code",
      "source": [
        "#for loop in tuple using len\n",
        "fruits=('apple','banana','kiwi','watermelon','cherry')\n",
        "for fruit in range(len(fruits)):\n",
        "  print(fruit,fruits[fruit])"
      ],
      "metadata": {
        "colab": {
          "base_uri": "https://localhost:8080/"
        },
        "id": "pjThvdCz1tyr",
        "outputId": "8cf73050-7143-4d73-f870-b81fc6a66611"
      },
      "execution_count": 37,
      "outputs": [
        {
          "output_type": "stream",
          "name": "stdout",
          "text": [
            "0 apple\n",
            "1 banana\n",
            "2 kiwi\n",
            "3 watermelon\n",
            "4 cherry\n"
          ]
        }
      ]
    },
    {
      "cell_type": "code",
      "source": [
        "#while loop\n",
        "fruits=('apple','banana','kiwi','watermelon','cherry')\n",
        "i=0\n",
        "while i<len(fruits):\n",
        "  print(i,fruits[i])\n",
        "  i=i+1"
      ],
      "metadata": {
        "colab": {
          "base_uri": "https://localhost:8080/"
        },
        "id": "h7zRN4U02rZD",
        "outputId": "9a276f3e-9cbd-4a12-b6a8-6f1fcfa15e83"
      },
      "execution_count": 42,
      "outputs": [
        {
          "output_type": "stream",
          "name": "stdout",
          "text": [
            "0 apple\n",
            "1 banana\n",
            "2 kiwi\n",
            "3 watermelon\n",
            "4 cherry\n"
          ]
        }
      ]
    },
    {
      "cell_type": "markdown",
      "source": [
        "# *JOIN TUPLES*"
      ],
      "metadata": {
        "id": "xuypZOTK4FWB"
      }
    },
    {
      "cell_type": "code",
      "source": [
        "fruits1=('apple','banana','kiwi','watermelon','cherry')\n",
        "fruits2=('raspberry','mango')\n",
        "num=(1,2,3,4)\n",
        "print(fruits1+fruits2+num)\n"
      ],
      "metadata": {
        "colab": {
          "base_uri": "https://localhost:8080/"
        },
        "id": "vWQwd2AE33OC",
        "outputId": "870f4c19-f0e3-407b-fdd4-cabcb573217f"
      },
      "execution_count": 43,
      "outputs": [
        {
          "output_type": "stream",
          "name": "stdout",
          "text": [
            "('apple', 'banana', 'kiwi', 'watermelon', 'cherry', 'raspberry', 'mango', 1, 2, 3, 4)\n"
          ]
        }
      ]
    },
    {
      "cell_type": "code",
      "source": [
        "#multilpy tuples\n",
        "fruits=('apple','banana','kiwi','watermelon','cherry')\n",
        "updated_fruits=fruits*2\n",
        "print(fruits)\n",
        "print(updated_fruits)"
      ],
      "metadata": {
        "colab": {
          "base_uri": "https://localhost:8080/"
        },
        "id": "Ph_ixoqq5PTS",
        "outputId": "23fcf52d-0b81-4ab3-bac4-f00cd214ecda"
      },
      "execution_count": 45,
      "outputs": [
        {
          "output_type": "stream",
          "name": "stdout",
          "text": [
            "('apple', 'banana', 'kiwi', 'watermelon', 'cherry')\n",
            "('apple', 'banana', 'kiwi', 'watermelon', 'cherry', 'apple', 'banana', 'kiwi', 'watermelon', 'cherry')\n"
          ]
        }
      ]
    },
    {
      "cell_type": "markdown",
      "source": [
        "# *TUPLE METHODS*"
      ],
      "metadata": {
        "id": "mCwGStel6rge"
      }
    },
    {
      "cell_type": "code",
      "source": [
        "#count\n",
        "numbers=(1,4,2,5,6,3,7,4,8,3,12,4,8,65,546)\n",
        "print(numbers.count(4))"
      ],
      "metadata": {
        "colab": {
          "base_uri": "https://localhost:8080/"
        },
        "id": "c2RgYwb76xHM",
        "outputId": "a89cdfc3-1140-4ec2-dc97-d4d60a891fbb"
      },
      "execution_count": 49,
      "outputs": [
        {
          "output_type": "stream",
          "name": "stdout",
          "text": [
            "3\n"
          ]
        }
      ]
    },
    {
      "cell_type": "code",
      "source": [
        "#index\n",
        "fruits=('apple','banana','kiwi','watermelon','cherry','banana')\n",
        "print(fruits.index('banana'))                                      #The index() method finds the first occurrence of the specified value."
      ],
      "metadata": {
        "colab": {
          "base_uri": "https://localhost:8080/"
        },
        "id": "YV2xy6eb7AkL",
        "outputId": "9c10eeab-adcd-4b7e-d959-2da0ca046b1a"
      },
      "execution_count": 51,
      "outputs": [
        {
          "output_type": "stream",
          "name": "stdout",
          "text": [
            "1\n"
          ]
        }
      ]
    },
    {
      "cell_type": "code",
      "source": [
        ""
      ],
      "metadata": {
        "id": "x0uob3nl7yCi"
      },
      "execution_count": null,
      "outputs": []
    }
  ]
}